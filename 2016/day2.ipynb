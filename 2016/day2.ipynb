{
 "cells": [
  {
   "cell_type": "code",
   "id": "initial_id",
   "metadata": {
    "collapsed": true,
    "ExecuteTime": {
     "end_time": "2025-01-02T22:23:24.961391Z",
     "start_time": "2025-01-02T22:23:24.953852Z"
    }
   },
   "source": [
    "from collections import defaultdict\n",
    "import lib.aoc.grid2d.grid as grid2d\n",
    "import lib.aoc.grid2d.vector as vector2d"
   ],
   "outputs": [],
   "execution_count": 1
  },
  {
   "metadata": {
    "ExecuteTime": {
     "end_time": "2025-01-02T22:23:25.217169Z",
     "start_time": "2025-01-02T22:23:25.214246Z"
    }
   },
   "cell_type": "code",
   "source": [
    "with open('../data/2016/day2.txt', 'r') as f:\n",
    "   data = f.read()"
   ],
   "id": "901d774c77ad3ef7",
   "outputs": [],
   "execution_count": 2
  },
  {
   "metadata": {
    "ExecuteTime": {
     "end_time": "2025-01-02T22:23:26.130490Z",
     "start_time": "2025-01-02T22:23:26.125531Z"
    }
   },
   "cell_type": "code",
   "source": [
    "directions = {d:v for d,v in list(zip(('U','R','D','L'), vector2d.NESW))}\n",
    "\n",
    "def code_from_keypad(keypad, instructions):\n",
    "    code = \"\"\n",
    "    at = next(iter(grid2d.find_coords(keypad, '5')))\n",
    "\n",
    "    for digit in instructions:\n",
    "        for i in digit:\n",
    "            to = vector2d.add(at, directions[i])\n",
    "            if keypad.get(to): at = to\n",
    "        code += keypad[at]\n",
    "    return code"
   ],
   "id": "3f5c3abc0110bfd8",
   "outputs": [],
   "execution_count": 3
  },
  {
   "metadata": {
    "ExecuteTime": {
     "end_time": "2025-01-02T22:23:26.483129Z",
     "start_time": "2025-01-02T22:23:26.478715Z"
    }
   },
   "cell_type": "code",
   "source": [
    "# Part 1\n",
    "keypad = grid2d.parse(\"123\\n456\\n789\")\n",
    "instructions = [list(line) for line in  data.splitlines()]\n",
    "print(\"Part 1:\", code_from_keypad(keypad, instructions))"
   ],
   "id": "ac19e987bcc0d58f",
   "outputs": [
    {
     "name": "stdout",
     "output_type": "stream",
     "text": [
      "Part 1: 69642\n"
     ]
    }
   ],
   "execution_count": 4
  },
  {
   "metadata": {
    "ExecuteTime": {
     "end_time": "2025-01-02T22:23:26.791377Z",
     "start_time": "2025-01-02T22:23:26.785093Z"
    }
   },
   "cell_type": "code",
   "source": [
    "# Part 2\n",
    "keypad = grid2d.parse(\"  1\\n 234\\n56789\\n ABC\\n  D\")\n",
    "keypad = defaultdict(None, {k:v for k,v in keypad.items() if v != ' '})\n",
    "instructions = [list(line) for line in  data.splitlines()]\n",
    "print(\"Part 2:\", code_from_keypad(keypad, instructions))"
   ],
   "id": "925cd3c196fc6b8c",
   "outputs": [
    {
     "name": "stdout",
     "output_type": "stream",
     "text": [
      "Part 2: 8CB23\n"
     ]
    }
   ],
   "execution_count": 5
  }
 ],
 "metadata": {
  "kernelspec": {
   "display_name": "Python 3",
   "language": "python",
   "name": "python3"
  },
  "language_info": {
   "codemirror_mode": {
    "name": "ipython",
    "version": 2
   },
   "file_extension": ".py",
   "mimetype": "text/x-python",
   "name": "python",
   "nbconvert_exporter": "python",
   "pygments_lexer": "ipython2",
   "version": "2.7.6"
  }
 },
 "nbformat": 4,
 "nbformat_minor": 5
}
