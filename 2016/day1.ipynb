{
 "cells": [
  {
   "cell_type": "code",
   "execution_count": 1,
   "outputs": [],
   "source": [
    "import lib.aoc.grid2d.vector as vector2d\n",
    "import lib.aoc.grid2d.grid as grid2d"
   ],
   "metadata": {
    "collapsed": false,
    "ExecuteTime": {
     "end_time": "2024-12-12T02:38:34.498147Z",
     "start_time": "2024-12-12T02:38:34.494338Z"
    }
   }
  },
  {
   "cell_type": "code",
   "execution_count": 2,
   "outputs": [],
   "source": [
    "with open('../data/2016/day1.txt') as f:\n",
    "    data = f.read()"
   ],
   "metadata": {
    "collapsed": false,
    "ExecuteTime": {
     "end_time": "2024-12-12T02:38:34.825756Z",
     "start_time": "2024-12-12T02:38:34.817329Z"
    }
   }
  },
  {
   "cell_type": "code",
   "execution_count": 3,
   "outputs": [],
   "source": [
    "directions = [(d[0], int(d[1:])) for d in data.split(', ')]"
   ],
   "metadata": {
    "collapsed": false,
    "ExecuteTime": {
     "end_time": "2024-12-12T02:38:35.147473Z",
     "start_time": "2024-12-12T02:38:35.142313Z"
    }
   }
  },
  {
   "cell_type": "code",
   "execution_count": 4,
   "outputs": [
    {
     "name": "stdout",
     "output_type": "stream",
     "text": [
      "Part 1: 243\n",
      "Part 2: 142\n"
     ]
    }
   ],
   "source": [
    "at, heading = (0,0), (-1,0)\n",
    "visited = set()\n",
    "part2 = ()\n",
    "\n",
    "for lr, steps in directions:\n",
    "    heading = vector2d.rotate(heading, lr)\n",
    "    to = vector2d.add(at, vector2d.mul(heading, steps))\n",
    "\n",
    "    if not part2:\n",
    "        path = grid2d.fill(at, to)\n",
    "        path.remove(at)\n",
    "        collisions = path & visited\n",
    "        visited = visited | path\n",
    "        if collisions: part2 = next(iter(collisions))\n",
    "\n",
    "    at = to\n",
    "\n",
    "print(f\"Part 1: {sum(map(abs, at))}\")\n",
    "print(f\"Part 2: {sum(map(abs, part2))}\")"
   ],
   "metadata": {
    "collapsed": false,
    "ExecuteTime": {
     "end_time": "2024-12-12T02:38:35.497089Z",
     "start_time": "2024-12-12T02:38:35.493614Z"
    }
   }
  }
 ],
 "metadata": {
  "kernelspec": {
   "display_name": "Python 3",
   "language": "python",
   "name": "python3"
  },
  "language_info": {
   "codemirror_mode": {
    "name": "ipython",
    "version": 2
   },
   "file_extension": ".py",
   "mimetype": "text/x-python",
   "name": "python",
   "nbconvert_exporter": "python",
   "pygments_lexer": "ipython2",
   "version": "2.7.6"
  }
 },
 "nbformat": 4,
 "nbformat_minor": 0
}
