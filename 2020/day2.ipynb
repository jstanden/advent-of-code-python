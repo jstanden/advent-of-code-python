{
 "cells": [
  {
   "cell_type": "code",
   "id": "initial_id",
   "metadata": {
    "collapsed": true,
    "ExecuteTime": {
     "end_time": "2025-01-02T23:35:54.384277Z",
     "start_time": "2025-01-02T23:35:54.378385Z"
    }
   },
   "source": [
    "from collections import Counter\n",
    "from operator import xor\n",
    "import re"
   ],
   "outputs": [],
   "execution_count": 1
  },
  {
   "metadata": {
    "ExecuteTime": {
     "end_time": "2025-01-02T23:35:54.513593Z",
     "start_time": "2025-01-02T23:35:54.511215Z"
    }
   },
   "cell_type": "code",
   "source": [
    "with open('../data/2020/day2.txt', 'r') as f:\n",
    "   data = f.read()"
   ],
   "id": "be4304f3386e2f92",
   "outputs": [],
   "execution_count": 2
  },
  {
   "metadata": {
    "ExecuteTime": {
     "end_time": "2025-01-02T23:35:54.820947Z",
     "start_time": "2025-01-02T23:35:54.815612Z"
    }
   },
   "cell_type": "code",
   "source": "passwords = [re.match(r\"^(\\d+)\\-(\\d+) (.)\\: (.*)$\", line).groups() for line in data.splitlines()]",
   "id": "53cf97fba6bd1ae7",
   "outputs": [],
   "execution_count": 3
  },
  {
   "metadata": {
    "ExecuteTime": {
     "end_time": "2025-01-02T23:35:55.269360Z",
     "start_time": "2025-01-02T23:35:55.261668Z"
    }
   },
   "cell_type": "code",
   "source": [
    "part1 = 0\n",
    "part2 = 0\n",
    "for occ_min, occ_max, letter, passwd in passwords:\n",
    "    counts = Counter(passwd)\n",
    "    if int(occ_min) <= counts[letter] <= int(occ_max):\n",
    "        part1 += 1\n",
    "    if xor(passwd[int(occ_min)-1] == letter, passwd[int(occ_max)-1] == letter):\n",
    "        part2 += 1\n",
    "print(f\"Part 1: {part1}\")\n",
    "print(f\"Part 2: {part2}\")"
   ],
   "id": "2e672595ff32f859",
   "outputs": [
    {
     "name": "stdout",
     "output_type": "stream",
     "text": [
      "Part 1: 418\n",
      "Part 2: 616\n"
     ]
    }
   ],
   "execution_count": 4
  }
 ],
 "metadata": {
  "kernelspec": {
   "display_name": "Python 3",
   "language": "python",
   "name": "python3"
  },
  "language_info": {
   "codemirror_mode": {
    "name": "ipython",
    "version": 2
   },
   "file_extension": ".py",
   "mimetype": "text/x-python",
   "name": "python",
   "nbconvert_exporter": "python",
   "pygments_lexer": "ipython2",
   "version": "2.7.6"
  }
 },
 "nbformat": 4,
 "nbformat_minor": 5
}
