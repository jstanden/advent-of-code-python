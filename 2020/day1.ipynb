{
 "cells": [
  {
   "cell_type": "code",
   "id": "initial_id",
   "metadata": {
    "collapsed": true,
    "ExecuteTime": {
     "end_time": "2025-01-01T05:29:03.813867Z",
     "start_time": "2025-01-01T05:29:03.808177Z"
    }
   },
   "source": "from math import prod",
   "outputs": [],
   "execution_count": 1
  },
  {
   "metadata": {
    "ExecuteTime": {
     "end_time": "2025-01-01T05:29:03.924522Z",
     "start_time": "2025-01-01T05:29:03.922429Z"
    }
   },
   "cell_type": "code",
   "source": [
    "with open('../data/2020/day1.txt', 'r') as f:\n",
    "    data = f.read()"
   ],
   "id": "da942660359b023a",
   "outputs": [],
   "execution_count": 2
  },
  {
   "metadata": {
    "ExecuteTime": {
     "end_time": "2025-01-01T05:29:04.079786Z",
     "start_time": "2025-01-01T05:29:04.076917Z"
    }
   },
   "cell_type": "code",
   "source": "entries = set(map(int, data.splitlines()))",
   "id": "83080fe82517ecf6",
   "outputs": [],
   "execution_count": 3
  },
  {
   "metadata": {
    "ExecuteTime": {
     "end_time": "2025-01-01T05:29:04.207927Z",
     "start_time": "2025-01-01T05:29:04.204424Z"
    }
   },
   "cell_type": "code",
   "source": [
    "# Part 1\n",
    "print(\"Part 1:\", prod(entries.intersection(set(map(lambda n: 2020-n, entries)))))"
   ],
   "id": "2b8fc780bd0e582e",
   "outputs": [
    {
     "name": "stdout",
     "output_type": "stream",
     "text": [
      "Part 1: 381699\n"
     ]
    }
   ],
   "execution_count": 4
  },
  {
   "metadata": {
    "ExecuteTime": {
     "end_time": "2025-01-01T05:29:04.982965Z",
     "start_time": "2025-01-01T05:29:04.975902Z"
    }
   },
   "cell_type": "code",
   "source": [
    "# Part 2\n",
    "first = list(map(lambda n:(n,2020-n), entries))\n",
    "for f, remainder in first:\n",
    "    second = entries.intersection(set(map(lambda n: remainder-n, entries)))\n",
    "    if 2 == len(second) and sum([f] + list(second)) == 2020:\n",
    "        print(\"Part 2:\", prod([f] + list(second)))\n",
    "        break"
   ],
   "id": "ebc3d85890ec2138",
   "outputs": [
    {
     "name": "stdout",
     "output_type": "stream",
     "text": [
      "Part 2: 111605670\n"
     ]
    }
   ],
   "execution_count": 5
  }
 ],
 "metadata": {
  "kernelspec": {
   "display_name": "Python 3",
   "language": "python",
   "name": "python3"
  },
  "language_info": {
   "codemirror_mode": {
    "name": "ipython",
    "version": 2
   },
   "file_extension": ".py",
   "mimetype": "text/x-python",
   "name": "python",
   "nbconvert_exporter": "python",
   "pygments_lexer": "ipython2",
   "version": "2.7.6"
  }
 },
 "nbformat": 4,
 "nbformat_minor": 5
}
