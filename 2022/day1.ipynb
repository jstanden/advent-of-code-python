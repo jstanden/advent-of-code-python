{
 "cells": [
  {
   "metadata": {
    "ExecuteTime": {
     "end_time": "2025-01-01T05:54:44.545905Z",
     "start_time": "2025-01-01T05:54:44.540246Z"
    }
   },
   "cell_type": "code",
   "source": [
    "with open('../data/2022/day1.txt') as f:\n",
    "    data = f.read()"
   ],
   "id": "80972dfd2d554c87",
   "outputs": [],
   "execution_count": 1
  },
  {
   "metadata": {
    "ExecuteTime": {
     "end_time": "2025-01-01T05:54:44.651570Z",
     "start_time": "2025-01-01T05:54:44.649032Z"
    }
   },
   "cell_type": "code",
   "source": [
    "elves = [list(map(int,line.splitlines())) for line in data.split('\\n\\n')]\n",
    "backpacks = sorted(list(map(sum, elves)), reverse=True)"
   ],
   "id": "a2edb958703b4403",
   "outputs": [],
   "execution_count": 2
  },
  {
   "metadata": {
    "ExecuteTime": {
     "end_time": "2025-01-01T05:54:44.797211Z",
     "start_time": "2025-01-01T05:54:44.794473Z"
    }
   },
   "cell_type": "code",
   "source": "print(\"Part 1:\", backpacks[0])",
   "id": "7786e4d9074e4ddd",
   "outputs": [
    {
     "name": "stdout",
     "output_type": "stream",
     "text": [
      "Part 1: 69883\n"
     ]
    }
   ],
   "execution_count": 3
  },
  {
   "metadata": {
    "ExecuteTime": {
     "end_time": "2025-01-01T05:54:44.928509Z",
     "start_time": "2025-01-01T05:54:44.926158Z"
    }
   },
   "cell_type": "code",
   "source": "print(\"Part 2:\", sum(backpacks[0:3]))",
   "id": "e8d3204d88d864af",
   "outputs": [
    {
     "name": "stdout",
     "output_type": "stream",
     "text": [
      "Part 2: 207576\n"
     ]
    }
   ],
   "execution_count": 4
  }
 ],
 "metadata": {
  "kernelspec": {
   "display_name": "Python 3",
   "language": "python",
   "name": "python3"
  },
  "language_info": {
   "codemirror_mode": {
    "name": "ipython",
    "version": 2
   },
   "file_extension": ".py",
   "mimetype": "text/x-python",
   "name": "python",
   "nbconvert_exporter": "python",
   "pygments_lexer": "ipython2",
   "version": "2.7.6"
  }
 },
 "nbformat": 4,
 "nbformat_minor": 5
}
