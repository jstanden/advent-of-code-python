{
 "cells": [
  {
   "cell_type": "code",
   "execution_count": 1,
   "outputs": [],
   "source": [
    "import lib.aoc.grid2d.vector as vector2d\n",
    "import lib.aoc.grid2d.grid as grid2d"
   ],
   "metadata": {
    "collapsed": false,
    "ExecuteTime": {
     "end_time": "2024-12-12T02:06:29.815039Z",
     "start_time": "2024-12-12T02:06:29.810396Z"
    }
   }
  },
  {
   "metadata": {
    "ExecuteTime": {
     "end_time": "2024-12-12T02:06:29.939650Z",
     "start_time": "2024-12-12T02:06:29.937317Z"
    }
   },
   "cell_type": "code",
   "source": [
    "with open('../data/2024/day4.txt') as f:\n",
    "    data = f.read()"
   ],
   "id": "e5692e52b10c1dac",
   "outputs": [],
   "execution_count": 2
  },
  {
   "metadata": {
    "ExecuteTime": {
     "end_time": "2024-12-12T02:06:30.100076Z",
     "start_time": "2024-12-12T02:06:30.097638Z"
    }
   },
   "cell_type": "code",
   "source": [
    "grid = grid2d.parse(data)"
   ],
   "id": "a22187dc0d0a9471",
   "outputs": [],
   "execution_count": 3
  },
  {
   "metadata": {
    "ExecuteTime": {
     "end_time": "2024-12-12T02:06:30.261404Z",
     "start_time": "2024-12-12T02:06:30.259274Z"
    }
   },
   "cell_type": "code",
   "source": [
    "# Return a word from the grid given an (x,y) start, vector, and length\n",
    "def grid_word(x, y, v, length):\n",
    "    segment = [vector2d.add((y, x), vector2d.mul(v, mag)) for mag in range(length)]\n",
    "    return \"\".join([grid[i] for i in segment if grid.get(i)])"
   ],
   "id": "4c489e7f46e2b0df",
   "outputs": [],
   "execution_count": 4
  },
  {
   "cell_type": "code",
   "execution_count": 5,
   "outputs": [
    {
     "name": "stdout",
     "output_type": "stream",
     "text": [
      "Part 1: 2618\n"
     ]
    }
   ],
   "source": [
    "# Part 1\n",
    "vectors = vector2d.NESW_DIAG\n",
    "xmas_hits = 0\n",
    "\n",
    "# Try 4 steps in every cardinal direction starting from each 'X'\n",
    "for grid_y, grid_x in grid2d.find_coords(grid, 'X'):\n",
    "    for vector in vectors:\n",
    "        try:\n",
    "            word = grid_word(grid_x, grid_y, vector, 4)\n",
    "            if word == \"XMAS\":\n",
    "                xmas_hits += 1\n",
    "        except IndexError:\n",
    "            continue\n",
    "\n",
    "print(f\"Part 1: {xmas_hits}\")"
   ],
   "metadata": {
    "collapsed": false,
    "ExecuteTime": {
     "end_time": "2024-12-12T02:06:31.698714Z",
     "start_time": "2024-12-12T02:06:31.605183Z"
    }
   }
  },
  {
   "metadata": {
    "ExecuteTime": {
     "end_time": "2024-12-12T02:06:33.126900Z",
     "start_time": "2024-12-12T02:06:33.125059Z"
    }
   },
   "cell_type": "code",
   "source": [
    "# Part 2\n",
    "xmas_hits = 0\n",
    "\n",
    "# Check diagonals from the top corners of each 'A'\n",
    "for grid_y, grid_x in grid2d.find_coords(grid, 'A'):\n",
    "    try:\n",
    "        cross1 = grid_word(grid_x-1, grid_y-1, (1,1), 3)\n",
    "        cross2 = grid_word(grid_x+1, grid_y-1, (1,-1), 3)\n",
    "\n",
    "        if cross1 in ['MAS', 'SAM'] and cross2 in ['MAS', 'SAM']:\n",
    "            xmas_hits += 1\n",
    "    except IndexError:\n",
    "        continue\n",
    "\n",
    "print(f\"Part 2: {xmas_hits}\")"
   ],
   "id": "f0cf42d5fd20eafd",
   "outputs": [
    {
     "name": "stdout",
     "output_type": "stream",
     "text": [
      "Part 2: 2011\n"
     ]
    }
   ],
   "execution_count": 6
  }
 ],
 "metadata": {
  "kernelspec": {
   "display_name": "Python 3",
   "language": "python",
   "name": "python3"
  },
  "language_info": {
   "codemirror_mode": {
    "name": "ipython",
    "version": 2
   },
   "file_extension": ".py",
   "mimetype": "text/x-python",
   "name": "python",
   "nbconvert_exporter": "python",
   "pygments_lexer": "ipython2",
   "version": "2.7.6"
  }
 },
 "nbformat": 4,
 "nbformat_minor": 5
}
