{
 "cells": [
  {
   "metadata": {
    "ExecuteTime": {
     "end_time": "2024-12-05T00:02:09.480416Z",
     "start_time": "2024-12-05T00:02:09.475998Z"
    }
   },
   "cell_type": "code",
   "source": [
    "with open('../data/2024/day4.txt') as f:\n",
    "    data = f.read()"
   ],
   "id": "e5692e52b10c1dac",
   "outputs": [],
   "execution_count": 1
  },
  {
   "metadata": {
    "ExecuteTime": {
     "end_time": "2024-12-05T00:02:09.765216Z",
     "start_time": "2024-12-05T00:02:09.761031Z"
    }
   },
   "cell_type": "code",
   "source": [
    "grid = list([list(line) for line in data.splitlines()])"
   ],
   "id": "a22187dc0d0a9471",
   "outputs": [],
   "execution_count": 2
  },
  {
   "metadata": {
    "ExecuteTime": {
     "end_time": "2024-12-05T00:02:10.015586Z",
     "start_time": "2024-12-05T00:02:10.014050Z"
    }
   },
   "cell_type": "code",
   "source": [
    "# Find all instances of `value` in the 2D grid and return (y,x) coords\n",
    "def find_in_grid(value):\n",
    "    return [[index for index, element in enumerate(row) if element == value] for row in grid]\n",
    "\n",
    "def vector_add(v1, v2):\n",
    "    return [v1[i] + v2[i] for i in range(len(v1))]\n",
    "\n",
    "def vector_mul(v1, factor: int):\n",
    "    return [v1[i] * factor for i in range(len(v1))]\n",
    "\n",
    "# Return a word from the grid given an (x,y) start, vector, and length\n",
    "def grid_word(x, y, v, length):\n",
    "    segment = [vector_add((y, x), vector_mul(v, mag)) for mag in range(length)]\n",
    "    return \"\".join([grid[i[0]][i[1]] for i in segment if i[0] >= 0 and i[1] >= 0])"
   ],
   "id": "4c489e7f46e2b0df",
   "outputs": [],
   "execution_count": 3
  },
  {
   "metadata": {
    "ExecuteTime": {
     "end_time": "2024-12-05T00:02:10.347122Z",
     "start_time": "2024-12-05T00:02:10.236192Z"
    }
   },
   "cell_type": "code",
   "source": [
    "# Part 1\n",
    "all_x = find_in_grid('X')\n",
    "vectors = ((0,1),(0,-1),(1,-1),(1,0),(1,1),(-1,0),(-1,1),(-1,-1)) # 8 cardinal directions\n",
    "xmas_hits = 0\n",
    "\n",
    "# Try 4 steps in every cardinal direction starting from each 'X'\n",
    "for grid_y, grid_xs in enumerate(all_x):\n",
    "    for grid_x in grid_xs:\n",
    "        for vector in vectors:\n",
    "            try:\n",
    "                word = grid_word(grid_x, grid_y, vector, 4)\n",
    "                if word == \"XMAS\":\n",
    "                    xmas_hits += 1\n",
    "            except IndexError:\n",
    "                continue\n",
    "\n",
    "xmas_hits"
   ],
   "id": "831f90cc788ead19",
   "outputs": [
    {
     "data": {
      "text/plain": "2618"
     },
     "execution_count": 4,
     "metadata": {},
     "output_type": "execute_result"
    }
   ],
   "execution_count": 4
  },
  {
   "metadata": {
    "ExecuteTime": {
     "end_time": "2024-12-05T00:02:10.997237Z",
     "start_time": "2024-12-05T00:02:10.995425Z"
    }
   },
   "cell_type": "code",
   "source": [
    "# Part 2\n",
    "all_a = find_in_grid('A')\n",
    "xmas_hits = 0\n",
    "\n",
    "# Check diagonals from the top corners of each 'A'\n",
    "for grid_y, grid_xs in enumerate(all_a):\n",
    "    for grid_x in grid_xs:\n",
    "        try:\n",
    "            cross1 = grid_word(grid_x-1, grid_y-1, (1,1), 3)\n",
    "            cross2 = grid_word(grid_x+1, grid_y-1, (1,-1), 3)\n",
    "\n",
    "            if cross1 in ['MAS', 'SAM'] and cross2 in ['MAS', 'SAM']:\n",
    "                xmas_hits += 1\n",
    "        except IndexError:\n",
    "            continue\n",
    "\n",
    "xmas_hits"
   ],
   "id": "f0cf42d5fd20eafd",
   "outputs": [
    {
     "data": {
      "text/plain": "2011"
     },
     "execution_count": 5,
     "metadata": {},
     "output_type": "execute_result"
    }
   ],
   "execution_count": 5
  },
  {
   "cell_type": "code",
   "execution_count": null,
   "outputs": [],
   "source": [],
   "metadata": {
    "collapsed": false
   }
  }
 ],
 "metadata": {
  "kernelspec": {
   "display_name": "Python 3",
   "language": "python",
   "name": "python3"
  },
  "language_info": {
   "codemirror_mode": {
    "name": "ipython",
    "version": 2
   },
   "file_extension": ".py",
   "mimetype": "text/x-python",
   "name": "python",
   "nbconvert_exporter": "python",
   "pygments_lexer": "ipython2",
   "version": "2.7.6"
  }
 },
 "nbformat": 4,
 "nbformat_minor": 5
}
