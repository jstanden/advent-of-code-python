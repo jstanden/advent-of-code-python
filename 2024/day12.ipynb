{
 "cells": [
  {
   "cell_type": "code",
   "id": "initial_id",
   "metadata": {
    "collapsed": true,
    "ExecuteTime": {
     "end_time": "2024-12-13T03:55:43.069573Z",
     "start_time": "2024-12-13T03:55:43.066588Z"
    }
   },
   "source": [
    "import lib.aoc.grid2d.grid as grid2d\n",
    "import lib.aoc.grid2d.vector as vector2d\n",
    "from collections import deque, defaultdict\n",
    "from itertools import count"
   ],
   "outputs": [],
   "execution_count": 1
  },
  {
   "metadata": {
    "ExecuteTime": {
     "end_time": "2024-12-13T03:55:43.222623Z",
     "start_time": "2024-12-13T03:55:43.218517Z"
    }
   },
   "cell_type": "code",
   "source": [
    "with open(\"../data/2024/day12.txt\") as f:\n",
    "    data = f.read()"
   ],
   "id": "42e8063a9ab1426b",
   "outputs": [],
   "execution_count": 2
  },
  {
   "metadata": {
    "ExecuteTime": {
     "end_time": "2024-12-13T03:55:43.371994Z",
     "start_time": "2024-12-13T03:55:43.369886Z"
    }
   },
   "cell_type": "code",
   "source": [
    "grid = grid2d.parse(data)"
   ],
   "id": "419a90cded0ea499",
   "outputs": [],
   "execution_count": 3
  },
  {
   "metadata": {
    "ExecuteTime": {
     "end_time": "2024-12-13T03:55:43.516513Z",
     "start_time": "2024-12-13T03:55:43.512340Z"
    }
   },
   "cell_type": "code",
   "source": [
    "def harvest(crop: str, start_at: tuple) -> set:\n",
    "    queue = deque([start_at])\n",
    "    visited = set()\n",
    "\n",
    "    # Group adjacent crop tiles with a BFS flood fill\n",
    "    while queue:\n",
    "        at = queue.popleft()\n",
    "        if at in visited: continue\n",
    "        visited.add(at)\n",
    "\n",
    "        # Visit matching neighbor crop tiles\n",
    "        for n_at, n_crop in grid2d.neighbors(grid, at, directions=vector2d.NESW):\n",
    "            if n_crop != crop or n_at in visited: continue\n",
    "            queue.append(n_at)\n",
    "\n",
    "    return visited"
   ],
   "id": "316377c49c1b2a87",
   "outputs": [],
   "execution_count": 4
  },
  {
   "metadata": {
    "ExecuteTime": {
     "end_time": "2024-12-13T03:55:43.959345Z",
     "start_time": "2024-12-13T03:55:43.860662Z"
    }
   },
   "cell_type": "code",
   "source": [
    "plots = []\n",
    "harvested = set()\n",
    "\n",
    "# For every crop tile\n",
    "for yx, crop in grid.items():\n",
    "    if yx in harvested: continue\n",
    "    # If not yet harvested\n",
    "    new_harvest = harvest(crop, yx)\n",
    "    # Store distinct regions as a set of coords\n",
    "    plots.append((crop, new_harvest))\n",
    "    # Union this harvest with all previous ones\n",
    "    harvested = harvested | new_harvest"
   ],
   "id": "7ca4c7949cd58a84",
   "outputs": [],
   "execution_count": 5
  },
  {
   "metadata": {
    "ExecuteTime": {
     "end_time": "2024-12-13T03:55:44.315731Z",
     "start_time": "2024-12-13T03:55:44.274952Z"
    }
   },
   "cell_type": "code",
   "source": [
    "part1, part2 = 0, 0\n",
    "edge_bits = [1,2,4,8] # N,E,S,W edges\n",
    "\n",
    "# For every distinct crop region\n",
    "for crop, coords in plots:\n",
    "    contiguous_sides, open_sides = 0, 0\n",
    "    edges = defaultdict(int)\n",
    "\n",
    "    # Sort the coordinates, so we move left-to-right, top-to-bottom\n",
    "    for coord in sorted(coords):\n",
    "        neighbors = [(grid.get(vector2d.add(coord, v))) for v in vector2d.NESW]\n",
    "\n",
    "        # neighbor, vector, interval\n",
    "        for n, v, i in zip(neighbors, vector2d.NESW, count()):\n",
    "            if n == crop:\n",
    "                open_sides += 1\n",
    "\n",
    "            # Merge contiguous open sides\n",
    "            if n != crop:\n",
    "                edges[coord] += edge_bits[i]\n",
    "\n",
    "                # If it's a north/south edge and the west neighbor is contiguous\n",
    "                if i in (0,2) and edges.get(vector2d.add(coord, vector2d.NESW[3]), 0) & edge_bits[i]:\n",
    "                    pass\n",
    "                # If it's an east/west edge and the north neighbor is contiguous\n",
    "                elif i in (1,3) and edges.get(vector2d.add(coord, vector2d.NESW[0]), 0) & edge_bits[i]:\n",
    "                    pass\n",
    "                else:\n",
    "                    contiguous_sides += 1\n",
    "\n",
    "    # Our simple perimeter assumes 4 sides per coordinate, minus open sides\n",
    "    part1 += len(coords) * (4*len(coords)-open_sides)\n",
    "    part2 += len(coords) * contiguous_sides\n",
    "\n",
    "print(f\"Part 1: {part1}\")\n",
    "print(f\"Part 2: {part2}\")"
   ],
   "id": "a14a454b433f03f8",
   "outputs": [
    {
     "name": "stdout",
     "output_type": "stream",
     "text": [
      "Part 1: 1344578\n",
      "Part 2: 814302\n"
     ]
    }
   ],
   "execution_count": 6
  }
 ],
 "metadata": {
  "kernelspec": {
   "display_name": "Python 3",
   "language": "python",
   "name": "python3"
  },
  "language_info": {
   "codemirror_mode": {
    "name": "ipython",
    "version": 2
   },
   "file_extension": ".py",
   "mimetype": "text/x-python",
   "name": "python",
   "nbconvert_exporter": "python",
   "pygments_lexer": "ipython2",
   "version": "2.7.6"
  }
 },
 "nbformat": 4,
 "nbformat_minor": 5
}
