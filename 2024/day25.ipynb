{
 "cells": [
  {
   "cell_type": "code",
   "id": "initial_id",
   "metadata": {
    "collapsed": true,
    "ExecuteTime": {
     "end_time": "2024-12-25T23:11:58.041440Z",
     "start_time": "2024-12-25T23:11:58.035163Z"
    }
   },
   "source": [
    "import lib.aoc.grid2d.grid as grid2d\n",
    "from itertools import product"
   ],
   "outputs": [],
   "execution_count": 1
  },
  {
   "metadata": {
    "ExecuteTime": {
     "end_time": "2024-12-25T23:11:58.147823Z",
     "start_time": "2024-12-25T23:11:58.145948Z"
    }
   },
   "cell_type": "code",
   "source": [
    "with open(\"../data/2024/day25.txt\") as f:\n",
    "    data = f.read()"
   ],
   "id": "9595a04bfcd66c7c",
   "outputs": [],
   "execution_count": 2
  },
  {
   "metadata": {
    "ExecuteTime": {
     "end_time": "2024-12-25T23:11:58.294612Z",
     "start_time": "2024-12-25T23:11:58.287836Z"
    }
   },
   "cell_type": "code",
   "source": [
    "schematics = data.split(\"\\n\\n\")\n",
    "locks = [grid2d.parse(lock) for lock in [line for line in schematics if line.startswith(\"#\")]]\n",
    "keys = [grid2d.parse(key) for key in [line for line in schematics if line.startswith(\".\")]]"
   ],
   "id": "ada03e25bf6daf3c",
   "outputs": [],
   "execution_count": 3
  },
  {
   "metadata": {
    "ExecuteTime": {
     "end_time": "2024-12-25T23:11:58.698078Z",
     "start_time": "2024-12-25T23:11:58.430379Z"
    }
   },
   "cell_type": "code",
   "source": [
    "part1 = 0\n",
    "for lock, key in product(locks, keys):\n",
    "    # Check for intersections of '#' in the lock/key grids\n",
    "    if not grid2d.find_coords(lock,'#').intersection(grid2d.find_coords(key, '#')):\n",
    "        part1 += 1\n",
    "print(\"Part 1:\", part1)"
   ],
   "id": "c615b3475d86c14a",
   "outputs": [
    {
     "name": "stdout",
     "output_type": "stream",
     "text": [
      "Part 1: 2770\n"
     ]
    }
   ],
   "execution_count": 4
  }
 ],
 "metadata": {
  "kernelspec": {
   "display_name": "Python 3",
   "language": "python",
   "name": "python3"
  },
  "language_info": {
   "codemirror_mode": {
    "name": "ipython",
    "version": 2
   },
   "file_extension": ".py",
   "mimetype": "text/x-python",
   "name": "python",
   "nbconvert_exporter": "python",
   "pygments_lexer": "ipython2",
   "version": "2.7.6"
  }
 },
 "nbformat": 4,
 "nbformat_minor": 5
}
