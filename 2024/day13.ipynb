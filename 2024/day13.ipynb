{
 "cells": [
  {
   "cell_type": "code",
   "id": "initial_id",
   "metadata": {
    "collapsed": true,
    "ExecuteTime": {
     "end_time": "2024-12-13T21:33:12.855462Z",
     "start_time": "2024-12-13T21:33:12.838830Z"
    }
   },
   "source": [
    "import re\n",
    "from z3 import Solver, Int, sat"
   ],
   "outputs": [],
   "execution_count": 1
  },
  {
   "metadata": {
    "ExecuteTime": {
     "end_time": "2024-12-13T21:33:13.121499Z",
     "start_time": "2024-12-13T21:33:13.118655Z"
    }
   },
   "cell_type": "code",
   "source": [
    "with open('../data/2024/day13.txt') as f:\n",
    "    data = f.read()"
   ],
   "id": "9a42cfb47a944b64",
   "outputs": [],
   "execution_count": 2
  },
  {
   "metadata": {
    "ExecuteTime": {
     "end_time": "2024-12-13T21:33:13.445278Z",
     "start_time": "2024-12-13T21:33:13.439556Z"
    }
   },
   "cell_type": "code",
   "source": [
    "a = Int('a')\n",
    "b = Int('b')\n",
    "x = Int('x')\n",
    "y = Int('y')"
   ],
   "id": "241311a6df74c9c9",
   "outputs": [],
   "execution_count": 3
  },
  {
   "metadata": {
    "ExecuteTime": {
     "end_time": "2024-12-13T21:33:13.796603Z",
     "start_time": "2024-12-13T21:33:13.793065Z"
    }
   },
   "cell_type": "code",
   "source": [
    "machines = [line.replace(\"\\n\",\" \") for line in data.split(\"\\n\\n\")]\n",
    "pattern = r\"^Button A\\: X\\+(\\d+), Y\\+(\\d+) Button B\\: X\\+(\\d+), Y\\+(\\d+) Prize\\: X=(\\d+), Y=(\\d+)$\""
   ],
   "id": "efffbaf2241af2a0",
   "outputs": [],
   "execution_count": 4
  },
  {
   "metadata": {
    "ExecuteTime": {
     "end_time": "2024-12-13T21:33:14.806255Z",
     "start_time": "2024-12-13T21:33:14.214500Z"
    }
   },
   "cell_type": "code",
   "source": [
    "def play_claw_machines(part: int) -> int:\n",
    "    tokens = 0\n",
    "\n",
    "    for machine in machines:\n",
    "        result = re.match(pattern, machine)\n",
    "        ax, ay, bx, by, px, py = result.groups()\n",
    "\n",
    "        if part == 2:\n",
    "            px, py = int(px) + 10000000000000, int(py) + 10000000000000\n",
    "\n",
    "        s = Solver()\n",
    "        s.add(x == px, y == py)\n",
    "        s.add(x == a * ax + b * bx)\n",
    "        s.add(y == a * ay + b * by)\n",
    "\n",
    "        if sat == s.check():\n",
    "            tokens += (s.model()[a].as_long() * 3) + s.model()[b].as_long()\n",
    "\n",
    "    return tokens\n",
    "\n",
    "print(\"Part 1:\", play_claw_machines(part=1))\n",
    "print(\"Part 2:\", play_claw_machines(part=2))"
   ],
   "id": "22b042110cdcd034",
   "outputs": [
    {
     "name": "stdout",
     "output_type": "stream",
     "text": [
      "Part 1: 35574\n",
      "Part 2: 80882098756071\n"
     ]
    }
   ],
   "execution_count": 5
  }
 ],
 "metadata": {
  "kernelspec": {
   "display_name": "Python 3",
   "language": "python",
   "name": "python3"
  },
  "language_info": {
   "codemirror_mode": {
    "name": "ipython",
    "version": 2
   },
   "file_extension": ".py",
   "mimetype": "text/x-python",
   "name": "python",
   "nbconvert_exporter": "python",
   "pygments_lexer": "ipython2",
   "version": "2.7.6"
  }
 },
 "nbformat": 4,
 "nbformat_minor": 5
}
