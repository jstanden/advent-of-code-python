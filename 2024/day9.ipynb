{
 "cells": [
  {
   "cell_type": "code",
   "id": "initial_id",
   "metadata": {
    "collapsed": true,
    "ExecuteTime": {
     "end_time": "2024-12-10T01:13:35.556854Z",
     "start_time": "2024-12-10T01:13:35.553671Z"
    }
   },
   "source": [
    "from itertools import cycle, count, islice, chain, repeat, takewhile, groupby"
   ],
   "outputs": [],
   "execution_count": 1
  },
  {
   "metadata": {
    "ExecuteTime": {
     "end_time": "2024-12-10T01:13:35.675745Z",
     "start_time": "2024-12-10T01:13:35.673181Z"
    }
   },
   "cell_type": "code",
   "source": [
    "with open('../data/2024/day9.txt') as f:\n",
    "    data = f.read()"
   ],
   "id": "74f3d84a9babdf51",
   "outputs": [],
   "execution_count": 2
  },
  {
   "metadata": {
    "ExecuteTime": {
     "end_time": "2024-12-10T01:13:35.863625Z",
     "start_time": "2024-12-10T01:13:35.862015Z"
    }
   },
   "cell_type": "code",
   "source": [
    "blocks = []\n",
    "modes = cycle(('file','free'))\n",
    "file_ids = chain.from_iterable((i, i) for i in count())\n",
    "\n",
    "# Decompress (2333133121414131402 -> 00...111...2...333.44.5555.6666.777.888899)\n",
    "for digit, mode, file_id in zip(data, islice(modes, len(data)), islice(file_ids, len(data))):\n",
    "    blocks.append(list(repeat(str(file_id), int(digit)) if mode == 'file' else repeat('.', int(digit))))"
   ],
   "id": "7defdda4d7b06c59",
   "outputs": [],
   "execution_count": 3
  },
  {
   "metadata": {
    "ExecuteTime": {
     "end_time": "2024-12-10T01:13:36.067020Z",
     "start_time": "2024-12-10T01:13:36.042875Z"
    }
   },
   "cell_type": "code",
   "source": [
    "# Part 1\n",
    "part1_blocks = list(chain(*blocks))\n",
    "left, right = 0, len(part1_blocks)-1\n",
    "\n",
    "# Iterate from both ends simultaneously until the pointers cross\n",
    "while True:\n",
    "    while left < len(part1_blocks) and part1_blocks[left] != '.': left += 1\n",
    "    while right >= 0 and part1_blocks[right] == '.': right -= 1\n",
    "    if left > right: break\n",
    "    # Swap our leftmost free space with rightmost file\n",
    "    part1_blocks[right], part1_blocks[left] = part1_blocks[left], part1_blocks[right]\n",
    "\n",
    "print('Part 1:',\n",
    "      sum([i * int(file_id) for i, file_id in enumerate(takewhile(lambda c: c != '.', part1_blocks))]))"
   ],
   "id": "a74df935aae94f0b",
   "outputs": [
    {
     "name": "stdout",
     "output_type": "stream",
     "text": [
      "Part 1: 6463499258318\n"
     ]
    }
   ],
   "execution_count": 4
  },
  {
   "cell_type": "code",
   "execution_count": 5,
   "outputs": [
    {
     "name": "stdout",
     "output_type": "stream",
     "text": [
      "Part 2: 6493634986625\n"
     ]
    }
   ],
   "source": [
    "# Part 2\n",
    "part2_blocks = list(chain(*blocks))\n",
    "\n",
    "# Tuples of (file_id or '.', index start, index end, length)\n",
    "chunks = [\n",
    "    (key, indices[0], indices[-1], indices[-1] - indices[0] + 1)\n",
    "    for key, index_groups in groupby(enumerate(part2_blocks), key=lambda x: x[1])\n",
    "    for indices, group in [([idx for idx,_ in index_groups], [v for _,v in index_groups])]\n",
    "]\n",
    "\n",
    "# Split chunks into (reversed) files and free space\n",
    "files = list(filter(lambda chunk: chunk[0] != '.', reversed(chunks)))\n",
    "frees = list(filter(lambda chunk: chunk[0] == '.', chunks))\n",
    "\n",
    "# Move rightmost files into leftmost free space\n",
    "for file in files:\n",
    "    for free_n, free in enumerate(frees):\n",
    "        # Only move leftward\n",
    "        if free[1] > file[1]:\n",
    "            break\n",
    "        # Is this free space block big enough?\n",
    "        elif free[3] >= file[3]:\n",
    "            part2_blocks[free[1]:free[1]+file[3]], part2_blocks[file[1]:file[2]+1] = \\\n",
    "                part2_blocks[file[1]:file[2]+1], part2_blocks[free[1]:free[1]+file[3]]\n",
    "            # If the exact size, use it all\n",
    "            if free[3] == file[3]:\n",
    "                del frees[free_n]\n",
    "            # If we only need part of this free space block, consume from left and leave a remainder\n",
    "            else:\n",
    "                used_len = file[3]\n",
    "                frees[free_n] = (free[0], free[1]+used_len, free[2], free[3]-used_len)\n",
    "            break\n",
    "\n",
    "# Sum using full ids (e.g. 100) not characters (1,0,0)\n",
    "print('Part 2:',\n",
    "      sum([(i * (0 if '.' == file_id else int(file_id))) for i, file_id in enumerate(part2_blocks)]))"
   ],
   "metadata": {
    "collapsed": false,
    "ExecuteTime": {
     "end_time": "2024-12-10T01:13:37.249423Z",
     "start_time": "2024-12-10T01:13:37.092723Z"
    }
   }
  }
 ],
 "metadata": {
  "kernelspec": {
   "display_name": "Python 3",
   "language": "python",
   "name": "python3"
  },
  "language_info": {
   "codemirror_mode": {
    "name": "ipython",
    "version": 2
   },
   "file_extension": ".py",
   "mimetype": "text/x-python",
   "name": "python",
   "nbconvert_exporter": "python",
   "pygments_lexer": "ipython2",
   "version": "2.7.6"
  }
 },
 "nbformat": 4,
 "nbformat_minor": 5
}
