{
 "cells": [
  {
   "cell_type": "code",
   "execution_count": 1,
   "outputs": [],
   "source": [
    "import networkx as nx\n",
    "from itertools import groupby\n",
    "from functools import cache"
   ],
   "metadata": {
    "collapsed": false,
    "ExecuteTime": {
     "end_time": "2024-12-24T01:57:50.261293Z",
     "start_time": "2024-12-24T01:57:50.202583Z"
    }
   }
  },
  {
   "cell_type": "code",
   "execution_count": 2,
   "outputs": [],
   "source": [
    "with open('../data/2024/day21.txt') as f:\n",
    "    data = f.read()"
   ],
   "metadata": {
    "collapsed": false,
    "ExecuteTime": {
     "end_time": "2024-12-24T01:57:50.337879Z",
     "start_time": "2024-12-24T01:57:50.336427Z"
    }
   }
  },
  {
   "cell_type": "code",
   "execution_count": 3,
   "outputs": [],
   "source": [
    "codes = data.splitlines()"
   ],
   "metadata": {
    "collapsed": false,
    "ExecuteTime": {
     "end_time": "2024-12-24T01:57:50.445339Z",
     "start_time": "2024-12-24T01:57:50.441332Z"
    }
   }
  },
  {
   "cell_type": "code",
   "execution_count": 4,
   "outputs": [],
   "source": [
    "# Number pad adjacency (favor: left, down, right, up)\n",
    "numpad_adj = \"\"\"\n",
    "A0<,A3^,0A>,02^,12>,14^,21<,20v,23>,25^,32<,3Av,36^,41v,45>,47^,\n",
    "54<,52v,56>,58^,65<,63v,69^,74v,78>,87<,85v,89>,98<,96v\n",
    "\"\"\".replace('\\n','').split(',')\n",
    "G_numpad = nx.DiGraph()\n",
    "for u,v,k in list(numpad_adj): G_numpad.add_edge(u,v,key=k)"
   ],
   "metadata": {
    "collapsed": false,
    "ExecuteTime": {
     "end_time": "2024-12-24T01:57:50.580225Z",
     "start_time": "2024-12-24T01:57:50.577910Z"
    }
   }
  },
  {
   "cell_type": "code",
   "execution_count": 5,
   "outputs": [],
   "source": [
    "@cache\n",
    "def shortest_path_numpad(u, v):\n",
    "    paths = list(nx.all_shortest_paths(G_numpad, u, v))\n",
    "    ranks = {'<':0,'v':1,'>':2,'^':3}\n",
    "    results = []\n",
    "\n",
    "    for path in paths:\n",
    "        dirs = []\n",
    "        for a, b in zip(path, path[1:]):\n",
    "            dirs.append(G_numpad[a][b]['key'])\n",
    "        results.append(dirs)\n",
    "\n",
    "    # Favor results that move in straight lines in preferred directional order\n",
    "    results = sorted(results, key=lambda r: (len(r), len([k for k,_ in groupby(r)]), ranks[r[0]]))\n",
    "\n",
    "    return results[0]"
   ],
   "metadata": {
    "collapsed": false,
    "ExecuteTime": {
     "end_time": "2024-12-24T01:57:50.720503Z",
     "start_time": "2024-12-24T01:57:50.716922Z"
    }
   }
  },
  {
   "cell_type": "code",
   "execution_count": 6,
   "outputs": [],
   "source": [
    "# Directional pad\n",
    "dirpad_adj = \"A^<,A>v,^A>,^vv,v>>,v<<,v^^,<v>,>A^,>v<\".split(',')\n",
    "G_dirpad = nx.DiGraph()\n",
    "for u,v,k in list(dirpad_adj): G_dirpad.add_edge(u,v,key=k)"
   ],
   "metadata": {
    "collapsed": false,
    "ExecuteTime": {
     "end_time": "2024-12-24T01:57:50.866912Z",
     "start_time": "2024-12-24T01:57:50.862137Z"
    }
   }
  },
  {
   "cell_type": "code",
   "execution_count": 7,
   "outputs": [],
   "source": [
    "@cache\n",
    "def shortest_path_dirpad(u, v):\n",
    "    paths = list(nx.all_shortest_paths(G_dirpad, u, v))\n",
    "    ranks = {'<':0,'v':1,'^':2,'>':3}\n",
    "    results = []\n",
    "\n",
    "    for path in paths:\n",
    "        dirs = []\n",
    "        for a, b in zip(path, path[1:]):\n",
    "            dirs.append(G_dirpad[a][b]['key'])\n",
    "        results.append(dirs)\n",
    "\n",
    "    # Favor results that move in straight lines\n",
    "    if results != [[]]:\n",
    "        results = sorted(results, key=lambda r: (len(r), len([k for k,_ in groupby(r)]), ranks[r[0]]))\n",
    "\n",
    "    return results[0]"
   ],
   "metadata": {
    "collapsed": false,
    "ExecuteTime": {
     "end_time": "2024-12-24T01:57:51.124449Z",
     "start_time": "2024-12-24T01:57:51.117495Z"
    }
   }
  },
  {
   "cell_type": "code",
   "execution_count": 8,
   "outputs": [],
   "source": [
    "@cache\n",
    "def robo_inception(seq: list, depth: int):\n",
    "    seq_len = 0\n",
    "\n",
    "    for u, v in zip(seq, seq[1:]):\n",
    "        uv_path = shortest_path_dirpad(u, v) + ['A']\n",
    "\n",
    "        # Only return the length of the deepest layer\n",
    "        if 0 == depth:\n",
    "            seq_len += len(uv_path)\n",
    "        else:\n",
    "            seq_len += robo_inception(tuple(['A'] + uv_path), depth-1)\n",
    "\n",
    "    return seq_len"
   ],
   "metadata": {
    "collapsed": false,
    "ExecuteTime": {
     "end_time": "2024-12-24T01:57:51.444564Z",
     "start_time": "2024-12-24T01:57:51.440786Z"
    }
   }
  },
  {
   "cell_type": "code",
   "execution_count": 9,
   "outputs": [],
   "source": [
    "def type_code(depth: int):\n",
    "    count = 0\n",
    "\n",
    "    for code in codes:\n",
    "        start_code = list('A' + code)\n",
    "        code_len = 0\n",
    "\n",
    "        for u, v in zip(start_code, start_code[1:]):\n",
    "            step = shortest_path_numpad(u, v) + ['A']\n",
    "            code_len += robo_inception(tuple(['A'] + step), depth-1)\n",
    "\n",
    "        count += code_len * int(''.join([d for d in code if d.isdigit()]))\n",
    "\n",
    "    return count"
   ],
   "metadata": {
    "collapsed": false,
    "ExecuteTime": {
     "end_time": "2024-12-24T01:57:51.800592Z",
     "start_time": "2024-12-24T01:57:51.796927Z"
    }
   }
  },
  {
   "cell_type": "code",
   "execution_count": 10,
   "outputs": [
    {
     "name": "stdout",
     "output_type": "stream",
     "text": [
      "Part 1: 164960\n"
     ]
    }
   ],
   "source": [
    "print(\"Part 1:\", type_code(2))\n",
    "#print(\"Part 2:\", type_code(25))"
   ],
   "metadata": {
    "collapsed": false,
    "ExecuteTime": {
     "end_time": "2024-12-24T01:57:53.579144Z",
     "start_time": "2024-12-24T01:57:53.557319Z"
    }
   }
  }
 ],
 "metadata": {
  "kernelspec": {
   "display_name": "Python 3",
   "language": "python",
   "name": "python3"
  },
  "language_info": {
   "codemirror_mode": {
    "name": "ipython",
    "version": 2
   },
   "file_extension": ".py",
   "mimetype": "text/x-python",
   "name": "python",
   "nbconvert_exporter": "python",
   "pygments_lexer": "ipython2",
   "version": "2.7.6"
  }
 },
 "nbformat": 4,
 "nbformat_minor": 0
}
