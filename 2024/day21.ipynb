{
 "cells": [
  {
   "cell_type": "code",
   "source": [
    "import networkx as nx\n",
    "from functools import cache"
   ],
   "metadata": {
    "collapsed": false,
    "ExecuteTime": {
     "end_time": "2024-12-26T00:37:58.911352Z",
     "start_time": "2024-12-26T00:37:58.821991Z"
    }
   },
   "outputs": [],
   "execution_count": 1
  },
  {
   "cell_type": "code",
   "source": [
    "with open('../data/2024/day21.txt') as f:\n",
    "    data = f.read()"
   ],
   "metadata": {
    "collapsed": false,
    "ExecuteTime": {
     "end_time": "2024-12-26T00:37:59.207665Z",
     "start_time": "2024-12-26T00:37:59.204462Z"
    }
   },
   "outputs": [],
   "execution_count": 2
  },
  {
   "cell_type": "code",
   "source": [
    "codes = data.splitlines()"
   ],
   "metadata": {
    "collapsed": false,
    "ExecuteTime": {
     "end_time": "2024-12-26T00:37:59.625979Z",
     "start_time": "2024-12-26T00:37:59.624206Z"
    }
   },
   "outputs": [],
   "execution_count": 3
  },
  {
   "cell_type": "code",
   "source": [
    "# Number pad adjacency (favor: left, down, right, up)\n",
    "numpad_adj = \"\"\"\n",
    "A0<,A3^,0A>,02^,12>,14^,21<,20v,23>,25^,32<,3Av,36^,41v,45>,47^,\n",
    "54<,52v,56>,58^,65<,63v,69^,74v,78>,87<,85v,89>,98<,96v\n",
    "\"\"\".replace('\\n','').split(',')\n",
    "G_numpad = nx.DiGraph()\n",
    "for u,v,k in list(numpad_adj): G_numpad.add_edge(u,v,key=k)"
   ],
   "metadata": {
    "collapsed": false,
    "ExecuteTime": {
     "end_time": "2024-12-26T00:38:00.050086Z",
     "start_time": "2024-12-26T00:38:00.047963Z"
    }
   },
   "outputs": [],
   "execution_count": 4
  },
  {
   "cell_type": "code",
   "source": [
    "@cache\n",
    "def shortest_path_numpad(u, v, depth):\n",
    "    paths = list(nx.all_shortest_paths(G_numpad, u, v))\n",
    "    results = []\n",
    "\n",
    "    for path in paths:\n",
    "        dirs = []\n",
    "        for a, b in zip(path, path[1:]):\n",
    "            dirs.append(G_numpad[a][b]['key'])\n",
    "\n",
    "        if dirs == ['>', '^', '>']: pass\n",
    "        elif dirs == ['<', 'v', '<']: pass\n",
    "        elif dirs == ['^', '<', '^', '^']: pass\n",
    "        elif dirs == ['^', '^', '<', '^']: pass\n",
    "        elif dirs == ['^', '^', '>', '^']: pass\n",
    "        elif dirs == ['^', '>', '^', '^']: pass\n",
    "        elif dirs == ['<', '^', '<', '^','^']: pass\n",
    "        elif dirs == ['<', '^', '^', '<','^']: pass\n",
    "        elif dirs == ['^', '<', '<', '^','^']: pass\n",
    "        else:\n",
    "            results.append(dirs)\n",
    "\n",
    "    shortest_path_len = float('inf')\n",
    "\n",
    "    for result in results:\n",
    "        if 0 == depth:\n",
    "            if len(result) < shortest_path_len:\n",
    "                shortest_path_len = len(result)\n",
    "        else:\n",
    "            result = ['A'] + result + ['A']\n",
    "            next_path_len = 0\n",
    "            for next_u, next_v in zip(result, result[1:]):\n",
    "                next_path_len += shortest_path_dirpad(next_u, next_v, depth)\n",
    "            if next_path_len < shortest_path_len:\n",
    "                shortest_path_len = next_path_len\n",
    "\n",
    "    return shortest_path_len"
   ],
   "metadata": {
    "collapsed": false,
    "ExecuteTime": {
     "end_time": "2024-12-26T00:38:00.577597Z",
     "start_time": "2024-12-26T00:38:00.572067Z"
    }
   },
   "outputs": [],
   "execution_count": 5
  },
  {
   "cell_type": "code",
   "source": [
    "# Directional pad\n",
    "dirpad_adj = \"A^<,A>v,^A>,^vv,v>>,v<<,v^^,<v>,>A^,>v<\".split(',')\n",
    "G_dirpad = nx.DiGraph()\n",
    "for u,v,k in list(dirpad_adj): G_dirpad.add_edge(u,v,key=k)"
   ],
   "metadata": {
    "collapsed": false,
    "ExecuteTime": {
     "end_time": "2024-12-26T00:38:01.264477Z",
     "start_time": "2024-12-26T00:38:01.261196Z"
    }
   },
   "outputs": [],
   "execution_count": 6
  },
  {
   "cell_type": "code",
   "source": [
    "@cache\n",
    "def shortest_path_dirpad(u, v, depth):\n",
    "    paths = list(nx.all_shortest_paths(G_dirpad, u, v))\n",
    "    results = []\n",
    "\n",
    "    for path in paths:\n",
    "        dirs = []\n",
    "        for a, b in zip(path, path[1:]):\n",
    "            dirs.append(G_dirpad[a][b]['key'])\n",
    "\n",
    "        if dirs == ['>', '^', '>']: pass\n",
    "        elif dirs == ['<', 'v', '<']: pass\n",
    "        else:\n",
    "            dirs.append('A')\n",
    "            results.append(dirs)\n",
    "\n",
    "    shortest_path_len = float('inf')\n",
    "\n",
    "    for result in results:\n",
    "        if 0 == depth:\n",
    "            if len(result) < shortest_path_len:\n",
    "                shortest_path_len = len(result)\n",
    "        else:\n",
    "            result = ['A'] + result\n",
    "            next_path_len = 0\n",
    "            for next_u, next_v in zip(result, result[1:]):\n",
    "                next_path_len += shortest_path_dirpad(next_u, next_v, depth-1)\n",
    "            if next_path_len < shortest_path_len:\n",
    "                shortest_path_len = next_path_len\n",
    "\n",
    "    return shortest_path_len"
   ],
   "metadata": {
    "collapsed": false,
    "ExecuteTime": {
     "end_time": "2024-12-26T00:38:01.856884Z",
     "start_time": "2024-12-26T00:38:01.851828Z"
    }
   },
   "outputs": [],
   "execution_count": 7
  },
  {
   "cell_type": "code",
   "source": [
    "def type_code(depth: int):\n",
    "    count = 0\n",
    "\n",
    "    for code in codes:\n",
    "        start_code = list('A' + code)\n",
    "        code_len = 0\n",
    "\n",
    "        for u, v in zip(start_code, start_code[1:]):\n",
    "            code_len += shortest_path_numpad(u, v, depth-1)\n",
    "        count += code_len * int(''.join([d for d in code if d.isdigit()]))\n",
    "\n",
    "    return count"
   ],
   "metadata": {
    "collapsed": false,
    "ExecuteTime": {
     "end_time": "2024-12-26T00:38:02.692282Z",
     "start_time": "2024-12-26T00:38:02.688611Z"
    }
   },
   "outputs": [],
   "execution_count": 8
  },
  {
   "cell_type": "code",
   "source": [
    "print(\"Part 1:\", type_code(2))\n",
    "print(\"Part 2:\", type_code(25))"
   ],
   "metadata": {
    "collapsed": false,
    "ExecuteTime": {
     "end_time": "2024-12-26T00:38:03.580544Z",
     "start_time": "2024-12-26T00:38:03.572171Z"
    }
   },
   "outputs": [
    {
     "name": "stdout",
     "output_type": "stream",
     "text": [
      "Part 1: 164960\n",
      "Part 2: 205620604017764\n"
     ]
    }
   ],
   "execution_count": 9
  }
 ],
 "metadata": {
  "kernelspec": {
   "display_name": "Python 3",
   "language": "python",
   "name": "python3"
  },
  "language_info": {
   "codemirror_mode": {
    "name": "ipython",
    "version": 2
   },
   "file_extension": ".py",
   "mimetype": "text/x-python",
   "name": "python",
   "nbconvert_exporter": "python",
   "pygments_lexer": "ipython2",
   "version": "2.7.6"
  }
 },
 "nbformat": 4,
 "nbformat_minor": 0
}
