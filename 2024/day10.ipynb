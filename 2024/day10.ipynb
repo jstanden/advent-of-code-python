{
 "cells": [
  {
   "cell_type": "code",
   "id": "initial_id",
   "metadata": {
    "collapsed": true,
    "ExecuteTime": {
     "end_time": "2024-12-10T08:35:00.180612Z",
     "start_time": "2024-12-10T08:35:00.177894Z"
    }
   },
   "source": "from collections import deque, defaultdict",
   "outputs": [],
   "execution_count": 1
  },
  {
   "metadata": {
    "ExecuteTime": {
     "end_time": "2024-12-10T08:35:00.268908Z",
     "start_time": "2024-12-10T08:35:00.267209Z"
    }
   },
   "cell_type": "code",
   "source": [
    "with open('../data/2024/day10.txt') as f:\n",
    "    data = f.read()"
   ],
   "id": "9d0374956df90252",
   "outputs": [],
   "execution_count": 2
  },
  {
   "metadata": {
    "ExecuteTime": {
     "end_time": "2024-12-10T08:35:00.423591Z",
     "start_time": "2024-12-10T08:35:00.418355Z"
    }
   },
   "cell_type": "code",
   "source": [
    "grid = defaultdict(None, {(y,x):int(symbol)\n",
    "   for y,row in enumerate(data.splitlines())\n",
    "   for x,symbol in enumerate(list(row))})"
   ],
   "id": "c6ec2401b05a5004",
   "outputs": [],
   "execution_count": 3
  },
  {
   "metadata": {
    "ExecuteTime": {
     "end_time": "2024-12-10T08:35:00.564281Z",
     "start_time": "2024-12-10T08:35:00.561135Z"
    }
   },
   "cell_type": "code",
   "source": [
    "directions = ((-1, 0), (1, 0), (0, -1), (0, 1))\n",
    "\n",
    "def find_in_grid(value):\n",
    "    return set(filter(lambda item: item[1] == value, grid.items()))\n",
    "\n",
    "def get_neighbors(loc: tuple):\n",
    "    neighbors = []\n",
    "    for d in directions:\n",
    "        at = vector_add(loc, d)\n",
    "        if grid.get(at): neighbors.append((at, grid[at]))\n",
    "    return neighbors\n",
    "\n",
    "def vector_add(v1, v2):\n",
    "   return tuple([v1[i] + v2[i] for i in range(len(v1))])"
   ],
   "id": "e4d4a2247ba0754c",
   "outputs": [],
   "execution_count": 4
  },
  {
   "metadata": {
    "ExecuteTime": {
     "end_time": "2024-12-10T08:35:00.709907Z",
     "start_time": "2024-12-10T08:35:00.708080Z"
    }
   },
   "cell_type": "code",
   "source": "trailheads = find_in_grid(0)",
   "id": "81784f25914884ce",
   "outputs": [],
   "execution_count": 5
  },
  {
   "metadata": {
    "ExecuteTime": {
     "end_time": "2024-12-10T08:35:01.176882Z",
     "start_time": "2024-12-10T08:35:01.154155Z"
    }
   },
   "cell_type": "code",
   "source": [
    "part1, part2 = 0,0\n",
    "\n",
    "for trailhead in trailheads:\n",
    "    stack = deque()\n",
    "    goals = set()\n",
    "    stack.append(trailhead)\n",
    "\n",
    "    while stack:\n",
    "        node = stack.pop()\n",
    "\n",
    "        if node[1] == 9:\n",
    "            goals.add(node[0])\n",
    "            part2 += 1\n",
    "\n",
    "        for n_at, n in get_neighbors(node[0]):\n",
    "            if n == node[1] + 1:\n",
    "                stack.append((n_at, n))\n",
    "\n",
    "    part1 += len(goals)\n",
    "\n",
    "print(f\"Part 1: {part1}\")\n",
    "print(f\"Part 2: {part2}\")"
   ],
   "id": "418d821b830f835",
   "outputs": [
    {
     "name": "stdout",
     "output_type": "stream",
     "text": [
      "Part 1: 754\n",
      "Part 2: 1609\n"
     ]
    }
   ],
   "execution_count": 6
  }
 ],
 "metadata": {
  "kernelspec": {
   "display_name": "Python 3",
   "language": "python",
   "name": "python3"
  },
  "language_info": {
   "codemirror_mode": {
    "name": "ipython",
    "version": 2
   },
   "file_extension": ".py",
   "mimetype": "text/x-python",
   "name": "python",
   "nbconvert_exporter": "python",
   "pygments_lexer": "ipython2",
   "version": "2.7.6"
  }
 },
 "nbformat": 4,
 "nbformat_minor": 5
}
