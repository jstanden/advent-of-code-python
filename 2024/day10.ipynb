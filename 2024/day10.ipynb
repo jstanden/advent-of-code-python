{
 "cells": [
  {
   "cell_type": "code",
   "id": "initial_id",
   "metadata": {
    "collapsed": true,
    "ExecuteTime": {
     "end_time": "2024-12-12T02:36:29.480018Z",
     "start_time": "2024-12-12T02:36:29.476539Z"
    }
   },
   "source": [
    "from collections import deque\n",
    "import lib.aoc.grid2d.vector as vector2d\n",
    "import lib.aoc.grid2d.grid as grid2d"
   ],
   "outputs": [],
   "execution_count": 1
  },
  {
   "metadata": {
    "ExecuteTime": {
     "end_time": "2024-12-12T02:36:30.176914Z",
     "start_time": "2024-12-12T02:36:30.172093Z"
    }
   },
   "cell_type": "code",
   "source": [
    "with open('../data/2024/day10.txt') as f:\n",
    "    data = f.read()"
   ],
   "id": "9d0374956df90252",
   "outputs": [],
   "execution_count": 2
  },
  {
   "cell_type": "code",
   "execution_count": 3,
   "outputs": [
    {
     "name": "stdout",
     "output_type": "stream",
     "text": [
      "Part 1: 754\n",
      "Part 2: 1609\n"
     ]
    }
   ],
   "source": [
    "grid = grid2d.parse(data)\n",
    "trailheads = grid2d.find_coords(grid, '0')\n",
    "part1, part2 = 0,0\n",
    "\n",
    "for trailhead in trailheads:\n",
    "    stack = deque()\n",
    "    goals = set()\n",
    "    stack.append(trailhead)\n",
    "\n",
    "    while stack:\n",
    "        at = stack.pop()\n",
    "        height = int(grid[at])\n",
    "\n",
    "        if height == 9:\n",
    "            goals.add(at)\n",
    "            part2 += 1\n",
    "\n",
    "        for n_at, n in grid2d.neighbors(grid, at, directions=vector2d.NESW):\n",
    "            if int(n) == height + 1:\n",
    "                stack.append(n_at)\n",
    "\n",
    "    part1 += len(goals)\n",
    "\n",
    "print(f\"Part 1: {part1}\")\n",
    "print(f\"Part 2: {part2}\")"
   ],
   "metadata": {
    "collapsed": false,
    "ExecuteTime": {
     "end_time": "2024-12-12T02:36:31.096213Z",
     "start_time": "2024-12-12T02:36:31.069601Z"
    }
   }
  }
 ],
 "metadata": {
  "kernelspec": {
   "display_name": "Python 3",
   "language": "python",
   "name": "python3"
  },
  "language_info": {
   "codemirror_mode": {
    "name": "ipython",
    "version": 2
   },
   "file_extension": ".py",
   "mimetype": "text/x-python",
   "name": "python",
   "nbconvert_exporter": "python",
   "pygments_lexer": "ipython2",
   "version": "2.7.6"
  }
 },
 "nbformat": 4,
 "nbformat_minor": 5
}
