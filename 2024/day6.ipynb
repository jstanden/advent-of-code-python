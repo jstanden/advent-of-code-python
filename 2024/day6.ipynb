{
 "cells": [
  {
   "cell_type": "code",
   "id": "initial_id",
   "metadata": {
    "collapsed": true,
    "ExecuteTime": {
     "end_time": "2024-12-07T00:57:50.039074Z",
     "start_time": "2024-12-07T00:57:50.026304Z"
    }
   },
   "source": [
    "from itertools import chain\n",
    "from multiprocess import pool"
   ],
   "outputs": [],
   "execution_count": 1
  },
  {
   "metadata": {
    "ExecuteTime": {
     "end_time": "2024-12-07T00:57:50.176250Z",
     "start_time": "2024-12-07T00:57:50.174537Z"
    }
   },
   "cell_type": "code",
   "source": [
    "with open('../data/2024/day6.txt') as f:\n",
    "   data = f.read()"
   ],
   "id": "ff45b56f12090369",
   "outputs": [],
   "execution_count": 2
  },
  {
   "metadata": {
    "ExecuteTime": {
     "end_time": "2024-12-07T00:57:50.368556Z",
     "start_time": "2024-12-07T00:57:50.366495Z"
    }
   },
   "cell_type": "code",
   "source": [
    "grid = list([list(line) for line in data.splitlines()])\n",
    "grid_extents = {'x0': 0, 'x1': len(grid[0]) - 1, 'y0': 0, 'y1': len(grid) - 1}"
   ],
   "id": "6c638309db6ec0db",
   "outputs": [],
   "execution_count": 3
  },
  {
   "metadata": {
    "ExecuteTime": {
     "end_time": "2024-12-07T00:57:50.549730Z",
     "start_time": "2024-12-07T00:57:50.546509Z"
    }
   },
   "cell_type": "code",
   "source": [
    "def find_in_grid(value):\n",
    "    return list(chain(*[[(y,index)\n",
    "        for index, element in enumerate(row)\n",
    "        if element == value]\n",
    "        for y,row in enumerate(grid)]))\n",
    "\n",
    "def vector_rotate_90(v):\n",
    "    return v[1], -v[0]\n",
    "\n",
    "def vector_add(v1, v2):\n",
    "   return tuple([v1[i] + v2[i] for i in range(len(v1))])"
   ],
   "id": "f0ec732b595d8e9a",
   "outputs": [],
   "execution_count": 4
  },
  {
   "metadata": {
    "ExecuteTime": {
     "end_time": "2024-12-07T00:57:50.853166Z",
     "start_time": "2024-12-07T00:57:50.850607Z"
    }
   },
   "cell_type": "code",
   "source": "obstacles = set(find_in_grid('#'))",
   "id": "280f81054a6d34f2",
   "outputs": [],
   "execution_count": 5
  },
  {
   "metadata": {
    "ExecuteTime": {
     "end_time": "2024-12-07T00:57:51.273233Z",
     "start_time": "2024-12-07T00:57:51.271925Z"
    }
   },
   "cell_type": "code",
   "source": [
    "# Part 1\n",
    "visited = set()\n",
    "guard_at = find_in_grid('^')[0]\n",
    "guard_dir = (-1,0) # north\n",
    "\n",
    "while True:\n",
    "    # Keep track of our past steps (plus starting location)\n",
    "    visited.add(guard_at)\n",
    "\n",
    "    # Look ahead\n",
    "    next_step = vector_add(guard_at, guard_dir)\n",
    "\n",
    "    # If the next step is out of bounds, we're done\n",
    "    if not (\n",
    "        grid_extents['x0'] <= next_step[0] <= grid_extents['x1']\n",
    "        and grid_extents['y0'] <= next_step[1] <= grid_extents['y1']\n",
    "    ): break\n",
    "    # If we hit an obstacle, rotate clockwise 90º\n",
    "    elif next_step in obstacles: guard_dir = vector_rotate_90(guard_dir)\n",
    "    # Otherwise move\n",
    "    else: guard_at = next_step\n",
    "\n",
    "print(\"Part 1: {}\".format(len(visited)))"
   ],
   "id": "3fe5f888097c8e93",
   "outputs": [
    {
     "name": "stdout",
     "output_type": "stream",
     "text": [
      "Part 1: 4656\n"
     ]
    }
   ],
   "execution_count": 6
  },
  {
   "metadata": {
    "ExecuteTime": {
     "end_time": "2024-12-07T00:57:53.007485Z",
     "start_time": "2024-12-07T00:57:52.168375Z"
    }
   },
   "cell_type": "code",
   "source": [
    "# Part 2\n",
    "# Only try positions we previously walked in part 1\n",
    "guard_start = find_in_grid('^')[0]\n",
    "prospective_locations = set(visited).difference([guard_start])\n",
    "\n",
    "def guard_walk(new_obstacle):\n",
    "    # Reset our state every attempt\n",
    "    visited = set()\n",
    "    guard_at = guard_start\n",
    "    guard_dir = (-1,0) # north\n",
    "\n",
    "    # Clone the original obstacles and add our new one\n",
    "    prospective_obstacles = set(obstacles)\n",
    "    prospective_obstacles.add(new_obstacle)\n",
    "\n",
    "    while True:\n",
    "        # If we repeat a location + heading we found a cycle\n",
    "        if (*guard_at, guard_dir) in visited:\n",
    "            return new_obstacle\n",
    "\n",
    "        # Keep track of our past steps and headings\n",
    "        visited.add((*guard_at, guard_dir))\n",
    "\n",
    "        # Look ahead\n",
    "        next_step = vector_add(guard_at, guard_dir)\n",
    "\n",
    "        # If the next step is out of bounds, abort this attempt\n",
    "        if not (\n",
    "            grid_extents['x0'] <= next_step[0] <= grid_extents['x1']\n",
    "            and grid_extents['y0'] <= next_step[1] <= grid_extents['y1']\n",
    "        ): break\n",
    "\n",
    "        # If we hit an obstacle, rotate clockwise 90º\n",
    "        elif next_step in prospective_obstacles: guard_dir = vector_rotate_90(guard_dir)\n",
    "        # Otherwise move\n",
    "        else: guard_at = next_step\n",
    "\n",
    "with pool.Pool() as p:\n",
    "    results = p.map(guard_walk, prospective_locations)\n",
    "\n",
    "print(\"Part 2:\", len(list(filter(None, results))))"
   ],
   "id": "e92785ec2990326d",
   "outputs": [
    {
     "name": "stdout",
     "output_type": "stream",
     "text": [
      "Part 2: 1575\n"
     ]
    }
   ],
   "execution_count": 7
  }
 ],
 "metadata": {
  "kernelspec": {
   "display_name": "Python 3",
   "language": "python",
   "name": "python3"
  },
  "language_info": {
   "codemirror_mode": {
    "name": "ipython",
    "version": 2
   },
   "file_extension": ".py",
   "mimetype": "text/x-python",
   "name": "python",
   "nbconvert_exporter": "python",
   "pygments_lexer": "ipython2",
   "version": "2.7.6"
  }
 },
 "nbformat": 4,
 "nbformat_minor": 5
}
