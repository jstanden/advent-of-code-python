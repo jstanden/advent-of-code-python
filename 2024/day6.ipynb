{
 "cells": [
  {
   "cell_type": "code",
   "id": "initial_id",
   "metadata": {
    "collapsed": true,
    "ExecuteTime": {
     "end_time": "2024-12-12T02:17:14.081871Z",
     "start_time": "2024-12-12T02:17:14.066660Z"
    }
   },
   "source": [
    "from multiprocess import pool\n",
    "import lib.aoc.grid2d.grid as grid2d\n",
    "import lib.aoc.grid2d.vector as vector2d"
   ],
   "outputs": [],
   "execution_count": 1
  },
  {
   "metadata": {
    "ExecuteTime": {
     "end_time": "2024-12-12T02:17:14.335770Z",
     "start_time": "2024-12-12T02:17:14.333290Z"
    }
   },
   "cell_type": "code",
   "source": [
    "with open('../data/2024/day6.txt') as f:\n",
    "   data = f.read()"
   ],
   "id": "ff45b56f12090369",
   "outputs": [],
   "execution_count": 2
  },
  {
   "metadata": {
    "ExecuteTime": {
     "end_time": "2024-12-12T02:17:14.615520Z",
     "start_time": "2024-12-12T02:17:14.614169Z"
    }
   },
   "cell_type": "code",
   "source": [
    "grid = grid2d.parse(data)"
   ],
   "id": "6c638309db6ec0db",
   "outputs": [],
   "execution_count": 3
  },
  {
   "cell_type": "code",
   "execution_count": 4,
   "outputs": [],
   "source": [
    "obstacles = grid2d.find_coords(grid, '#')"
   ],
   "metadata": {
    "collapsed": false,
    "ExecuteTime": {
     "end_time": "2024-12-12T02:17:14.830490Z",
     "start_time": "2024-12-12T02:17:14.827227Z"
    }
   }
  },
  {
   "metadata": {
    "ExecuteTime": {
     "end_time": "2024-12-12T02:17:15.117446Z",
     "start_time": "2024-12-12T02:17:15.115870Z"
    }
   },
   "cell_type": "code",
   "source": [
    "# Part 1\n",
    "visited = set()\n",
    "guard_at = next(iter(grid2d.find_coords(grid, '^')))\n",
    "guard_dir = (-1,0) # north\n",
    "\n",
    "while True:\n",
    "    # Keep track of our past steps (plus starting location)\n",
    "    visited.add(guard_at)\n",
    "\n",
    "    # Look ahead\n",
    "    next_step = vector2d.add(guard_at, guard_dir)\n",
    "\n",
    "    # If the next step is out of bounds, we're done\n",
    "    if not grid.get(next_step): break\n",
    "    # If we hit an obstacle, rotate clockwise 90º\n",
    "    elif next_step in obstacles: guard_dir = vector2d.rotate(guard_dir, 'R')\n",
    "    # Otherwise move\n",
    "    else: guard_at = next_step\n",
    "\n",
    "print(\"Part 1: {}\".format(len(visited)))"
   ],
   "id": "3fe5f888097c8e93",
   "outputs": [
    {
     "name": "stdout",
     "output_type": "stream",
     "text": [
      "Part 1: 4656\n"
     ]
    }
   ],
   "execution_count": 5
  },
  {
   "metadata": {
    "ExecuteTime": {
     "end_time": "2024-12-12T02:17:16.341770Z",
     "start_time": "2024-12-12T02:17:15.569957Z"
    }
   },
   "cell_type": "code",
   "source": [
    "# Part 2\n",
    "# Only try positions we previously walked in part 1\n",
    "guard_start = next(iter(grid2d.find_coords(grid, '^')))\n",
    "prospective_locations = set(visited).difference([guard_start])\n",
    "\n",
    "def guard_walk(new_obstacle):\n",
    "    # Reset our state every attempt\n",
    "    visited = set()\n",
    "    guard_at = guard_start\n",
    "    guard_dir = (-1,0) # north\n",
    "\n",
    "    # Clone the original obstacles and add our new one\n",
    "    prospective_obstacles = set(obstacles)\n",
    "    prospective_obstacles.add(new_obstacle)\n",
    "\n",
    "    while True:\n",
    "        # If we repeat a location + heading we found a cycle\n",
    "        if (*guard_at, guard_dir) in visited:\n",
    "            return new_obstacle\n",
    "\n",
    "        # Keep track of our past steps and headings\n",
    "        visited.add((*guard_at, guard_dir))\n",
    "\n",
    "        # Look ahead\n",
    "        next_step = vector2d.add(guard_at, guard_dir)\n",
    "\n",
    "        # If the next step is out of bounds, abort this attempt\n",
    "        if not grid.get(next_step): break\n",
    "\n",
    "        # If we hit an obstacle, rotate clockwise 90º\n",
    "        elif next_step in prospective_obstacles: guard_dir = vector2d.rotate(guard_dir, 'R')\n",
    "        # Otherwise move\n",
    "        else: guard_at = next_step\n",
    "\n",
    "with pool.Pool() as p:\n",
    "    results = p.map(guard_walk, prospective_locations)\n",
    "\n",
    "print(\"Part 2:\", len(list(filter(None, results))))"
   ],
   "id": "e92785ec2990326d",
   "outputs": [
    {
     "name": "stdout",
     "output_type": "stream",
     "text": [
      "Part 2: 1575\n"
     ]
    }
   ],
   "execution_count": 6
  }
 ],
 "metadata": {
  "kernelspec": {
   "display_name": "Python 3",
   "language": "python",
   "name": "python3"
  },
  "language_info": {
   "codemirror_mode": {
    "name": "ipython",
    "version": 2
   },
   "file_extension": ".py",
   "mimetype": "text/x-python",
   "name": "python",
   "nbconvert_exporter": "python",
   "pygments_lexer": "ipython2",
   "version": "2.7.6"
  }
 },
 "nbformat": 4,
 "nbformat_minor": 5
}
