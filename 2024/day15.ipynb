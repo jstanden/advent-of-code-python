{
 "cells": [
  {
   "cell_type": "code",
   "id": "initial_id",
   "metadata": {
    "collapsed": true,
    "ExecuteTime": {
     "end_time": "2024-12-16T04:39:41.925826Z",
     "start_time": "2024-12-16T04:39:41.921545Z"
    }
   },
   "source": [
    "import lib.aoc.grid2d.grid as grid2d\n",
    "import lib.aoc.grid2d.vector as vector2d\n",
    "from itertools import takewhile\n",
    "from collections import deque"
   ],
   "outputs": [],
   "execution_count": 1
  },
  {
   "metadata": {
    "ExecuteTime": {
     "end_time": "2024-12-16T04:39:42.063118Z",
     "start_time": "2024-12-16T04:39:42.061041Z"
    }
   },
   "cell_type": "code",
   "source": [
    "with open('../data/2024/day15.txt') as f:\n",
    "    data = f.read()"
   ],
   "id": "311df4348da5a16d",
   "outputs": [],
   "execution_count": 2
  },
  {
   "metadata": {
    "ExecuteTime": {
     "end_time": "2024-12-16T04:39:42.215875Z",
     "start_time": "2024-12-16T04:39:42.211438Z"
    }
   },
   "cell_type": "code",
   "source": [
    "grid_map, instructions = data.split(\"\\n\\n\")\n",
    "grid = grid2d.parse(grid_map)\n",
    "\n",
    "instructions = list(instructions.replace(\"\\n\", \"\"))\n",
    "dir_to_i = {\"^\":0,\">\":1,\"v\":2,\"<\":3}"
   ],
   "id": "693d088aef1938fb",
   "outputs": [],
   "execution_count": 3
  },
  {
   "metadata": {
    "ExecuteTime": {
     "end_time": "2024-12-16T04:39:42.360261Z",
     "start_time": "2024-12-16T04:39:42.352804Z"
    }
   },
   "cell_type": "code",
   "source": [
    "def render_grid():\n",
    "    extent = max(grid)\n",
    "    for y in range(0, extent[0]+1):\n",
    "        for x in range(0, extent[1]+1):\n",
    "            print(grid[(y,x)], end=\"\")\n",
    "        print()\n",
    "\n",
    "def shift_by_v(at: tuple, v: tuple):\n",
    "    # Cast a ray in the direction\n",
    "    ray = grid2d.fill(at, vector2d.add(at, vector2d.mul(v, 50)))\n",
    "    hits = list(takewhile(lambda item: grid.get(item[0]) != '#',\n",
    "                     [(yx,grid.get(yx)) for yx in ray if grid.get(yx)]))\n",
    "\n",
    "    try:\n",
    "        # Find the first empty tile in this ray\n",
    "        coords, tiles = list(zip(*hits))\n",
    "        first_empty = tiles.index('.')\n",
    "\n",
    "        # Sort all the boxes to the end to compress them\n",
    "        new_order = tiles[0:first_empty+1]\n",
    "        new_order = new_order[-1], *new_order[0:-1]\n",
    "\n",
    "        for tile, coord in zip(new_order, coords):\n",
    "            grid[coord] = tile\n",
    "            if '@' == tile: at = coord\n",
    "    except ValueError: pass\n",
    "    return at\n",
    "\n",
    "def check_box_path_in_v(loc: tuple, vec: tuple):\n",
    "    queue = deque([loc])\n",
    "    visited = set()\n",
    "\n",
    "    while queue:\n",
    "        loc = queue.popleft()\n",
    "        tile = grid.get(loc)\n",
    "        check = []\n",
    "\n",
    "        if tile == ']':\n",
    "            check.append(vector2d.add(loc, vector2d.NESW[3]))\n",
    "            check.append(vector2d.add(loc, vec))\n",
    "        elif tile == '[':\n",
    "            check.append(vector2d.add(loc, vector2d.NESW[1]))\n",
    "            check.append(vector2d.add(loc, vec))\n",
    "        elif tile == '#':\n",
    "            return False\n",
    "\n",
    "        for item in check:\n",
    "            if not item in visited:\n",
    "                visited.add(item)\n",
    "                queue.append(item)\n",
    "\n",
    "    return visited\n",
    "\n",
    "def walk_map(at: tuple):\n",
    "    for d in instructions:\n",
    "        v = vector2d.NESW[dir_to_i[d]]\n",
    "        n_at = vector2d.add(at, v)\n",
    "        n_is = grid.get(n_at)\n",
    "\n",
    "        if n_is == '.':\n",
    "            grid[at], grid[n_at] = grid[n_at], grid[at]\n",
    "            at = n_at\n",
    "        elif n_is == '#': pass\n",
    "        elif n_is in ['O']:\n",
    "            at = shift_by_v(at, v)\n",
    "        elif n_is in ['[',']']:\n",
    "            # Push stacked boxes\n",
    "            if v[0] != 0: # north or south\n",
    "                boxes = check_box_path_in_v(n_at, v)\n",
    "                if boxes:\n",
    "                    boxes = sorted(boxes, reverse=v[0] > 0)\n",
    "                    for yx in [coord for coord in boxes if grid.get(coord) != '.']:\n",
    "                        grid[yx], grid[vector2d.add(yx, v)] = grid[vector2d.add(yx, v)], grid[yx]\n",
    "                    # Move the robot\n",
    "                    grid[at], grid[n_at] = grid[n_at], grid[at]\n",
    "                    at = n_at\n",
    "            else:\n",
    "                at = shift_by_v(at, v)"
   ],
   "id": "8715a64cbe749ec8",
   "outputs": [],
   "execution_count": 4
  },
  {
   "metadata": {
    "ExecuteTime": {
     "end_time": "2024-12-16T04:39:42.524938Z",
     "start_time": "2024-12-16T04:39:42.493748Z"
    }
   },
   "cell_type": "code",
   "source": [
    "# Part 1\n",
    "start = next(iter(grid2d.find_coords(grid, '@')))\n",
    "walk_map(start)\n",
    "print(\"Part 1:\", sum([y * 100 + x for y,x in grid2d.find_coords(grid, 'O')]))"
   ],
   "id": "60d009eb32e8ae2f",
   "outputs": [
    {
     "name": "stdout",
     "output_type": "stream",
     "text": [
      "Part 1: 1485257\n"
     ]
    }
   ],
   "execution_count": 5
  },
  {
   "metadata": {
    "ExecuteTime": {
     "end_time": "2024-12-16T04:39:43.142434Z",
     "start_time": "2024-12-16T04:39:43.105839Z"
    }
   },
   "cell_type": "code",
   "source": [
    "# Part 2\n",
    "wide_map = (grid_map\n",
    "            .replace('#','##')\n",
    "            .replace('O','[]')\n",
    "            .replace('@','@@')\n",
    "            .replace('.','..')\n",
    "            .replace('@@','@.'))\n",
    "\n",
    "grid = grid2d.parse(wide_map)\n",
    "start = next(iter(grid2d.find_coords(grid, '@')))\n",
    "walk_map(start)\n",
    "print(\"Part 2:\", sum([y * 100 + x for y,x in grid2d.find_coords(grid, '[')]))"
   ],
   "id": "50f6548a9dea3786",
   "outputs": [
    {
     "name": "stdout",
     "output_type": "stream",
     "text": [
      "Part 2: 1475512\n"
     ]
    }
   ],
   "execution_count": 6
  }
 ],
 "metadata": {
  "kernelspec": {
   "display_name": "Python 3",
   "language": "python",
   "name": "python3"
  },
  "language_info": {
   "codemirror_mode": {
    "name": "ipython",
    "version": 2
   },
   "file_extension": ".py",
   "mimetype": "text/x-python",
   "name": "python",
   "nbconvert_exporter": "python",
   "pygments_lexer": "ipython2",
   "version": "2.7.6"
  }
 },
 "nbformat": 4,
 "nbformat_minor": 5
}
