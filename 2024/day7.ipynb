{
 "cells": [
  {
   "cell_type": "code",
   "id": "initial_id",
   "metadata": {
    "collapsed": true,
    "ExecuteTime": {
     "end_time": "2024-12-12T02:20:24.463104Z",
     "start_time": "2024-12-12T02:20:24.460713Z"
    }
   },
   "source": [
    "import re\n",
    "from collections import defaultdict, deque"
   ],
   "outputs": [],
   "execution_count": 1
  },
  {
   "metadata": {
    "ExecuteTime": {
     "end_time": "2024-12-12T02:20:24.694635Z",
     "start_time": "2024-12-12T02:20:24.690459Z"
    }
   },
   "cell_type": "code",
   "source": [
    "with open(\"../data/2024/day7.txt\") as f:\n",
    "   data = f.read()"
   ],
   "id": "44bd7292590287c1",
   "outputs": [],
   "execution_count": 2
  },
  {
   "metadata": {
    "ExecuteTime": {
     "end_time": "2024-12-12T02:20:25.293230Z",
     "start_time": "2024-12-12T02:20:25.291307Z"
    }
   },
   "cell_type": "code",
   "source": [
    "equations = [re.split(r'[^\\d]+', line) for line in data.splitlines()]"
   ],
   "id": "de9e7abf62fd5834",
   "outputs": [],
   "execution_count": 3
  },
  {
   "metadata": {
    "ExecuteTime": {
     "end_time": "2024-12-12T02:20:31.353915Z",
     "start_time": "2024-12-12T02:20:25.914055Z"
    }
   },
   "cell_type": "code",
   "source": [
    "stack = deque()\n",
    "part1 = defaultdict(int)\n",
    "part2 = defaultdict(int)\n",
    "\n",
    "for i,terms in enumerate(equations):\n",
    "    # Tuples (goal, computed, remaining terms, equation id, part 2)\n",
    "    stack.append((int(terms[0]), int(terms[1]), [int(n) for n in terms[2:]], i, False))\n",
    "\n",
    "while not 0 == len(stack):\n",
    "    eq = stack.pop()\n",
    "\n",
    "    # If we exceeded the goal or previously solved this equation\n",
    "    if eq[1] > eq[0]:\n",
    "        continue\n",
    "    # If we've processed all the terms\n",
    "    elif 0 == len(eq[2]):\n",
    "        # If our goal and computed are equal, this is a solution\n",
    "        if eq[0] == eq[1]:\n",
    "            # Only store one solution per equation id\n",
    "            if not eq[4]: part1[eq[3]] = eq[0] # Only if we never used concat\n",
    "            part2[eq[3]] = eq[0]\n",
    "    else:\n",
    "        # Branch to test adding, multiplying, and concat\n",
    "        stack.append((eq[0], eq[1] + eq[2][0], eq[2][1:], eq[3], eq[4]))\n",
    "        stack.append((eq[0], eq[1] * eq[2][0], eq[2][1:], eq[3], eq[4]))\n",
    "        # Once we concat this can only ever be a Part 2 solution\n",
    "        stack.append((eq[0], int(str(eq[1]) + str(eq[2][0])), eq[2][1:], eq[3], True))\n",
    "\n",
    "print(\"Part 1:\", sum(part1.values())) # 20665830408335\n",
    "print(\"Part 2:\", sum(part2.values())) # 354060705047464"
   ],
   "id": "c1f368ec76cb48ed",
   "outputs": [
    {
     "name": "stdout",
     "output_type": "stream",
     "text": [
      "Part 1: 20665830408335\n",
      "Part 2: 354060705047464\n"
     ]
    }
   ],
   "execution_count": 4
  }
 ],
 "metadata": {
  "kernelspec": {
   "display_name": "Python 3",
   "language": "python",
   "name": "python3"
  },
  "language_info": {
   "codemirror_mode": {
    "name": "ipython",
    "version": 2
   },
   "file_extension": ".py",
   "mimetype": "text/x-python",
   "name": "python",
   "nbconvert_exporter": "python",
   "pygments_lexer": "ipython2",
   "version": "2.7.6"
  }
 },
 "nbformat": 4,
 "nbformat_minor": 5
}
