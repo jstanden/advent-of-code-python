{
 "cells": [
  {
   "cell_type": "code",
   "id": "initial_id",
   "metadata": {
    "collapsed": true,
    "ExecuteTime": {
     "end_time": "2024-12-23T05:56:04.032421Z",
     "start_time": "2024-12-23T05:56:03.982532Z"
    }
   },
   "source": "import networkx as nx",
   "outputs": [],
   "execution_count": 1
  },
  {
   "metadata": {
    "ExecuteTime": {
     "end_time": "2024-12-23T05:56:04.204081Z",
     "start_time": "2024-12-23T05:56:04.201958Z"
    }
   },
   "cell_type": "code",
   "source": [
    "with open('../data/2024/day23.txt') as f:\n",
    "    data = f.read()"
   ],
   "id": "1628897479aa13e7",
   "outputs": [],
   "execution_count": 2
  },
  {
   "metadata": {
    "ExecuteTime": {
     "end_time": "2024-12-23T05:56:04.644927Z",
     "start_time": "2024-12-23T05:56:04.640018Z"
    }
   },
   "cell_type": "code",
   "source": "computers = [line.split('-') for line in data.splitlines()]",
   "id": "40e143c213014cdb",
   "outputs": [],
   "execution_count": 3
  },
  {
   "metadata": {
    "ExecuteTime": {
     "end_time": "2024-12-23T05:56:06.096110Z",
     "start_time": "2024-12-23T05:56:06.088141Z"
    }
   },
   "cell_type": "code",
   "source": [
    "G = nx.Graph()\n",
    "for pair in computers:\n",
    "    G.add_edge(*pair)"
   ],
   "id": "1cec509dd53104",
   "outputs": [],
   "execution_count": 4
  },
  {
   "metadata": {
    "ExecuteTime": {
     "end_time": "2024-12-23T05:56:07.092365Z",
     "start_time": "2024-12-23T05:56:06.556017Z"
    }
   },
   "cell_type": "code",
   "source": [
    "# Part 1\n",
    "cliques = [clique for clique in list(nx.enumerate_all_cliques(G)) if 3 == len(clique)]\n",
    "part1 = sum([1 if any(map(lambda c: c.startswith('t'), clique)) else 0 for clique in cliques])\n",
    "print(\"Part 1:\", part1)"
   ],
   "id": "a0d0ed3f2d8eab0e",
   "outputs": [
    {
     "name": "stdout",
     "output_type": "stream",
     "text": [
      "Part 1: 1284\n"
     ]
    }
   ],
   "execution_count": 5
  },
  {
   "metadata": {
    "ExecuteTime": {
     "end_time": "2024-12-23T05:56:08.154822Z",
     "start_time": "2024-12-23T05:56:07.680382Z"
    }
   },
   "cell_type": "code",
   "source": [
    "# Part 2\n",
    "part2 = ','.join(sorted(max(list(nx.enumerate_all_cliques(G)), key=len)))\n",
    "print(\"Part 2:\", part2)"
   ],
   "id": "6f281ed6291b001",
   "outputs": [
    {
     "name": "stdout",
     "output_type": "stream",
     "text": [
      "Part 2: bv,cm,dk,em,gs,jv,ml,oy,qj,ri,uo,xk,yw\n"
     ]
    }
   ],
   "execution_count": 6
  }
 ],
 "metadata": {
  "kernelspec": {
   "display_name": "Python 3",
   "language": "python",
   "name": "python3"
  },
  "language_info": {
   "codemirror_mode": {
    "name": "ipython",
    "version": 2
   },
   "file_extension": ".py",
   "mimetype": "text/x-python",
   "name": "python",
   "nbconvert_exporter": "python",
   "pygments_lexer": "ipython2",
   "version": "2.7.6"
  }
 },
 "nbformat": 4,
 "nbformat_minor": 5
}
