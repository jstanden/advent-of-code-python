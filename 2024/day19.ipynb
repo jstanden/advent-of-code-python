{
 "cells": [
  {
   "cell_type": "code",
   "id": "initial_id",
   "metadata": {
    "collapsed": true,
    "ExecuteTime": {
     "end_time": "2024-12-19T21:43:30.406367Z",
     "start_time": "2024-12-19T21:43:30.400360Z"
    }
   },
   "source": [
    "from functools import cache"
   ],
   "outputs": [],
   "execution_count": 1
  },
  {
   "metadata": {
    "ExecuteTime": {
     "end_time": "2024-12-19T21:43:30.528780Z",
     "start_time": "2024-12-19T21:43:30.526602Z"
    }
   },
   "cell_type": "code",
   "source": [
    "with open(\"../data/2024/day19.txt\") as f:\n",
    "    data = f.read()"
   ],
   "id": "a338b1a37d052721",
   "outputs": [],
   "execution_count": 2
  },
  {
   "metadata": {
    "ExecuteTime": {
     "end_time": "2024-12-19T21:43:30.867460Z",
     "start_time": "2024-12-19T21:43:30.865485Z"
    }
   },
   "cell_type": "code",
   "source": [
    "towels, designs = data.split(\"\\n\\n\")\n",
    "towels, designs = list(towels.split(', ')), list(designs.split('\\n'))"
   ],
   "id": "4accc2f1acaeb845",
   "outputs": [],
   "execution_count": 3
  },
  {
   "metadata": {
    "ExecuteTime": {
     "end_time": "2024-12-19T21:43:32.048363Z",
     "start_time": "2024-12-19T21:43:31.616029Z"
    }
   },
   "cell_type": "code",
   "source": [
    "@cache\n",
    "def get_combos(design: str) -> int:\n",
    "    count = 0\n",
    "    for prefix in towels:\n",
    "        if design.startswith(prefix):\n",
    "            new_design = design[len(prefix):]\n",
    "            if new_design: count += get_combos(new_design)\n",
    "            else: count += 1\n",
    "    return count\n",
    "\n",
    "combos = [get_combos(design) for design in designs]\n",
    "print(\"Part 1:\", sum([1 for combo in combos if combo]))\n",
    "print(\"Part 2:\", sum(combos))"
   ],
   "id": "9dd376690064762b",
   "outputs": [
    {
     "name": "stdout",
     "output_type": "stream",
     "text": [
      "Part 1: 358\n",
      "Part 2: 600639829400603\n"
     ]
    }
   ],
   "execution_count": 4
  }
 ],
 "metadata": {
  "kernelspec": {
   "display_name": "Python 3",
   "language": "python",
   "name": "python3"
  },
  "language_info": {
   "codemirror_mode": {
    "name": "ipython",
    "version": 2
   },
   "file_extension": ".py",
   "mimetype": "text/x-python",
   "name": "python",
   "nbconvert_exporter": "python",
   "pygments_lexer": "ipython2",
   "version": "2.7.6"
  }
 },
 "nbformat": 4,
 "nbformat_minor": 5
}
