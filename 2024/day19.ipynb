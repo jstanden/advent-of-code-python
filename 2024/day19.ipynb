{
 "cells": [
  {
   "cell_type": "code",
   "id": "initial_id",
   "metadata": {
    "collapsed": true,
    "ExecuteTime": {
     "end_time": "2024-12-19T20:49:33.086564Z",
     "start_time": "2024-12-19T20:49:33.083623Z"
    }
   },
   "source": [
    "from collections import deque\n",
    "from functools import cache"
   ],
   "outputs": [],
   "execution_count": 1
  },
  {
   "metadata": {
    "ExecuteTime": {
     "end_time": "2024-12-19T20:49:33.224468Z",
     "start_time": "2024-12-19T20:49:33.222350Z"
    }
   },
   "cell_type": "code",
   "source": [
    "with open(\"../data/2024/day19.txt\") as f:\n",
    "    data = f.read()"
   ],
   "id": "a338b1a37d052721",
   "outputs": [],
   "execution_count": 2
  },
  {
   "metadata": {
    "ExecuteTime": {
     "end_time": "2024-12-19T20:49:33.479607Z",
     "start_time": "2024-12-19T20:49:33.476623Z"
    }
   },
   "cell_type": "code",
   "source": [
    "towels, designs = data.split(\"\\n\\n\")\n",
    "towels, designs = list(towels.split(', ')), list(designs.split('\\n'))"
   ],
   "id": "4accc2f1acaeb845",
   "outputs": [],
   "execution_count": 3
  },
  {
   "metadata": {
    "ExecuteTime": {
     "end_time": "2024-12-19T20:49:34.111353Z",
     "start_time": "2024-12-19T20:49:33.847996Z"
    }
   },
   "cell_type": "code",
   "source": [
    "# Part 1\n",
    "queue = deque()\n",
    "possible = set()\n",
    "\n",
    "for design in designs:\n",
    "    queue.append((design, design))\n",
    "\n",
    "while queue:\n",
    "    design, remainder = queue.pop()\n",
    "\n",
    "    if design in possible: continue\n",
    "\n",
    "    for towel in towels:\n",
    "        towel_combo = remainder\n",
    "\n",
    "        if towel_combo.startswith(towel):\n",
    "            towel_combo = towel_combo[len(towel):]\n",
    "\n",
    "            if 0 == len(towel_combo):\n",
    "                possible.add(design)\n",
    "                break\n",
    "\n",
    "            queue.append((design, towel_combo))\n",
    "\n",
    "print(\"Part 1:\", len(possible))"
   ],
   "id": "e8a4dc327586dcb0",
   "outputs": [
    {
     "name": "stdout",
     "output_type": "stream",
     "text": [
      "Part 1: 358\n"
     ]
    }
   ],
   "execution_count": 4
  },
  {
   "metadata": {
    "ExecuteTime": {
     "end_time": "2024-12-19T20:49:35.397587Z",
     "start_time": "2024-12-19T20:49:35.064301Z"
    }
   },
   "cell_type": "code",
   "source": [
    "combos = 0\n",
    "\n",
    "@cache\n",
    "def get_combos(design: str) -> int:\n",
    "    count = 0\n",
    "    for prefix in towels:\n",
    "        if design.startswith(prefix):\n",
    "            new_design = design[len(prefix):]\n",
    "            if new_design: count += get_combos(new_design)\n",
    "            else: count += 1\n",
    "    return count\n",
    "\n",
    "print(\"Part 2:\", sum([get_combos(design) for design in designs]))"
   ],
   "id": "9dd376690064762b",
   "outputs": [
    {
     "name": "stdout",
     "output_type": "stream",
     "text": [
      "Part 2: 600639829400603\n"
     ]
    }
   ],
   "execution_count": 5
  }
 ],
 "metadata": {
  "kernelspec": {
   "display_name": "Python 3",
   "language": "python",
   "name": "python3"
  },
  "language_info": {
   "codemirror_mode": {
    "name": "ipython",
    "version": 2
   },
   "file_extension": ".py",
   "mimetype": "text/x-python",
   "name": "python",
   "nbconvert_exporter": "python",
   "pygments_lexer": "ipython2",
   "version": "2.7.6"
  }
 },
 "nbformat": 4,
 "nbformat_minor": 5
}
