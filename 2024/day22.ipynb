{
 "cells": [
  {
   "cell_type": "code",
   "id": "initial_id",
   "metadata": {
    "collapsed": true,
    "ExecuteTime": {
     "end_time": "2024-12-23T09:28:46.537425Z",
     "start_time": "2024-12-23T09:28:46.530019Z"
    }
   },
   "source": [
    "import operator\n",
    "from math import floor\n",
    "from collections import namedtuple, defaultdict\n",
    "from typing import Type\n",
    "from itertools import chain\n",
    "from more_itertools import windowed"
   ],
   "outputs": [],
   "execution_count": 1
  },
  {
   "metadata": {
    "ExecuteTime": {
     "end_time": "2024-12-23T09:28:47.037969Z",
     "start_time": "2024-12-23T09:28:47.032852Z"
    }
   },
   "cell_type": "code",
   "source": [
    "with open('../data/2024/day22.txt', 'r') as f:\n",
    "    data = f.read()"
   ],
   "id": "70340f8450c52b7e",
   "outputs": [],
   "execution_count": 2
  },
  {
   "metadata": {
    "ExecuteTime": {
     "end_time": "2024-12-23T09:28:47.493645Z",
     "start_time": "2024-12-23T09:28:47.491160Z"
    }
   },
   "cell_type": "code",
   "source": "secrets = list(map(int, data.splitlines()))",
   "id": "423d369c300d17d0",
   "outputs": [],
   "execution_count": 3
  },
  {
   "metadata": {
    "ExecuteTime": {
     "end_time": "2024-12-23T09:28:47.945144Z",
     "start_time": "2024-12-23T09:28:47.942895Z"
    }
   },
   "cell_type": "code",
   "source": [
    "def pseudo_randomize(s):\n",
    "    s = operator.xor(s * 64, s) % 16777216\n",
    "    s = operator.xor(floor(s / 32), s) % 16777216\n",
    "    s = operator.xor(s * 2048, s) % 16777216\n",
    "    return s"
   ],
   "id": "1d76e9f1e749aaa2",
   "outputs": [],
   "execution_count": 4
  },
  {
   "metadata": {
    "ExecuteTime": {
     "end_time": "2024-12-23T09:28:49.442816Z",
     "start_time": "2024-12-23T09:28:48.700558Z"
    }
   },
   "cell_type": "code",
   "source": [
    "# Part 1\n",
    "def secret_at_t(s, t):\n",
    "    for _ in range(t): s = pseudo_randomize(s)\n",
    "    return s\n",
    "\n",
    "print(\"Part 1:\", sum([secret_at_t(s, 2000) for s in secrets]))"
   ],
   "id": "cde841228b648414",
   "outputs": [
    {
     "name": "stdout",
     "output_type": "stream",
     "text": [
      "Part 1: 19458130434\n"
     ]
    }
   ],
   "execution_count": 5
  },
  {
   "metadata": {
    "ExecuteTime": {
     "end_time": "2024-12-23T09:29:13.419996Z",
     "start_time": "2024-12-23T09:28:50.262965Z"
    }
   },
   "cell_type": "code",
   "source": [
    "# Part 2\n",
    "BuyerPrice: Type = namedtuple('BuyerPrice', ('price', 'delta'))\n",
    "buyers = defaultdict(list)\n",
    "\n",
    "# Calculate the first 2000 secrets for every buyer\n",
    "for i,s in enumerate(secrets):\n",
    "    for t in range(2000):\n",
    "        last_ones = s % 10\n",
    "        s = pseudo_randomize(s)\n",
    "        ones = s % 10\n",
    "        buyers[i].append(BuyerPrice(price=ones, delta=ones-last_ones))\n",
    "\n",
    "sequences = [defaultdict(int) for b in buyers]\n",
    "\n",
    "# Hash sequences first occurrences by buyer using a sliding window\n",
    "for buyer, _ in enumerate(buyers):\n",
    "    for w in windowed(buyers[buyer], 4):\n",
    "        seq, price = tuple(b.delta for b in w), w[3].price\n",
    "        if seq in sequences[buyer]: continue\n",
    "        sequences[buyer][seq] = price\n",
    "\n",
    "best_sum = 0\n",
    "\n",
    "# Check every distinct sequence across all buyers and sum\n",
    "for seq in set(chain(*sequences)):\n",
    "    new_sum = sum([sequences[i].get(seq,0) for i in buyers])\n",
    "    if new_sum > best_sum:\n",
    "        best_sum = new_sum\n",
    "\n",
    "print(\"Part 2:\", best_sum)"
   ],
   "id": "b987446e0e577448",
   "outputs": [
    {
     "name": "stdout",
     "output_type": "stream",
     "text": [
      "Part 2: 2130\n"
     ]
    }
   ],
   "execution_count": 6
  }
 ],
 "metadata": {
  "kernelspec": {
   "display_name": "Python 3",
   "language": "python",
   "name": "python3"
  },
  "language_info": {
   "codemirror_mode": {
    "name": "ipython",
    "version": 2
   },
   "file_extension": ".py",
   "mimetype": "text/x-python",
   "name": "python",
   "nbconvert_exporter": "python",
   "pygments_lexer": "ipython2",
   "version": "2.7.6"
  }
 },
 "nbformat": 4,
 "nbformat_minor": 5
}
