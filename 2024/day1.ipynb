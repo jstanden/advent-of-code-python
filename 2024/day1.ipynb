{
 "cells": [
  {
   "cell_type": "code",
   "id": "initial_id",
   "metadata": {
    "collapsed": true,
    "ExecuteTime": {
     "end_time": "2024-12-05T00:01:07.924826Z",
     "start_time": "2024-12-05T00:01:07.922991Z"
    }
   },
   "source": [
    "import re"
   ],
   "outputs": [],
   "execution_count": 1
  },
  {
   "metadata": {
    "ExecuteTime": {
     "end_time": "2024-12-05T00:01:08.518285Z",
     "start_time": "2024-12-05T00:01:08.516954Z"
    }
   },
   "cell_type": "code",
   "source": [
    "with open(\"../data/2024/day1.txt\") as f:\n",
    "    lines = f.read()"
   ],
   "id": "2f76b8b00121c45d",
   "outputs": [],
   "execution_count": 2
  },
  {
   "metadata": {
    "ExecuteTime": {
     "end_time": "2024-12-05T00:01:09.030970Z",
     "start_time": "2024-12-05T00:01:09.028810Z"
    }
   },
   "cell_type": "code",
   "source": [
    "# Part 1\n",
    "list1, list2 = zip(*list([re.split(\"\\s+\", line) for line in lines.split(\"\\n\")]))\n",
    "list1 = sorted(map(int, list1))\n",
    "list2 = sorted(map(int, list2))\n",
    "sum(abs(pair[0]-pair[1]) for pair in zip(list1,list2))"
   ],
   "id": "58687e1d53261519",
   "outputs": [
    {
     "data": {
      "text/plain": "1223326"
     },
     "execution_count": 3,
     "metadata": {},
     "output_type": "execute_result"
    }
   ],
   "execution_count": 3
  },
  {
   "metadata": {
    "ExecuteTime": {
     "end_time": "2024-12-05T00:01:09.734392Z",
     "start_time": "2024-12-05T00:01:09.730691Z"
    }
   },
   "cell_type": "code",
   "source": [
    "# Part 2\n",
    "from collections import Counter\n",
    "freq = Counter(list2)\n",
    "sum([x * freq[x] for x in list1])"
   ],
   "id": "a0b4eadc643cc071",
   "outputs": [
    {
     "data": {
      "text/plain": "21070419"
     },
     "execution_count": 4,
     "metadata": {},
     "output_type": "execute_result"
    }
   ],
   "execution_count": 4
  },
  {
   "cell_type": "code",
   "execution_count": null,
   "outputs": [],
   "source": [],
   "metadata": {
    "collapsed": false
   }
  }
 ],
 "metadata": {
  "kernelspec": {
   "display_name": "Python 3",
   "language": "python",
   "name": "python3"
  },
  "language_info": {
   "codemirror_mode": {
    "name": "ipython",
    "version": 2
   },
   "file_extension": ".py",
   "mimetype": "text/x-python",
   "name": "python",
   "nbconvert_exporter": "python",
   "pygments_lexer": "ipython2",
   "version": "2.7.6"
  }
 },
 "nbformat": 4,
 "nbformat_minor": 5
}
