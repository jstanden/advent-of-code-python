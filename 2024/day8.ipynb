{
 "cells": [
  {
   "cell_type": "code",
   "id": "initial_id",
   "metadata": {
    "collapsed": true,
    "ExecuteTime": {
     "end_time": "2024-12-12T02:35:06.102817Z",
     "start_time": "2024-12-12T02:35:06.099744Z"
    }
   },
   "source": [
    "from itertools import combinations, count\n",
    "from collections import defaultdict\n",
    "import lib.aoc.grid2d.grid as grid2d\n",
    "import lib.aoc.grid2d.vector as vector2d"
   ],
   "outputs": [],
   "execution_count": 1
  },
  {
   "metadata": {
    "ExecuteTime": {
     "end_time": "2024-12-12T02:35:06.222212Z",
     "start_time": "2024-12-12T02:35:06.217878Z"
    }
   },
   "cell_type": "code",
   "source": [
    "with open(\"../data/2024/day8.txt\") as f:\n",
    " data = f.read()"
   ],
   "id": "bb3eeac14736f64",
   "outputs": [],
   "execution_count": 2
  },
  {
   "metadata": {
    "ExecuteTime": {
     "end_time": "2024-12-12T02:35:06.338561Z",
     "start_time": "2024-12-12T02:35:06.337096Z"
    }
   },
   "cell_type": "code",
   "source": [
    "grid = grid2d.parse(data)\n",
    "antennas = defaultdict(list)"
   ],
   "id": "4eff66345f65dc1a",
   "outputs": [],
   "execution_count": 3
  },
  {
   "metadata": {},
   "cell_type": "code",
   "source": [
    "# Build a dictionary of antenna locations hashed by symbol sorted by x\n",
    "# {'0': [(1, 8), (2, 5), (3, 7), (4, 4)],\n",
    "#  'A': [(5, 6), (8, 8), (9, 9)]})\n",
    "{antennas[element].append(coord)\n",
    "    for coord, element in grid.items()\n",
    "    if element != '.'}"
   ],
   "id": "5868083370927d16",
   "outputs": [],
   "execution_count": null
  },
  {
   "metadata": {
    "ExecuteTime": {
     "end_time": "2024-12-12T02:35:07.024223Z",
     "start_time": "2024-12-12T02:35:07.021791Z"
    }
   },
   "cell_type": "code",
   "source": [
    "# Generate antinodes for every pair of same-symbol antennas\n",
    "part1_antinodes = set()\n",
    "part2_antinodes = set()\n",
    "\n",
    "for antenna, coords in antennas.items():\n",
    "    for pair in list(combinations(coords, 2)):\n",
    "        # rise/run per pair for placing the antinodes\n",
    "        rise, run = vector2d.slope(*pair)\n",
    "\n",
    "        for n in count():\n",
    "            (y1, x1) = pair[1][0] + rise*n, pair[1][1] + run*n\n",
    "            if grid.get((y1, x1)):\n",
    "                if 1 == n: part1_antinodes.add((y1, x1))\n",
    "                part2_antinodes.add((y1, x1))\n",
    "            else: break\n",
    "\n",
    "        for n in count():\n",
    "            (y2, x2) = pair[0][0] - rise*n, pair[0][1] - run*n\n",
    "            if grid.get((y2, x2)):\n",
    "                if 1 == n: part1_antinodes.add((y2, x2))\n",
    "                part2_antinodes.add((y2, x2))\n",
    "            else: break\n",
    "\n",
    "print(f'Part 1: {len(part1_antinodes)}')\n",
    "print(f'Part 2: {len(part2_antinodes)}')"
   ],
   "id": "4af1bb1bc1376f4d",
   "outputs": [
    {
     "name": "stdout",
     "output_type": "stream",
     "text": [
      "Part 1: 313\n",
      "Part 2: 1064\n"
     ]
    }
   ],
   "execution_count": 5
  }
 ],
 "metadata": {
  "kernelspec": {
   "display_name": "Python 3",
   "language": "python",
   "name": "python3"
  },
  "language_info": {
   "codemirror_mode": {
    "name": "ipython",
    "version": 2
   },
   "file_extension": ".py",
   "mimetype": "text/x-python",
   "name": "python",
   "nbconvert_exporter": "python",
   "pygments_lexer": "ipython2",
   "version": "2.7.6"
  }
 },
 "nbformat": 4,
 "nbformat_minor": 5
}
