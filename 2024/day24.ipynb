{
 "cells": [
  {
   "cell_type": "code",
   "id": "initial_id",
   "metadata": {
    "collapsed": true,
    "ExecuteTime": {
     "end_time": "2024-12-25T01:58:23.648062Z",
     "start_time": "2024-12-25T01:58:23.545991Z"
    }
   },
   "source": [
    "import re\n",
    "import operator\n",
    "import networkx as nx"
   ],
   "outputs": [],
   "execution_count": 1
  },
  {
   "metadata": {
    "ExecuteTime": {
     "end_time": "2024-12-25T01:58:23.966152Z",
     "start_time": "2024-12-25T01:58:23.962222Z"
    }
   },
   "cell_type": "code",
   "source": [
    "with open('../data/2024/day24.txt') as f:\n",
    "    data = f.read()"
   ],
   "id": "2d6a47fdd1eba580",
   "outputs": [],
   "execution_count": 2
  },
  {
   "metadata": {
    "ExecuteTime": {
     "end_time": "2024-12-25T01:58:24.388321Z",
     "start_time": "2024-12-25T01:58:24.385823Z"
    }
   },
   "cell_type": "code",
   "source": [
    "wires, gates = data.split(\"\\n\\n\")\n",
    "wires = [tuple(w.split(': ')) for w in wires.splitlines()]\n",
    "gates = [re.findall(r'(.*) (XOR|OR|AND) (.*) -> (.*)', g)[0] for g in gates.splitlines()]"
   ],
   "id": "1de27e6a98c30919",
   "outputs": [],
   "execution_count": 3
  },
  {
   "metadata": {
    "ExecuteTime": {
     "end_time": "2024-12-25T01:58:24.760235Z",
     "start_time": "2024-12-25T01:58:24.757227Z"
    }
   },
   "cell_type": "code",
   "source": [
    "G = nx.DiGraph()\n",
    "\n",
    "# Initial wires\n",
    "for w, v in wires:\n",
    "    G.add_node(w)\n",
    "\n",
    "# Add a pair of directed input edges to gates with one output\n",
    "for i, (u, op, v, out) in enumerate(gates):\n",
    "    gate_name = f'{op}{i}'\n",
    "    G.add_node(gate_name, op=op)\n",
    "    G.add_edge(u, gate_name)\n",
    "    G.add_edge(v, gate_name)\n",
    "    G.add_edge(gate_name, out)\n",
    "\n",
    "# Outputs sorted in reverse order for bits\n",
    "outputs = sorted(filter(lambda node: str(node).startswith('z'), G.nodes), reverse=True)"
   ],
   "id": "648606c6859bbb96",
   "outputs": [],
   "execution_count": 4
  },
  {
   "metadata": {
    "ExecuteTime": {
     "end_time": "2024-12-25T01:58:25.175747Z",
     "start_time": "2024-12-25T01:58:25.173Z"
    }
   },
   "cell_type": "code",
   "source": [
    "# Each gate has two inputs, though either can also be a gate\n",
    "def get_gate_value(gate):\n",
    "    inputs = G.predecessors(gate)\n",
    "    a = get_node_value(next(inputs))\n",
    "    b = get_node_value(next(inputs))\n",
    "\n",
    "    if gate.startswith('XOR'):\n",
    "        return operator.xor(a, b)\n",
    "    elif gate.startswith('OR'):\n",
    "        return operator.or_(a, b)\n",
    "    elif gate.startswith('AND'):\n",
    "        return operator.and_(a, b)\n",
    "    else:\n",
    "        raise ValueError('Unknown gate')\n",
    "\n",
    "# Recursively determine the voltage of a node by looking at its inputs\n",
    "def get_node_value(node):\n",
    "    # This is a gate\n",
    "    if G.nodes[node].get('op') in ['OR', 'AND', 'XOR']:\n",
    "        return get_gate_value(node)\n",
    "    else:\n",
    "        # This isn't an initial input\n",
    "        if list(G.predecessors(node)):\n",
    "            return get_node_value(next(G.predecessors(node)))\n",
    "        else: # This is an initial input\n",
    "            return G.nodes[node].get('voltage', False)"
   ],
   "id": "dce479f8818c2b22",
   "outputs": [],
   "execution_count": 5
  },
  {
   "metadata": {
    "ExecuteTime": {
     "end_time": "2024-12-25T01:58:25.816394Z",
     "start_time": "2024-12-25T01:58:25.800667Z"
    }
   },
   "cell_type": "code",
   "source": [
    "# Part 1\n",
    "# Add voltages to the initial wires as bools\n",
    "for w, v in wires: G.nodes[w]['voltage'] = True if v == '1' else False\n",
    "\n",
    "# Start at the outputs and recurse backwards to determine voltages\n",
    "bits = ''.join(map(str,[1 if bit else 0 for bit in [get_node_value(output) for output in outputs]]))\n",
    "print(f\"Part 1: {int(bits, 2)}\")"
   ],
   "id": "e239f13cf7a4ba11",
   "outputs": [
    {
     "name": "stdout",
     "output_type": "stream",
     "text": [
      "Part 1: 52038112429798\n"
     ]
    }
   ],
   "execution_count": 6
  },
  {
   "metadata": {
    "ExecuteTime": {
     "end_time": "2024-12-25T01:58:27.516563Z",
     "start_time": "2024-12-25T01:58:27.512885Z"
    }
   },
   "cell_type": "code",
   "source": [
    "# Part 2\n",
    "# Make collections for the x and y inputs\n",
    "x_operand = sorted(filter(lambda node: str(node).startswith('x'), G.nodes), reverse=True)\n",
    "y_operand = sorted(filter(lambda node: str(node).startswith('y'), G.nodes), reverse=True)"
   ],
   "id": "a33478cffcf0374e",
   "outputs": [],
   "execution_count": 7
  },
  {
   "metadata": {
    "ExecuteTime": {
     "end_time": "2024-12-25T01:58:28.799883Z",
     "start_time": "2024-12-25T01:58:28.512235Z"
    }
   },
   "cell_type": "code",
   "source": [
    "# Reset the input bits\n",
    "for x in x_operand: G.nodes[x]['voltage'] = False\n",
    "for y in y_operand: G.nodes[y]['voltage'] = False\n",
    "\n",
    "# Add 0 in the x bank to individual bits in the y bank\n",
    "for n in range(45):\n",
    "    for y in y_operand:\n",
    "        G.nodes[y]['voltage'] = False\n",
    "\n",
    "    G.nodes[f'y{n:02}']['voltage'] = True\n",
    "\n",
    "    # Calculate to show the errors\n",
    "    bits = ''.join(map(str,[1 if bit else 0 for bit in [get_node_value(output) for output in outputs]]))\n",
    "\n",
    "    if int(bits, 2) != pow(2, n):\n",
    "        print(f\"Answer: 2^{n} {int(bits, 2)} != {pow(2,n)}\")"
   ],
   "id": "62bb751820991d83",
   "outputs": [
    {
     "name": "stdout",
     "output_type": "stream",
     "text": [
      "Answer: 2^12 8192 != 4096\n",
      "Answer: 2^16 131072 != 65536\n",
      "Answer: 2^24 33554432 != 16777216\n",
      "Answer: 2^29 1073741824 != 536870912\n"
     ]
    }
   ],
   "execution_count": 8
  },
  {
   "metadata": {
    "ExecuteTime": {
     "end_time": "2024-12-25T01:58:33.659700Z",
     "start_time": "2024-12-25T01:58:33.625344Z"
    }
   },
   "cell_type": "code",
   "source": [
    "# Output a graphviz DOT SVG and inspect the known bad\n",
    "nx.nx_pydot.write_dot(G, 'visualizations/day24.dot')"
   ],
   "id": "3f1e0264be196294",
   "outputs": [],
   "execution_count": 9
  },
  {
   "metadata": {
    "ExecuteTime": {
     "end_time": "2024-12-25T01:58:34.810570Z",
     "start_time": "2024-12-25T01:58:34.806308Z"
    }
   },
   "cell_type": "code",
   "source": [
    "# Fix bad wiring\n",
    "bad_wires = \"cph,jqn,kwb,qkf,tgr,z12,z16,z24\"\n",
    "\n",
    "G.remove_edge('XOR5', 'kwb')\n",
    "G.add_edge('XOR5', 'z12')\n",
    "G.remove_edge('AND163', 'z12')\n",
    "G.add_edge('AND163', 'kwb')\n",
    "\n",
    "G.remove_edge('XOR112', 'qkf')\n",
    "G.add_edge('XOR112', 'z16')\n",
    "G.remove_edge('AND195', 'z16')\n",
    "G.add_edge('AND195', 'qkf')\n",
    "\n",
    "G.remove_edge('OR50', 'z24')\n",
    "G.add_edge('OR50', 'tgr')\n",
    "G.remove_edge('XOR198', 'tgr')\n",
    "G.add_edge('XOR198', 'z24')\n",
    "\n",
    "G.remove_edge('XOR87', 'cph')\n",
    "G.add_edge('XOR87', 'jqn')\n",
    "G.remove_edge('AND46', 'jqn')\n",
    "G.add_edge('AND46', 'cph')"
   ],
   "id": "6a3dc7300a1068ce",
   "outputs": [],
   "execution_count": 10
  },
  {
   "metadata": {
    "ExecuteTime": {
     "end_time": "2024-12-25T01:58:35.920042Z",
     "start_time": "2024-12-25T01:58:35.699800Z"
    }
   },
   "cell_type": "code",
   "source": [
    "# Reset the input bits\n",
    "for x in x_operand: G.nodes[x]['voltage'] = False\n",
    "for y in y_operand: G.nodes[y]['voltage'] = False\n",
    "\n",
    "# Verify the bits work correctly\n",
    "for n in range(45):\n",
    "    for y in y_operand:\n",
    "        G.nodes[y]['voltage'] = False\n",
    "\n",
    "    G.nodes[f'y{n:02}']['voltage'] = True\n",
    "\n",
    "    # Calculate\n",
    "    bits = ''.join(map(str,[1 if bit else 0 for bit in [get_node_value(output) for output in outputs]]))\n",
    "    print(f\"Answer: {n} ^ {int(bits, 2)} == {pow(2,n)}\")"
   ],
   "id": "bcba51d4204a6a46",
   "outputs": [
    {
     "name": "stdout",
     "output_type": "stream",
     "text": [
      "Answer: 0 ^ 1 == 1\n",
      "Answer: 1 ^ 2 == 2\n",
      "Answer: 2 ^ 4 == 4\n",
      "Answer: 3 ^ 8 == 8\n",
      "Answer: 4 ^ 16 == 16\n",
      "Answer: 5 ^ 32 == 32\n",
      "Answer: 6 ^ 64 == 64\n",
      "Answer: 7 ^ 128 == 128\n",
      "Answer: 8 ^ 256 == 256\n",
      "Answer: 9 ^ 512 == 512\n",
      "Answer: 10 ^ 1024 == 1024\n",
      "Answer: 11 ^ 2048 == 2048\n",
      "Answer: 12 ^ 4096 == 4096\n",
      "Answer: 13 ^ 8192 == 8192\n",
      "Answer: 14 ^ 16384 == 16384\n",
      "Answer: 15 ^ 32768 == 32768\n",
      "Answer: 16 ^ 65536 == 65536\n",
      "Answer: 17 ^ 131072 == 131072\n",
      "Answer: 18 ^ 262144 == 262144\n",
      "Answer: 19 ^ 524288 == 524288\n",
      "Answer: 20 ^ 1048576 == 1048576\n",
      "Answer: 21 ^ 2097152 == 2097152\n",
      "Answer: 22 ^ 4194304 == 4194304\n",
      "Answer: 23 ^ 8388608 == 8388608\n",
      "Answer: 24 ^ 16777216 == 16777216\n",
      "Answer: 25 ^ 33554432 == 33554432\n",
      "Answer: 26 ^ 67108864 == 67108864\n",
      "Answer: 27 ^ 134217728 == 134217728\n",
      "Answer: 28 ^ 268435456 == 268435456\n",
      "Answer: 29 ^ 536870912 == 536870912\n",
      "Answer: 30 ^ 1073741824 == 1073741824\n",
      "Answer: 31 ^ 2147483648 == 2147483648\n",
      "Answer: 32 ^ 4294967296 == 4294967296\n",
      "Answer: 33 ^ 8589934592 == 8589934592\n",
      "Answer: 34 ^ 17179869184 == 17179869184\n",
      "Answer: 35 ^ 34359738368 == 34359738368\n",
      "Answer: 36 ^ 68719476736 == 68719476736\n",
      "Answer: 37 ^ 137438953472 == 137438953472\n",
      "Answer: 38 ^ 274877906944 == 274877906944\n",
      "Answer: 39 ^ 549755813888 == 549755813888\n",
      "Answer: 40 ^ 1099511627776 == 1099511627776\n",
      "Answer: 41 ^ 2199023255552 == 2199023255552\n",
      "Answer: 42 ^ 4398046511104 == 4398046511104\n",
      "Answer: 43 ^ 8796093022208 == 8796093022208\n",
      "Answer: 44 ^ 17592186044416 == 17592186044416\n"
     ]
    }
   ],
   "execution_count": 11
  },
  {
   "metadata": {
    "ExecuteTime": {
     "end_time": "2024-12-25T01:58:38.798812Z",
     "start_time": "2024-12-25T01:58:38.795575Z"
    }
   },
   "cell_type": "code",
   "source": "print(\"Part 2:\", bad_wires)",
   "id": "1cb5d3fd4a755246",
   "outputs": [
    {
     "name": "stdout",
     "output_type": "stream",
     "text": [
      "Part 2: cph,jqn,kwb,qkf,tgr,z12,z16,z24\n"
     ]
    }
   ],
   "execution_count": 12
  }
 ],
 "metadata": {
  "kernelspec": {
   "display_name": "Python 3",
   "language": "python",
   "name": "python3"
  },
  "language_info": {
   "codemirror_mode": {
    "name": "ipython",
    "version": 2
   },
   "file_extension": ".py",
   "mimetype": "text/x-python",
   "name": "python",
   "nbconvert_exporter": "python",
   "pygments_lexer": "ipython2",
   "version": "2.7.6"
  }
 },
 "nbformat": 4,
 "nbformat_minor": 5
}
