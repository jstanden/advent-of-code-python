{
 "cells": [
  {
   "cell_type": "code",
   "id": "initial_id",
   "metadata": {
    "collapsed": true,
    "ExecuteTime": {
     "end_time": "2024-12-24T08:42:00.773815Z",
     "start_time": "2024-12-24T08:42:00.669061Z"
    }
   },
   "source": [
    "import re\n",
    "import operator\n",
    "import networkx as nx"
   ],
   "outputs": [],
   "execution_count": 1
  },
  {
   "metadata": {
    "ExecuteTime": {
     "end_time": "2024-12-24T08:42:00.925903Z",
     "start_time": "2024-12-24T08:42:00.923895Z"
    }
   },
   "cell_type": "code",
   "source": [
    "with open('../data/2024/day24.txt') as f:\n",
    "    data = f.read()"
   ],
   "id": "2d6a47fdd1eba580",
   "outputs": [],
   "execution_count": 2
  },
  {
   "metadata": {
    "ExecuteTime": {
     "end_time": "2024-12-24T08:42:01.228115Z",
     "start_time": "2024-12-24T08:42:01.222394Z"
    }
   },
   "cell_type": "code",
   "source": [
    "wires, gates = data.split(\"\\n\\n\")\n",
    "wires = [tuple(w.split(': ')) for w in wires.splitlines()]\n",
    "gates = [re.findall(r'(.*) (XOR|OR|AND) (.*) -> (.*)', g)[0] for g in gates.splitlines()]"
   ],
   "id": "1de27e6a98c30919",
   "outputs": [],
   "execution_count": 3
  },
  {
   "metadata": {
    "ExecuteTime": {
     "end_time": "2024-12-24T08:42:01.546308Z",
     "start_time": "2024-12-24T08:42:01.542164Z"
    }
   },
   "cell_type": "code",
   "source": [
    "G = nx.DiGraph()\n",
    "\n",
    "# Initial wires\n",
    "for w, v in wires:\n",
    "    G.add_node(w)\n",
    "\n",
    "# Add a pair of directed input edges to gates with one output\n",
    "for i, (u, op, v, out) in enumerate(gates):\n",
    "    gate_name = f'{op}{i}'\n",
    "    G.add_node(gate_name, op=op)\n",
    "    G.add_edge(u, gate_name)\n",
    "    G.add_edge(v, gate_name)\n",
    "    G.add_edge(gate_name, out)\n",
    "\n",
    "# Outputs sorted in reverse order for bits\n",
    "outputs = sorted(filter(lambda node: str(node).startswith('z'), G.nodes), reverse=True)"
   ],
   "id": "648606c6859bbb96",
   "outputs": [],
   "execution_count": 4
  },
  {
   "metadata": {
    "ExecuteTime": {
     "end_time": "2024-12-24T08:42:02.188047Z",
     "start_time": "2024-12-24T08:42:02.183833Z"
    }
   },
   "cell_type": "code",
   "source": [
    "# Each gate has two inputs, though either can also be a gate\n",
    "def get_gate_value(gate):\n",
    "    inputs = G.predecessors(gate)\n",
    "    a = get_node_value(next(inputs))\n",
    "    b = get_node_value(next(inputs))\n",
    "\n",
    "    if gate.startswith('XOR'):\n",
    "        return operator.xor(a, b)\n",
    "    elif gate.startswith('OR'):\n",
    "        return operator.or_(a, b)\n",
    "    elif gate.startswith('AND'):\n",
    "        return operator.and_(a, b)\n",
    "    else:\n",
    "        raise ValueError('Unknown gate')\n",
    "\n",
    "# Recursively determine the voltage of a node by looking at its inputs\n",
    "def get_node_value(node):\n",
    "    # This is a gate\n",
    "    if G.nodes[node].get('op') in ['OR', 'AND', 'XOR']:\n",
    "        return get_gate_value(node)\n",
    "    else:\n",
    "        # This isn't an initial input\n",
    "        if list(G.predecessors(node)):\n",
    "            return get_node_value(next(G.predecessors(node)))\n",
    "        else: # This is an initial input\n",
    "            return G.nodes[node].get('voltage', False)"
   ],
   "id": "dce479f8818c2b22",
   "outputs": [],
   "execution_count": 5
  },
  {
   "metadata": {
    "ExecuteTime": {
     "end_time": "2024-12-24T08:42:02.971949Z",
     "start_time": "2024-12-24T08:42:02.952688Z"
    }
   },
   "cell_type": "code",
   "source": [
    "# Part 1\n",
    "# Add voltages to the initial wires as bools\n",
    "for w, v in wires: G.nodes[w]['voltage'] = True if v == '1' else False\n",
    "\n",
    "# Start at the outputs and recurse backwards to determine voltages\n",
    "bits = ''.join(map(str,[1 if bit else 0 for bit in [get_node_value(output) for output in outputs]]))\n",
    "print(f\"Part 1: {int(bits, 2)}\")"
   ],
   "id": "e239f13cf7a4ba11",
   "outputs": [
    {
     "name": "stdout",
     "output_type": "stream",
     "text": [
      "Part 1: 52038112429798\n"
     ]
    }
   ],
   "execution_count": 6
  }
 ],
 "metadata": {
  "kernelspec": {
   "display_name": "Python 3",
   "language": "python",
   "name": "python3"
  },
  "language_info": {
   "codemirror_mode": {
    "name": "ipython",
    "version": 2
   },
   "file_extension": ".py",
   "mimetype": "text/x-python",
   "name": "python",
   "nbconvert_exporter": "python",
   "pygments_lexer": "ipython2",
   "version": "2.7.6"
  }
 },
 "nbformat": 4,
 "nbformat_minor": 5
}
