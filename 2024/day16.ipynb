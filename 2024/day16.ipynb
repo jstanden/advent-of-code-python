{
 "cells": [
  {
   "cell_type": "code",
   "id": "initial_id",
   "metadata": {
    "collapsed": true,
    "ExecuteTime": {
     "end_time": "2024-12-17T03:26:34.724883Z",
     "start_time": "2024-12-17T03:26:34.719962Z"
    }
   },
   "source": [
    "import lib.aoc.grid2d.grid as grid2d\n",
    "import lib.aoc.grid2d.vector as vector2d\n",
    "from heapq import heappop, heappush\n",
    "from collections import defaultdict, deque"
   ],
   "outputs": [],
   "execution_count": 1
  },
  {
   "metadata": {
    "ExecuteTime": {
     "end_time": "2024-12-17T03:26:34.828744Z",
     "start_time": "2024-12-17T03:26:34.827033Z"
    }
   },
   "cell_type": "code",
   "source": [
    "with open('../data/2024/day16.txt') as f:\n",
    "    data = f.read()"
   ],
   "id": "df07f34b8fbb02d1",
   "outputs": [],
   "execution_count": 2
  },
  {
   "cell_type": "code",
   "execution_count": 3,
   "outputs": [],
   "source": [
    "def dijkstra_all_shortest(grid, start, goal):\n",
    "    # We start at 'S' pointing east\n",
    "    queue = [(0, start, vector2d.NESW[1])]\n",
    "\n",
    "    # Lowest cost from the start for each (node,heading)\n",
    "    cost_to_nodes = defaultdict(lambda : float('inf'))\n",
    "    cost_to_nodes[(start, vector2d.NESW[1])] = 0\n",
    "\n",
    "    # Shortest (node,heading) edges to each (node,heading)\n",
    "    prev_nodes = defaultdict(set)\n",
    "\n",
    "    while queue:\n",
    "        cost, at, heading = heappop(queue)\n",
    "        at_dir = (at, heading)\n",
    "\n",
    "        # We can only go forward or turn 90 degrees\n",
    "        sides = (v for v in vector2d.NESW if v != vector2d.invert(heading))\n",
    "\n",
    "        # Check our neighbors\n",
    "        for n_at, n_is in grid2d.neighbors(grid, at, sides):\n",
    "            if n_is == '#': continue\n",
    "\n",
    "            # It always costs +1 to move\n",
    "            new_cost = cost_to_nodes[at_dir] + 1\n",
    "\n",
    "            # If we're turning it also costs +1000\n",
    "            slope = vector2d.slope(at, n_at)\n",
    "            if slope != heading: new_cost += 1000\n",
    "\n",
    "            n_at_dir = (n_at, slope)\n",
    "\n",
    "            # If this is the new cheapest path we've found\n",
    "            if new_cost < cost_to_nodes[n_at_dir]:\n",
    "                cost_to_nodes[n_at_dir] = new_cost\n",
    "                prev_nodes[n_at_dir] = {at_dir}\n",
    "                heappush(queue, (new_cost, n_at, slope))\n",
    "            # If this is an additional shortest path\n",
    "            elif new_cost == cost_to_nodes[n_at_dir]:\n",
    "                prev_nodes[n_at_dir].add(at_dir)\n",
    "\n",
    "    # What is the shortest path leaving the goal?\n",
    "    goal_v = min({v: cost_to_nodes[(goal, v)] for v in vector2d.NESW})\n",
    "\n",
    "    # Keep track of shortest path tiles we've touched\n",
    "    goal_tiles_touched = {(goal, goal_v)}\n",
    "    queue = deque([(goal, goal_v)])\n",
    "\n",
    "    # Rebuild the paths backwards from the goal\n",
    "    while queue:\n",
    "        at_heading = queue.pop()\n",
    "        for n_at_heading in prev_nodes[at_heading]:\n",
    "            if n_at_heading not in goal_tiles_touched:\n",
    "                goal_tiles_touched.add(n_at_heading)\n",
    "                queue.append(n_at_heading)\n",
    "\n",
    "    # We only count tiles, not headings\n",
    "    goal_tiles_touched = set([tile[0] for tile in goal_tiles_touched])\n",
    "\n",
    "    return cost_to_nodes[(goal, goal_v)], len(goal_tiles_touched)"
   ],
   "metadata": {
    "collapsed": false,
    "ExecuteTime": {
     "end_time": "2024-12-17T03:26:34.985714Z",
     "start_time": "2024-12-17T03:26:34.982752Z"
    }
   }
  },
  {
   "cell_type": "code",
   "execution_count": 4,
   "outputs": [
    {
     "name": "stdout",
     "output_type": "stream",
     "text": [
      "Part 1: 93436\n",
      "Part 2: 486\n"
     ]
    }
   ],
   "source": [
    "grid = grid2d.parse(data)\n",
    "start = next(iter(grid2d.find_coords(grid, 'S')))\n",
    "goal = next(iter(grid2d.find_coords(grid, 'E')))\n",
    "\n",
    "part1, part2 = dijkstra_all_shortest(grid, start, goal)\n",
    "print(\"Part 1:\", part1)\n",
    "print(\"Part 2:\", part2)"
   ],
   "metadata": {
    "collapsed": false,
    "ExecuteTime": {
     "end_time": "2024-12-17T03:26:35.924596Z",
     "start_time": "2024-12-17T03:26:35.829947Z"
    }
   }
  }
 ],
 "metadata": {
  "kernelspec": {
   "display_name": "Python 3",
   "language": "python",
   "name": "python3"
  },
  "language_info": {
   "codemirror_mode": {
    "name": "ipython",
    "version": 2
   },
   "file_extension": ".py",
   "mimetype": "text/x-python",
   "name": "python",
   "nbconvert_exporter": "python",
   "pygments_lexer": "ipython2",
   "version": "2.7.6"
  }
 },
 "nbformat": 4,
 "nbformat_minor": 5
}
