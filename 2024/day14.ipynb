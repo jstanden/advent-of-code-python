{
 "cells": [
  {
   "cell_type": "code",
   "id": "initial_id",
   "metadata": {
    "collapsed": true,
    "ExecuteTime": {
     "end_time": "2024-12-14T22:30:54.533639Z",
     "start_time": "2024-12-14T22:30:54.530831Z"
    }
   },
   "source": [
    "import re\n",
    "from typing import Type\n",
    "from collections import namedtuple\n",
    "from math import floor\n",
    "from functools import reduce"
   ],
   "outputs": [],
   "execution_count": 1
  },
  {
   "metadata": {
    "ExecuteTime": {
     "end_time": "2024-12-14T22:30:54.661633Z",
     "start_time": "2024-12-14T22:30:54.659755Z"
    }
   },
   "cell_type": "code",
   "source": [
    "with open('../data/2024/day14.txt') as f:\n",
    "    data = f.read()"
   ],
   "id": "7db38d515c00416c",
   "outputs": [],
   "execution_count": 2
  },
  {
   "metadata": {
    "ExecuteTime": {
     "end_time": "2024-12-14T22:30:54.817435Z",
     "start_time": "2024-12-14T22:30:54.814204Z"
    }
   },
   "cell_type": "code",
   "source": [
    "grid_height, grid_width = 103, 101\n",
    "grid_mid_y, grid_mid_x = floor(grid_height/2), floor(grid_width/2)\n",
    "\n",
    "# (top left, top right, bottom left, bottom right)\n",
    "quads = (\n",
    "    ((0,0), (grid_mid_y-1, grid_mid_x-1)),\n",
    "    ((0,grid_mid_x+1), (grid_mid_y-1, grid_width-1)),\n",
    "    ((grid_mid_y+1,0), (grid_height-1, grid_mid_x-1)),\n",
    "    ((grid_mid_y+1,grid_mid_x+1), (grid_height-1,grid_width-1)),\n",
    ")"
   ],
   "id": "55da4baf09f2a36d",
   "outputs": [],
   "execution_count": 3
  },
  {
   "metadata": {
    "ExecuteTime": {
     "end_time": "2024-12-14T22:30:54.946172Z",
     "start_time": "2024-12-14T22:30:54.943207Z"
    }
   },
   "cell_type": "code",
   "source": [
    "Robot: Type = namedtuple('Robot', 'x y vx vy')\n",
    "pattern = re.compile(r'p=(-?\\d+),(-?\\d+) v=(-?\\d+),(-?\\d+)')\n",
    "robots = [Robot(*map(int, re.match(pattern, specs).groups()))\n",
    "          for specs in data.split('\\n')]"
   ],
   "id": "f42e613be512798",
   "outputs": [],
   "execution_count": 4
  },
  {
   "metadata": {
    "ExecuteTime": {
     "end_time": "2024-12-14T22:30:55.561081Z",
     "start_time": "2024-12-14T22:30:55.557787Z"
    }
   },
   "cell_type": "code",
   "source": [
    "# Use modulo to advance robots to positions at (t) time\n",
    "def robots_at_t(t: int) -> list:\n",
    "    robots_prime = []\n",
    "\n",
    "    for r in robots:\n",
    "        nx = (r.x + t * r.vx) % grid_width\n",
    "        ny = (r.y + t * r.vy) % grid_height\n",
    "        robots_prime.append(Robot(nx, ny, r.vx, r.vy))\n",
    "    return robots_prime"
   ],
   "id": "19e72158c914952f",
   "outputs": [],
   "execution_count": 5
  },
  {
   "metadata": {
    "ExecuteTime": {
     "end_time": "2024-12-14T22:30:56.205908Z",
     "start_time": "2024-12-14T22:30:56.198903Z"
    }
   },
   "cell_type": "code",
   "source": [
    "# Part 1\n",
    "quad_counts = [0,0,0,0]\n",
    "\n",
    "for robot in robots_at_t(100):\n",
    "    for i,quad in enumerate(quads):\n",
    "        # Find the first quad bounds the robot is within\n",
    "        if (quad[0][1] <= robot.x <= quad[1][1]\n",
    "                and quad[0][0] <= robot.y <= quad[1][0]):\n",
    "                    quad_counts[i] += 1\n",
    "                    break\n",
    "\n",
    "print(\"Part 1:\", reduce(lambda prod,n: prod*n, quad_counts))"
   ],
   "id": "fb06cf6a73a6d217",
   "outputs": [
    {
     "name": "stdout",
     "output_type": "stream",
     "text": [
      "Part 1: 225943500\n"
     ]
    }
   ],
   "execution_count": 6
  }
 ],
 "metadata": {
  "kernelspec": {
   "display_name": "Python 3",
   "language": "python",
   "name": "python3"
  },
  "language_info": {
   "codemirror_mode": {
    "name": "ipython",
    "version": 2
   },
   "file_extension": ".py",
   "mimetype": "text/x-python",
   "name": "python",
   "nbconvert_exporter": "python",
   "pygments_lexer": "ipython2",
   "version": "2.7.6"
  }
 },
 "nbformat": 4,
 "nbformat_minor": 5
}
