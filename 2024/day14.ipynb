{
 "cells": [
  {
   "cell_type": "code",
   "id": "initial_id",
   "metadata": {
    "collapsed": true,
    "ExecuteTime": {
     "end_time": "2024-12-15T03:08:37.931849Z",
     "start_time": "2024-12-15T03:08:37.927577Z"
    }
   },
   "source": [
    "import re\n",
    "from typing import Type\n",
    "from collections import namedtuple\n",
    "from math import floor\n",
    "from itertools import count, cycle\n",
    "from functools import reduce"
   ],
   "outputs": [],
   "execution_count": 1
  },
  {
   "metadata": {
    "ExecuteTime": {
     "end_time": "2024-12-15T03:08:38.047428Z",
     "start_time": "2024-12-15T03:08:38.045542Z"
    }
   },
   "cell_type": "code",
   "source": [
    "with open('../data/2024/day14.txt') as f:\n",
    "    data = f.read()"
   ],
   "id": "7db38d515c00416c",
   "outputs": [],
   "execution_count": 2
  },
  {
   "metadata": {
    "ExecuteTime": {
     "end_time": "2024-12-15T03:08:38.195233Z",
     "start_time": "2024-12-15T03:08:38.192852Z"
    }
   },
   "cell_type": "code",
   "source": [
    "grid_height, grid_width = 103, 101\n",
    "grid_mid_y, grid_mid_x = floor(grid_height/2), floor(grid_width/2)\n",
    "\n",
    "# (top left, top right, bottom left, bottom right)\n",
    "quads = (\n",
    "    ((0,0), (grid_mid_y-1, grid_mid_x-1)),\n",
    "    ((0,grid_mid_x+1), (grid_mid_y-1, grid_width-1)),\n",
    "    ((grid_mid_y+1,0), (grid_height-1, grid_mid_x-1)),\n",
    "    ((grid_mid_y+1,grid_mid_x+1), (grid_height-1,grid_width-1)),\n",
    ")"
   ],
   "id": "55da4baf09f2a36d",
   "outputs": [],
   "execution_count": 3
  },
  {
   "metadata": {
    "ExecuteTime": {
     "end_time": "2024-12-15T03:08:38.329420Z",
     "start_time": "2024-12-15T03:08:38.326663Z"
    }
   },
   "cell_type": "code",
   "source": [
    "Robot: Type = namedtuple('Robot', 'x y vx vy')\n",
    "pattern = re.compile(r'p=(-?\\d+),(-?\\d+) v=(-?\\d+),(-?\\d+)')\n",
    "robots = [Robot(*map(int, re.match(pattern, specs).groups()))\n",
    "          for specs in data.split('\\n')]"
   ],
   "id": "f42e613be512798",
   "outputs": [],
   "execution_count": 4
  },
  {
   "metadata": {
    "ExecuteTime": {
     "end_time": "2024-12-15T03:08:38.466057Z",
     "start_time": "2024-12-15T03:08:38.464136Z"
    }
   },
   "cell_type": "code",
   "source": [
    "# Use modulo to advance robots to positions at (t) time\n",
    "def robots_at_t(t: int) -> list:\n",
    "    robots_prime = []\n",
    "\n",
    "    for r in robots:\n",
    "        nx = (r.x + t * r.vx) % grid_width\n",
    "        ny = (r.y + t * r.vy) % grid_height\n",
    "        robots_prime.append(Robot(nx, ny, r.vx, r.vy))\n",
    "    return robots_prime"
   ],
   "id": "19e72158c914952f",
   "outputs": [],
   "execution_count": 5
  },
  {
   "metadata": {
    "ExecuteTime": {
     "end_time": "2024-12-15T03:08:38.776397Z",
     "start_time": "2024-12-15T03:08:38.770244Z"
    }
   },
   "cell_type": "code",
   "source": [
    "# Part 1\n",
    "def quad_counts_at_t(t : int) -> list:\n",
    "    quad_counts = [list(),list(),list(),list()]\n",
    "\n",
    "    for robot in robots_at_t(t):\n",
    "        for i,quad in enumerate(quads):\n",
    "            # Find the first quad bounds the robot is within\n",
    "            if (quad[0][1] <= robot.x <= quad[1][1]\n",
    "                    and quad[0][0] <= robot.y <= quad[1][0]):\n",
    "                        quad_counts[i].append((robot.y, robot.x))\n",
    "                        break\n",
    "\n",
    "    return quad_counts\n",
    "\n",
    "print(\"Part 1:\", reduce(lambda prod,n: prod*n, map(lambda l: len(l), quad_counts_at_t(100))))"
   ],
   "id": "fb06cf6a73a6d217",
   "outputs": [
    {
     "name": "stdout",
     "output_type": "stream",
     "text": [
      "Part 1: 225943500\n"
     ]
    }
   ],
   "execution_count": 6
  },
  {
   "metadata": {
    "ExecuteTime": {
     "end_time": "2024-12-15T03:08:39.660360Z",
     "start_time": "2024-12-15T03:08:39.243368Z"
    }
   },
   "cell_type": "code",
   "source": [
    "# Part 2: 6377\n",
    "from PIL import Image, ImageDraw\n",
    "\n",
    "images = []\n",
    "bg_color = (0, 0, 0)\n",
    "point_color = (255,255,255)\n",
    "\n",
    "# The cycle was determined by manual pattern analysis of frames\n",
    "for t in count(start=14, step=101):\n",
    "    im = Image.new('RGB', (grid_width, grid_height), bg_color)\n",
    "    draw = ImageDraw.Draw(im)\n",
    "\n",
    "    for robot in robots_at_t(t):\n",
    "        draw.point(xy=(robot.x,robot.y), fill=point_color)\n",
    "\n",
    "    draw.text((100,100), text=\"t=\"+str(t), fill=point_color)\n",
    "\n",
    "    im = im.resize((grid_width*2, grid_height*2), Image.Resampling.LANCZOS)\n",
    "\n",
    "    images.append(im)\n",
    "\n",
    "    if t == (14 + 101 * 100): break\n",
    "\n",
    "images[0].save('./visualizations/day14.gif',\n",
    "               save_all = True, append_images = images[1:],\n",
    "               optimize = False, duration = 60)"
   ],
   "id": "6a761700713afff4",
   "outputs": [],
   "execution_count": 7
  }
 ],
 "metadata": {
  "kernelspec": {
   "display_name": "Python 3",
   "language": "python",
   "name": "python3"
  },
  "language_info": {
   "codemirror_mode": {
    "name": "ipython",
    "version": 2
   },
   "file_extension": ".py",
   "mimetype": "text/x-python",
   "name": "python",
   "nbconvert_exporter": "python",
   "pygments_lexer": "ipython2",
   "version": "2.7.6"
  }
 },
 "nbformat": 4,
 "nbformat_minor": 5
}
