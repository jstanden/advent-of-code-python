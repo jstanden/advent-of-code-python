{
 "cells": [
  {
   "cell_type": "code",
   "execution_count": 1,
   "metadata": {
    "collapsed": true,
    "ExecuteTime": {
     "end_time": "2024-12-12T02:06:52.367827Z",
     "start_time": "2024-12-12T02:06:52.363670Z"
    }
   },
   "outputs": [],
   "source": [
    "from collections import defaultdict\n",
    "from functools import cmp_to_key"
   ]
  },
  {
   "cell_type": "code",
   "execution_count": 2,
   "outputs": [],
   "source": [
    "with open('../data/2024/day5.txt') as f:\n",
    "   data = f.read()"
   ],
   "metadata": {
    "collapsed": false,
    "ExecuteTime": {
     "end_time": "2024-12-12T02:06:52.824145Z",
     "start_time": "2024-12-12T02:06:52.819886Z"
    }
   }
  },
  {
   "cell_type": "code",
   "execution_count": 3,
   "outputs": [],
   "source": [
    "data = data.split(\"\\n\\n\")\n",
    "\n",
    "# Hash page order lists by parent (47 => 53,13,61,29)\n",
    "page_order = defaultdict(list)\n",
    "[page_order[key].append(value) for key,value in [tuple(order.split('|')) for order in data[0].splitlines()]]\n",
    "\n",
    "updates = [update.split(',') for update in data[1].splitlines()]"
   ],
   "metadata": {
    "collapsed": false,
    "ExecuteTime": {
     "end_time": "2024-12-12T02:06:53.548191Z",
     "start_time": "2024-12-12T02:06:53.545723Z"
    }
   }
  },
  {
   "cell_type": "code",
   "execution_count": 4,
   "outputs": [
    {
     "name": "stdout",
     "output_type": "stream",
     "text": [
      "Part 1: 6051\n",
      "Part 2: 5093\n"
     ]
    }
   ],
   "source": [
    "part1, part2 = 0, 0\n",
    "\n",
    "for update in updates:\n",
    "    # Prior pages that are in the current page's after list\n",
    "    intersections = {page: list(set(update[0:i]).intersection(page_order[page])) for i, page in enumerate(update)}\n",
    "\n",
    "    # If there are no intersections\n",
    "    if not any(intersections.values()):\n",
    "        part1 += int(update[len(update)//2])\n",
    "    else:\n",
    "        # Sort using the intersections\n",
    "        def swap(a, b):\n",
    "            if a in intersections[b]: return 1    # move page right\n",
    "            elif b in intersections[a]: return -1 # move page left\n",
    "            else: return 0\n",
    "\n",
    "        corrected = sorted(update, key=cmp_to_key(swap))\n",
    "        part2 += int(corrected[len(update)//2])\n",
    "\n",
    "print(\"Part 1: {}\".format(part1))\n",
    "print(\"Part 2: {}\".format(part2))\n"
   ],
   "metadata": {
    "collapsed": false,
    "ExecuteTime": {
     "end_time": "2024-12-12T02:06:54.312931Z",
     "start_time": "2024-12-12T02:06:54.309195Z"
    }
   }
  }
 ],
 "metadata": {
  "kernelspec": {
   "display_name": "Python 3",
   "language": "python",
   "name": "python3"
  },
  "language_info": {
   "codemirror_mode": {
    "name": "ipython",
    "version": 2
   },
   "file_extension": ".py",
   "mimetype": "text/x-python",
   "name": "python",
   "nbconvert_exporter": "python",
   "pygments_lexer": "ipython2",
   "version": "2.7.6"
  }
 },
 "nbformat": 4,
 "nbformat_minor": 0
}
