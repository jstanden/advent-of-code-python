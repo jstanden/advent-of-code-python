{
 "cells": [
  {
   "cell_type": "code",
   "execution_count": 1,
   "metadata": {
    "collapsed": true,
    "ExecuteTime": {
     "end_time": "2024-12-18T00:51:12.345385Z",
     "start_time": "2024-12-18T00:51:12.342166Z"
    }
   },
   "outputs": [],
   "source": [
    "import re\n",
    "import operator\n",
    "from math import floor\n",
    "from heapq import heappop, heappush"
   ]
  },
  {
   "cell_type": "code",
   "execution_count": 2,
   "outputs": [],
   "source": [
    "with open('../data/2024/day17.txt') as f:\n",
    "    data = f.read()"
   ],
   "metadata": {
    "collapsed": false,
    "ExecuteTime": {
     "end_time": "2024-12-18T00:51:12.484908Z",
     "start_time": "2024-12-18T00:51:12.482278Z"
    }
   }
  },
  {
   "cell_type": "code",
   "execution_count": 3,
   "outputs": [],
   "source": [
    "# Parse input\n",
    "a,b,c,program = re.sub(r'[a-z ]+\\: (.*)', '\\\\1', data, 0, re.IGNORECASE).replace('\\n\\n','\\n').split('\\n')\n",
    "program = list(map(int, program.split(',')))\n",
    "registers = {'a': int(a), 'b': int(b), 'c': int(c)}\n",
    "original_program = list(program)\n",
    "original_registers = dict(registers)"
   ],
   "metadata": {
    "collapsed": false,
    "ExecuteTime": {
     "end_time": "2024-12-18T00:51:12.720858Z",
     "start_time": "2024-12-18T00:51:12.720317Z"
    }
   }
  },
  {
   "cell_type": "code",
   "execution_count": 4,
   "outputs": [],
   "source": [
    "def combo(operand):\n",
    "    if operand in [0,1,2,3]: return operand\n",
    "    if operand in [4,5,6]: return registers[['a','b','c'][operand-4]]\n",
    "    return None\n",
    "\n",
    "def instruction(opcode, operand) -> tuple: # jmp, out\n",
    "    if 0 == opcode: # adv\n",
    "        registers['a'] = floor(registers['a'] / pow(2, combo(operand)))\n",
    "    elif 1 == opcode: # bxl\n",
    "        registers['b'] = operator.xor(registers['b'], operand)\n",
    "    elif 2 == opcode: # bst\n",
    "        registers['b'] = combo(operand) % 8\n",
    "    elif 3 == opcode: #jnz\n",
    "        if 0 != registers['a']: return operand, None\n",
    "    elif 4 == opcode: #bxc\n",
    "        registers['b'] = operator.xor(registers['b'], registers['c'])\n",
    "    elif 5 == opcode: #out\n",
    "        return None, combo(operand) % 8\n",
    "    elif 6 == opcode: #bdv\n",
    "        registers['b'] = floor(registers['a'] / pow(2, combo(operand)))\n",
    "    elif 7 == opcode: #cdv\n",
    "        registers['c'] = floor(registers['a'] / pow(2, combo(operand)))\n",
    "    return None, None\n",
    "\n",
    "def execute(commands) -> str:\n",
    "    pointer, jmp, output = 0, None, []\n",
    "\n",
    "    while True:\n",
    "        try:\n",
    "            jmp, out = instruction(*commands[pointer:pointer+2])\n",
    "            pointer = jmp if jmp is not None else (pointer + 2)\n",
    "            if out is not None: output.append(out)\n",
    "        except IndexError: break\n",
    "        except TypeError: break\n",
    "    return output"
   ],
   "metadata": {
    "collapsed": false,
    "ExecuteTime": {
     "end_time": "2024-12-18T00:51:13.034048Z",
     "start_time": "2024-12-18T00:51:13.028816Z"
    }
   }
  },
  {
   "cell_type": "code",
   "execution_count": 5,
   "outputs": [
    {
     "name": "stdout",
     "output_type": "stream",
     "text": [
      "Part 1: 3,1,5,3,7,4,2,7,5\n"
     ]
    }
   ],
   "source": [
    "# Part 1\n",
    "print(\"Part 1:\", ','.join([str(o) for o in execute(program)]))"
   ],
   "metadata": {
    "collapsed": false,
    "ExecuteTime": {
     "end_time": "2024-12-18T00:51:13.939197Z",
     "start_time": "2024-12-18T00:51:13.938552Z"
    }
   }
  },
  {
   "cell_type": "code",
   "execution_count": 6,
   "outputs": [
    {
     "name": "stdout",
     "output_type": "stream",
     "text": [
      "Part 2: 190593310997519\n"
     ]
    }
   ],
   "source": [
    "# Part 2\n",
    "# Register `a` starts at pow(8,k) where k=(desired length-1)\n",
    "# Digit sequence: 4,5,7,1,0,3,2 per pow(8,k) with k-1 moving right-to-left\n",
    "program = list(original_program)\n",
    "l = len(original_program)\n",
    "\n",
    "state = (0, [-1 for _ in range(l)], l-1)\n",
    "queue = [(0, *state)] # Heap to prioritize the longest valid candidates\n",
    "\n",
    "# For each candidate sequence\n",
    "while queue:\n",
    "    # Candidate register a value, candidate program, k (unsolved index from right)\n",
    "    _, a, candidate, k = heappop(queue)\n",
    "\n",
    "    if k == -1: # If we've predicted all the digits\n",
    "        if candidate == original_program: # And we have a match\n",
    "            print(\"Part 2:\", a)\n",
    "            break\n",
    "        else: continue\n",
    "\n",
    "    # Try a multiple of 0-7 for each position to line up the digits\n",
    "    for n in range(8):\n",
    "        new_a = a + pow(8,k) * n\n",
    "\n",
    "        # Run the computer to create a new candidate program\n",
    "        registers = dict(original_registers)\n",
    "        registers['a'] = new_a\n",
    "        candidate = execute(program)\n",
    "\n",
    "        # If the candidate tail matches the actual output tail, move left a digit\n",
    "        if candidate[-(16 - k):] == original_program[-(16 - k):]:\n",
    "            heappush(queue, (15-k, new_a, candidate, k - 1))"
   ],
   "metadata": {
    "collapsed": false,
    "ExecuteTime": {
     "end_time": "2024-12-18T00:51:15.688684Z",
     "start_time": "2024-12-18T00:51:15.687146Z"
    }
   }
  }
 ],
 "metadata": {
  "kernelspec": {
   "display_name": "Python 3",
   "language": "python",
   "name": "python3"
  },
  "language_info": {
   "codemirror_mode": {
    "name": "ipython",
    "version": 2
   },
   "file_extension": ".py",
   "mimetype": "text/x-python",
   "name": "python",
   "nbconvert_exporter": "python",
   "pygments_lexer": "ipython2",
   "version": "2.7.6"
  }
 },
 "nbformat": 4,
 "nbformat_minor": 0
}
