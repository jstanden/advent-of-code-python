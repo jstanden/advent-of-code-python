{
 "cells": [
  {
   "cell_type": "code",
   "execution_count": 1,
   "metadata": {
    "collapsed": true,
    "ExecuteTime": {
     "end_time": "2024-12-17T22:36:36.152311Z",
     "start_time": "2024-12-17T22:36:36.148535Z"
    }
   },
   "outputs": [],
   "source": [
    "import re\n",
    "import operator\n",
    "from math import floor"
   ]
  },
  {
   "cell_type": "code",
   "execution_count": 2,
   "outputs": [],
   "source": [
    "with open('../data/2024/day17.txt') as f:\n",
    "    data = f.read()"
   ],
   "metadata": {
    "collapsed": false,
    "ExecuteTime": {
     "end_time": "2024-12-17T22:36:36.277679Z",
     "start_time": "2024-12-17T22:36:36.274492Z"
    }
   }
  },
  {
   "cell_type": "code",
   "execution_count": 3,
   "outputs": [],
   "source": [
    "# Parse input\n",
    "a,b,c,program = re.sub(r'[a-z ]+\\: (.*)', '\\\\1', data, 0, re.IGNORECASE).replace('\\n\\n','\\n').split('\\n')\n",
    "instructions = 'adv,bxl,bst,jnz,bxc,out,bdv,cdv'.split(',')\n",
    "program = list(map(int, program.split(',')))\n",
    "registers = {'a': int(a), 'b': int(b), 'c': int(c)}\n",
    "original_program = list(program)\n",
    "original_registers = dict(registers)"
   ],
   "metadata": {
    "collapsed": false,
    "ExecuteTime": {
     "end_time": "2024-12-17T22:36:37.103527Z",
     "start_time": "2024-12-17T22:36:37.103002Z"
    }
   }
  },
  {
   "cell_type": "code",
   "execution_count": 4,
   "outputs": [],
   "source": [
    "def combo(operand):\n",
    "    if operand in [0,1,2,3]: return operand\n",
    "    if operand in [4,5,6]: return registers[['a','b','c'][operand-4]]\n",
    "    return None\n",
    "\n",
    "def instruction(opcode, operand) -> tuple: # jmp, out\n",
    "    if 0 == opcode: # adv\n",
    "        registers['a'] = floor(registers['a'] / pow(2, combo(operand)))\n",
    "    elif 1 == opcode: # bxl\n",
    "        registers['b'] = operator.xor(registers['b'], operand)\n",
    "    elif 2 == opcode: # bst\n",
    "        registers['b'] = combo(operand) % 8\n",
    "    elif 3 == opcode: #jnz\n",
    "        if 0 != registers['a']:\n",
    "            return operand, None\n",
    "    elif 4 == opcode: #bxc\n",
    "        registers['b'] = operator.xor(registers['b'], registers['c'])\n",
    "    elif 5 == opcode: #out\n",
    "        return None, combo(operand) % 8\n",
    "    elif 6 == opcode: #bdv\n",
    "        registers['b'] = floor(registers['a'] / pow(2, combo(operand)))\n",
    "    elif 7 == opcode: #cdv\n",
    "        registers['c'] = floor(registers['a'] / pow(2, combo(operand)))\n",
    "    return None, None\n",
    "\n",
    "def execute(commands) -> str:\n",
    "    pointer, jmp, output = 0, None, []\n",
    "\n",
    "    while True:\n",
    "        try:\n",
    "            jmp, out = instruction(*commands[pointer:pointer+2])\n",
    "            pointer = jmp if jmp is not None else (pointer + 2)\n",
    "            if out is not None: output.append(out)\n",
    "        except IndexError: break\n",
    "        except TypeError: break\n",
    "    return output"
   ],
   "metadata": {
    "collapsed": false,
    "ExecuteTime": {
     "end_time": "2024-12-17T22:36:37.446514Z",
     "start_time": "2024-12-17T22:36:37.444243Z"
    }
   }
  },
  {
   "cell_type": "code",
   "execution_count": 5,
   "outputs": [
    {
     "name": "stdout",
     "output_type": "stream",
     "text": [
      "Part 1: 3,1,5,3,7,4,2,7,5\n"
     ]
    }
   ],
   "source": [
    "# Part 1\n",
    "print(\"Part 1:\", ','.join([str(o) for o in execute(program)]))"
   ],
   "metadata": {
    "collapsed": false,
    "ExecuteTime": {
     "end_time": "2024-12-17T22:36:38.275455Z",
     "start_time": "2024-12-17T22:36:38.272180Z"
    }
   }
  },
  {
   "cell_type": "code",
   "execution_count": 7,
   "outputs": [
    {
     "name": "stdout",
     "output_type": "stream",
     "text": [
      "Part 2: 190593310997519\n"
     ]
    }
   ],
   "source": [
    "# Part 2 (190593310997519)\n",
    "# Register `a` starts at pow(8,k) where k=(desired length-1)\n",
    "# Digit sequence: 4,5,7,1,0,3,2 per pow(8,k) with k-1 moving right to left\n",
    "program = list(original_program)\n",
    "registers = dict(original_registers)\n",
    "recovered_a = \\\n",
    "      (pow(8,15)*5) \\\n",
    "    + (pow(8,14)*3) \\\n",
    "    + (pow(8,13)*2) \\\n",
    "    + (pow(8,12)*5) \\\n",
    "    + (pow(8,11)*3) \\\n",
    "    + (pow(8,10)*7) \\\n",
    "    + (pow(8,9)*6) \\\n",
    "    + (pow(8,8)*6) \\\n",
    "    + (pow(8,7)*4) \\\n",
    "    + (pow(8,6)*6) \\\n",
    "    + (pow(8,5)*2) \\\n",
    "    + (pow(8,4)*3) \\\n",
    "    + (pow(8,3)*6) \\\n",
    "    + (pow(8,2)*0) \\\n",
    "    + (pow(8,1)*1) \\\n",
    "    + (pow(8,0)*7)\n",
    "\n",
    "registers['a'] = recovered_a\n",
    "if execute(program) == original_program:\n",
    "    print(\"Part 2:\", recovered_a)"
   ],
   "metadata": {
    "collapsed": false,
    "ExecuteTime": {
     "end_time": "2024-12-17T22:38:37.364520Z",
     "start_time": "2024-12-17T22:38:37.356192Z"
    }
   }
  },
  {
   "cell_type": "markdown",
   "source": [
    "~~~\n",
    "Digit sequence: 4,5,7,1,0,3,2\n",
    "New place value after 2->4 cycle (# digits is pow(8,desired_len-1))\n",
    "There are multiple right answers for some digits (pow(8,7)*3) | (pow(8,7)*4))\n",
    "\n",
    "Last digit -1 -> [4] at 1 ( 1 )\n",
    "Last digit [4] -> [5] at 2 ( 1 )\n",
    "Last digit [5] -> [7] at 3 ( 1 )\n",
    "Last digit [7] -> [1] at 4 ( 1 )\n",
    "Last digit [1] -> [0] at 5 ( 1 )\n",
    "Last digit [0] -> [3] at 6 ( 1 )\n",
    "Last digit [3] -> [2] at 7 ( 1 )\n",
    "Last digit [2] -> [4] at 8 ( 1 )\n",
    "Last digit [4] -> [5] at 16 ( 8 )\n",
    "Last digit [5] -> [7] at 24 ( 8 )\n",
    "Last digit [7] -> [1] at 32 ( 8 )\n",
    "Last digit [1] -> [0] at 40 ( 8 )\n",
    "Last digit [0] -> [3] at 48 ( 8 )\n",
    "Last digit [3] -> [2] at 56 ( 8 )\n",
    "Last digit [2] -> [4] at 64 ( 8 )\n",
    "Last digit [4] -> [5] at 128 ( 64 )\n",
    "Last digit [5] -> [7] at 192 ( 64 )\n",
    "Last digit [7] -> [1] at 256 ( 64 )\n",
    "Last digit [1] -> [0] at 320 ( 64 )\n",
    "Last digit [0] -> [3] at 384 ( 64 )\n",
    "Last digit [3] -> [2] at 448 ( 64 )\n",
    "Last digit [2] -> [4] at 512 ( 64 )\n",
    "Last digit [4] -> [5] at 1024 ( 512 )\n",
    "Last digit [5] -> [7] at 1536 ( 512 )\n",
    "Last digit [7] -> [1] at 2048 ( 512 )\n",
    "Last digit [1] -> [0] at 2560 ( 512 )\n",
    "Last digit [0] -> [3] at 3072 ( 512 )\n",
    "Last digit [3] -> [2] at 3584 ( 512 )\n",
    "Last digit [2] -> [4] at 4096 ( 512 )\n",
    "Last digit [4] -> [5] at 8192 ( 4096 )\n",
    "Last digit [5] -> [7] at 12288 ( 4096 )\n",
    "Last digit [7] -> [1] at 16384 ( 4096 )\n",
    "Last digit [1] -> [0] at 20480 ( 4096 )\n",
    "Last digit [0] -> [3] at 24576 ( 4096 )\n",
    "Last digit [3] -> [2] at 28672 ( 4096 )\n",
    "Last digit [2] -> [4] at 32768 ( 4096 )\n",
    "Last digit [4] -> [5] at 65536 ( 32768 )\n",
    "Last digit [5] -> [7] at 98304 ( 32768 )\n",
    "Last digit [7] -> [1] at 131072 ( 32768 )\n",
    "Last digit [1] -> [0] at 163840 ( 32768 )\n",
    "Last digit [0] -> [3] at 196608 ( 32768 )\n",
    "Last digit [3] -> [2] at 229376 ( 32768 )\n",
    "Last digit [2] -> [4] at 262144 ( 32768 )\n",
    "Last digit [4] -> [5] at 524288 ( 262144 )\n",
    "Last digit [5] -> [7] at 786432 ( 262144 )\n",
    "Last digit [7] -> [1] at 1048576 ( 262144 )\n",
    "Last digit [1] -> [0] at 1310720 ( 262144 )\n",
    "Last digit [0] -> [3] at 1572864 ( 262144 )\n",
    "Last digit [3] -> [2] at 1835008 ( 262144 )\n",
    "Last digit [2] -> [4] at 2097152 ( 262144 )\n",
    "Last digit [4] -> [5] at 4194304 ( 2097152 )\n",
    "Last digit [5] -> [7] at 6291456 ( 2097152 )\n",
    "~~~"
   ],
   "metadata": {
    "collapsed": false
   }
  }
 ],
 "metadata": {
  "kernelspec": {
   "display_name": "Python 3",
   "language": "python",
   "name": "python3"
  },
  "language_info": {
   "codemirror_mode": {
    "name": "ipython",
    "version": 2
   },
   "file_extension": ".py",
   "mimetype": "text/x-python",
   "name": "python",
   "nbconvert_exporter": "python",
   "pygments_lexer": "ipython2",
   "version": "2.7.6"
  }
 },
 "nbformat": 4,
 "nbformat_minor": 0
}
