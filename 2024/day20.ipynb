{
 "cells": [
  {
   "cell_type": "code",
   "execution_count": 1,
   "metadata": {
    "collapsed": true,
    "ExecuteTime": {
     "end_time": "2024-12-21T01:24:18.741439Z",
     "start_time": "2024-12-21T01:24:18.738731Z"
    }
   },
   "outputs": [],
   "source": [
    "from collections import defaultdict\n",
    "from heapq import heappop, heappush\n",
    "import lib.aoc.grid2d.grid as grid2d\n",
    "import lib.aoc.grid2d.vector as vector2d"
   ]
  },
  {
   "cell_type": "code",
   "execution_count": 2,
   "outputs": [],
   "source": [
    "with open('../data/2024/day20.txt') as f:\n",
    "    data = f.read()"
   ],
   "metadata": {
    "collapsed": false,
    "ExecuteTime": {
     "end_time": "2024-12-21T01:24:19.055432Z",
     "start_time": "2024-12-21T01:24:19.052802Z"
    }
   }
  },
  {
   "cell_type": "code",
   "execution_count": 3,
   "outputs": [],
   "source": [
    "grid = grid2d.parse(data)\n",
    "grid_extents = max(grid)\n",
    "start = next(iter(grid2d.find_coords(grid, 'S')))\n",
    "goal = next(iter(grid2d.find_coords(grid, 'E')))\n",
    "grid[start], grid[goal] = '.', '.'"
   ],
   "metadata": {
    "collapsed": false,
    "ExecuteTime": {
     "end_time": "2024-12-21T01:24:19.416558Z",
     "start_time": "2024-12-21T01:24:19.413093Z"
    }
   }
  },
  {
   "cell_type": "code",
   "execution_count": 4,
   "outputs": [],
   "source": [
    "def dijkstra(coord: tuple) -> tuple:\n",
    "    cost_from_start = defaultdict(lambda: float('inf'))\n",
    "    prev_node = defaultdict(None)\n",
    "    queue = [(0, coord)]\n",
    "\n",
    "    while queue:\n",
    "        cost, at = heappop(queue)\n",
    "        if at == goal:\n",
    "            # Rebuild path\n",
    "            path, i = [], at\n",
    "            while True:\n",
    "                if i is None or i == start: break\n",
    "                path.append(i)\n",
    "                i = prev_node[i]\n",
    "\n",
    "            return cost, list(path + [start])\n",
    "\n",
    "        for n_at, tile in grid2d.neighbors(grid, at, vector2d.NESW):\n",
    "            if tile == '#': continue\n",
    "            new_cost = cost + 1\n",
    "\n",
    "            if new_cost < cost_from_start[n_at]:\n",
    "                cost_from_start[n_at] = new_cost\n",
    "                prev_node[n_at] = at\n",
    "                heappush(queue, (new_cost, n_at))\n",
    "    return None, None"
   ],
   "metadata": {
    "collapsed": false,
    "ExecuteTime": {
     "end_time": "2024-12-21T01:24:20.004368Z",
     "start_time": "2024-12-21T01:24:20.003208Z"
    }
   }
  },
  {
   "cell_type": "code",
   "execution_count": 5,
   "outputs": [],
   "source": [
    "# Compute the shortest (only) path and the time remaining from each step\n",
    "best_t, best_path = dijkstra(start)\n",
    "t_left_from_coord = defaultdict(None, {yx:cost for cost, yx in enumerate(best_path)})"
   ],
   "metadata": {
    "collapsed": false,
    "ExecuteTime": {
     "end_time": "2024-12-21T01:24:20.964718Z",
     "start_time": "2024-12-21T01:24:20.922705Z"
    }
   }
  },
  {
   "cell_type": "code",
   "execution_count": 6,
   "outputs": [
    {
     "name": "stdout",
     "output_type": "stream",
     "text": [
      "Part 1: 1393\n"
     ]
    }
   ],
   "source": [
    "# Part 1\n",
    "# A shortcut to find the best cheats is to look at all inner walls\n",
    "# and see if they connect two straight-line walkable tiles with a\n",
    "# delta greater than the goal.\n",
    "# 20<wall>10 skips 8 steps going right (10 less 2 for ->wall->10)\n",
    "best_cheats = 0\n",
    "BEST_CHEAT_THRESHOLD = 100\n",
    "\n",
    "for yx in grid2d.fill((1,1), (grid_extents[0]-1, grid_extents[1]-1)):\n",
    "    tile = grid[yx]\n",
    "    if tile != '#': continue\n",
    "\n",
    "    n,e,s,w = vector2d.north(yx), vector2d.east(yx), vector2d.south(yx), vector2d.west(yx)\n",
    "    if t_left_from_coord.get(w) is not None and t_left_from_coord.get(e) is not None:\n",
    "        delta_we = t_left_from_coord[w] - t_left_from_coord[e]\n",
    "        if abs(delta_we) - 2 >= BEST_CHEAT_THRESHOLD:\n",
    "            best_cheats += 1\n",
    "    elif t_left_from_coord.get(n) is not None and t_left_from_coord.get(s) is not None:\n",
    "        delta_ns = t_left_from_coord[n] - t_left_from_coord[s]\n",
    "        if abs(delta_ns) - 2 >= BEST_CHEAT_THRESHOLD:\n",
    "            best_cheats += 1\n",
    "\n",
    "print(\"Part 1:\", best_cheats)"
   ],
   "metadata": {
    "collapsed": false,
    "ExecuteTime": {
     "end_time": "2024-12-21T01:24:21.771856Z",
     "start_time": "2024-12-21T01:24:21.770200Z"
    }
   }
  }
 ],
 "metadata": {
  "kernelspec": {
   "display_name": "Python 3",
   "language": "python",
   "name": "python3"
  },
  "language_info": {
   "codemirror_mode": {
    "name": "ipython",
    "version": 2
   },
   "file_extension": ".py",
   "mimetype": "text/x-python",
   "name": "python",
   "nbconvert_exporter": "python",
   "pygments_lexer": "ipython2",
   "version": "2.7.6"
  }
 },
 "nbformat": 4,
 "nbformat_minor": 0
}
