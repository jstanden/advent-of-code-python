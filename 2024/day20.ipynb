{
 "cells": [
  {
   "cell_type": "code",
   "metadata": {
    "collapsed": true,
    "ExecuteTime": {
     "end_time": "2024-12-22T19:38:17.645826Z",
     "start_time": "2024-12-22T19:38:17.642184Z"
    }
   },
   "source": [
    "from collections import defaultdict, Counter\n",
    "from heapq import heappop, heappush\n",
    "import lib.aoc.grid2d.grid as grid2d\n",
    "import lib.aoc.grid2d.vector as vector2d"
   ],
   "outputs": [],
   "execution_count": 1
  },
  {
   "cell_type": "code",
   "source": [
    "with open('../data/2024/day20.txt') as f:\n",
    "    data = f.read()"
   ],
   "metadata": {
    "collapsed": false,
    "ExecuteTime": {
     "end_time": "2024-12-22T19:38:18.076238Z",
     "start_time": "2024-12-22T19:38:18.072636Z"
    }
   },
   "outputs": [],
   "execution_count": 2
  },
  {
   "cell_type": "code",
   "source": [
    "grid = grid2d.parse(data)\n",
    "grid_extents = max(grid)\n",
    "start = next(iter(grid2d.find_coords(grid, 'S')))\n",
    "goal = next(iter(grid2d.find_coords(grid, 'E')))\n",
    "grid[start], grid[goal] = '.', '.' # Make start+end walkable"
   ],
   "metadata": {
    "collapsed": false,
    "ExecuteTime": {
     "end_time": "2024-12-22T19:38:18.344006Z",
     "start_time": "2024-12-22T19:38:18.331919Z"
    }
   },
   "outputs": [],
   "execution_count": 3
  },
  {
   "cell_type": "code",
   "source": [
    "def dijkstra(coord: tuple) -> tuple:\n",
    "    cost_from_start = defaultdict(lambda: float('inf'))\n",
    "    prev_node = defaultdict(None)\n",
    "    queue = [(0, coord)]\n",
    "\n",
    "    while queue:\n",
    "        cost, at = heappop(queue)\n",
    "        if at == goal:\n",
    "            path, i = [], at\n",
    "            while True: # Rebuild path\n",
    "                if i is None or i == start: break\n",
    "                path.append(i)\n",
    "                i = prev_node[i]\n",
    "\n",
    "            return cost, list(path + [start])\n",
    "\n",
    "        for n_at, tile in grid2d.neighbors(grid, at, vector2d.NESW):\n",
    "            if tile == '#': continue\n",
    "            new_cost = cost + 1\n",
    "\n",
    "            if new_cost < cost_from_start[n_at]:\n",
    "                cost_from_start[n_at] = new_cost\n",
    "                prev_node[n_at] = at\n",
    "                heappush(queue, (new_cost, n_at))\n",
    "    return None, None"
   ],
   "metadata": {
    "collapsed": false,
    "ExecuteTime": {
     "end_time": "2024-12-22T19:38:18.668039Z",
     "start_time": "2024-12-22T19:38:18.663428Z"
    }
   },
   "outputs": [],
   "execution_count": 4
  },
  {
   "cell_type": "code",
   "source": [
    "# Compute the shortest (only) path and the time remaining from each step\n",
    "best_t, best_path = dijkstra(start)\n",
    "t_left_from_coord = defaultdict(None, {yx:cost for cost, yx in enumerate(best_path)})"
   ],
   "metadata": {
    "collapsed": false,
    "ExecuteTime": {
     "end_time": "2024-12-22T19:38:19.538658Z",
     "start_time": "2024-12-22T19:38:19.511931Z"
    }
   },
   "outputs": [],
   "execution_count": 5
  },
  {
   "cell_type": "code",
   "source": [
    "# Part 1\n",
    "# A shortcut to find the best cheats is to look at all inner walls and see if they connect\n",
    "# two straight-line walkable tiles with a delta greater than the goal.\n",
    "# 20<wall>10 skips 8 steps going right (10 less 2 for ->wall->10)\n",
    "best_cheats = 0\n",
    "BEST_CHEAT_THRESHOLD = 100\n",
    "\n",
    "# Use fill to check only inner wall tiles and ignore the border\n",
    "for yx in grid2d.fill((1,1), (grid_extents[0]-1, grid_extents[1]-1)):\n",
    "    tile = grid[yx]\n",
    "    if tile != '#': continue # Only consider wall tiles\n",
    "\n",
    "    n,e,s,w = vector2d.north(yx), vector2d.east(yx), vector2d.south(yx), vector2d.west(yx)\n",
    "\n",
    "    if t_left_from_coord.get(w) is not None and t_left_from_coord.get(e) is not None:\n",
    "        delta_we = t_left_from_coord[w] - t_left_from_coord[e]\n",
    "        if abs(delta_we) - 2 >= BEST_CHEAT_THRESHOLD:\n",
    "            best_cheats += 1\n",
    "    elif t_left_from_coord.get(n) is not None and t_left_from_coord.get(s) is not None:\n",
    "        delta_ns = t_left_from_coord[n] - t_left_from_coord[s]\n",
    "        if abs(delta_ns) - 2 >= BEST_CHEAT_THRESHOLD:\n",
    "            best_cheats += 1\n",
    "\n",
    "print(\"Part 1:\", best_cheats)"
   ],
   "metadata": {
    "collapsed": false,
    "ExecuteTime": {
     "end_time": "2024-12-22T19:38:19.886301Z",
     "start_time": "2024-12-22T19:38:19.871154Z"
    }
   },
   "outputs": [
    {
     "name": "stdout",
     "output_type": "stream",
     "text": [
      "Part 1: 1393\n"
     ]
    }
   ],
   "execution_count": 6
  },
  {
   "metadata": {
    "ExecuteTime": {
     "end_time": "2024-12-22T19:38:24.210293Z",
     "start_time": "2024-12-22T19:38:21.841661Z"
    }
   },
   "cell_type": "code",
   "source": [
    "# Part 2\n",
    "CHEAT_DURATION = 20\n",
    "BEST_CHEAT_THRESHOLD = 100\n",
    "cheats = defaultdict(int)\n",
    "\n",
    "for path_at in best_path:\n",
    "    path_t_left = t_left_from_coord.get(path_at)\n",
    "\n",
    "    for coord in grid2d.manhattan_radius(path_at, CHEAT_DURATION):\n",
    "        # Must be on the grid\n",
    "        tile = grid.get(coord)\n",
    "        if tile is None or tile == '#': continue\n",
    "\n",
    "        # Must be another path segment\n",
    "        t_left = t_left_from_coord.get(coord)\n",
    "        if t_left is None: continue\n",
    "\n",
    "        steps = vector2d.dist_manhattan(path_at, coord)\n",
    "        saved = path_t_left - steps - t_left\n",
    "\n",
    "        if saved >= BEST_CHEAT_THRESHOLD:\n",
    "            cheats[(path_at, coord)] = saved\n",
    "\n",
    "print(\"Part 2:\", sum(Counter(cheats.values()).values()))"
   ],
   "outputs": [
    {
     "name": "stdout",
     "output_type": "stream",
     "text": [
      "Part 2: 990096\n"
     ]
    }
   ],
   "execution_count": 7
  }
 ],
 "metadata": {
  "kernelspec": {
   "display_name": "Python 3",
   "language": "python",
   "name": "python3"
  },
  "language_info": {
   "codemirror_mode": {
    "name": "ipython",
    "version": 2
   },
   "file_extension": ".py",
   "mimetype": "text/x-python",
   "name": "python",
   "nbconvert_exporter": "python",
   "pygments_lexer": "ipython2",
   "version": "2.7.6"
  }
 },
 "nbformat": 4,
 "nbformat_minor": 0
}
