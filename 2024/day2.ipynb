{
 "cells": [
  {
   "cell_type": "code",
   "execution_count": 1,
   "metadata": {
    "collapsed": true,
    "ExecuteTime": {
     "end_time": "2024-12-05T00:01:17.680858Z",
     "start_time": "2024-12-05T00:01:17.676878Z"
    }
   },
   "outputs": [],
   "source": [
    "from functools import reduce"
   ]
  },
  {
   "cell_type": "code",
   "execution_count": 2,
   "outputs": [],
   "source": [
    "with open(\"../data/2024/day2.txt\") as f:\n",
    "   data = f.read()"
   ],
   "metadata": {
    "collapsed": false,
    "ExecuteTime": {
     "end_time": "2024-12-05T00:01:18.041342Z",
     "start_time": "2024-12-05T00:01:18.038892Z"
    }
   }
  },
  {
   "cell_type": "code",
   "execution_count": 3,
   "outputs": [],
   "source": [
    "reports = list(map(lambda line: list(map(int, line.split(\" \"))), data.split(\"\\n\")))"
   ],
   "metadata": {
    "collapsed": false,
    "ExecuteTime": {
     "end_time": "2024-12-05T00:01:18.337988Z",
     "start_time": "2024-12-05T00:01:18.334496Z"
    }
   }
  },
  {
   "cell_type": "code",
   "execution_count": 4,
   "outputs": [],
   "source": [
    "def report_levels_reduce(carry, i):\n",
    "    # Reference to the full report to compare prior level\n",
    "    report = carry[1]\n",
    "    # Delta of the first two elements (2,1 -> -1) to determine vector\n",
    "    initial_delta = carry[2]\n",
    "    # Delta of this (i) element (1,3 -> +2)\n",
    "    delta = report[i] - report[i-1]\n",
    "\n",
    "    level_is_valid = (\n",
    "        # Accumulator status must remain True\n",
    "        carry[0]\n",
    "        # All deltas must have the same sign (+/-); we use the initial delta to compare\n",
    "        # If the deltas of `n[0]` and `n[i]` are the same sign, n*m > 0\n",
    "        and initial_delta * delta > 0\n",
    "        # 1 <= delta <= 3\n",
    "        and abs(delta) in (1,2,3)\n",
    "    )\n",
    "\n",
    "    return level_is_valid, carry[1], carry[2]\n",
    "\n",
    "def is_valid(report):\n",
    "    result = reduce(\n",
    "        report_levels_reduce,\n",
    "        # Start from the second level\n",
    "        range(1, len(report)),\n",
    "        # Initial accumulator (status, report, initial delta)\n",
    "        (True, report, report[1] - report[0])\n",
    "    )\n",
    "\n",
    "    # Only return the accumulator status\n",
    "    return result[0]"
   ],
   "metadata": {
    "collapsed": false,
    "ExecuteTime": {
     "end_time": "2024-12-05T00:01:18.595292Z",
     "start_time": "2024-12-05T00:01:18.591971Z"
    }
   }
  },
  {
   "cell_type": "code",
   "execution_count": 5,
   "outputs": [
    {
     "name": "stdout",
     "output_type": "stream",
     "text": [
      "660\n"
     ]
    }
   ],
   "source": [
    "# Part 1\n",
    "results = list(map(is_valid, reports))\n",
    "valid_count = len(list(filter(None, results)))\n",
    "print(valid_count)"
   ],
   "metadata": {
    "collapsed": false,
    "ExecuteTime": {
     "end_time": "2024-12-05T00:01:19.438294Z",
     "start_time": "2024-12-05T00:01:19.435563Z"
    }
   }
  },
  {
   "cell_type": "code",
   "execution_count": 6,
   "outputs": [
    {
     "name": "stdout",
     "output_type": "stream",
     "text": [
      "689\n"
     ]
    }
   ],
   "source": [
    "# Part 2\n",
    "# Brute force invalid reports by testing after removing levels one at a time\n",
    "for invalid in [i for i,_ in enumerate(reports) if not results[i]]:\n",
    "    for i,_ in enumerate(reports[invalid]):\n",
    "        changed_report = list(reports[invalid]) # Clone the report\n",
    "        del changed_report[i] # Remove a level\n",
    "\n",
    "        # If the report is now valid, increment our counter and skip to the next report\n",
    "        if is_valid(changed_report):\n",
    "            valid_count += 1\n",
    "            break\n",
    "\n",
    "print(valid_count)"
   ],
   "metadata": {
    "collapsed": false,
    "ExecuteTime": {
     "end_time": "2024-12-05T00:01:19.726153Z",
     "start_time": "2024-12-05T00:01:19.722629Z"
    }
   }
  },
  {
   "cell_type": "code",
   "execution_count": null,
   "outputs": [],
   "source": [],
   "metadata": {
    "collapsed": false
   }
  }
 ],
 "metadata": {
  "kernelspec": {
   "display_name": "Python 3",
   "language": "python",
   "name": "python3"
  },
  "language_info": {
   "codemirror_mode": {
    "name": "ipython",
    "version": 2
   },
   "file_extension": ".py",
   "mimetype": "text/x-python",
   "name": "python",
   "nbconvert_exporter": "python",
   "pygments_lexer": "ipython2",
   "version": "2.7.6"
  }
 },
 "nbformat": 4,
 "nbformat_minor": 0
}
