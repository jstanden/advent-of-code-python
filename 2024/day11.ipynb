{
 "cells": [
  {
   "cell_type": "code",
   "execution_count": 1,
   "outputs": [],
   "source": [
    "from functools import partial, lru_cache\n",
    "from multiprocess import pool"
   ],
   "metadata": {
    "collapsed": false,
    "ExecuteTime": {
     "end_time": "2024-12-11T07:37:12.425131Z",
     "start_time": "2024-12-11T07:37:12.409307Z"
    }
   }
  },
  {
   "cell_type": "code",
   "execution_count": 2,
   "metadata": {
    "collapsed": true,
    "ExecuteTime": {
     "end_time": "2024-12-11T07:37:12.526013Z",
     "start_time": "2024-12-11T07:37:12.523982Z"
    }
   },
   "outputs": [],
   "source": [
    "with open('../data/2024/day11.txt') as f:\n",
    "    data = f.read()"
   ]
  },
  {
   "cell_type": "code",
   "execution_count": 3,
   "outputs": [
    {
     "name": "stdout",
     "output_type": "stream",
     "text": [
      "Part 1:  187738\n",
      "Part 2:  223767210249237\n"
     ]
    }
   ],
   "source": [
    "stones = [int(n) for n in data.split(\" \")]\n",
    "\n",
    "# 0 -> 1 -> 2024 -> (20,24) -> (2,0, 2,4) -> (4048,1, 4048,8096) -> (40,48, 2024, ...)\n",
    "@lru_cache(maxsize=8192)\n",
    "def break_stone(engraving: int, blinks: int) -> int:\n",
    "    if blinks == 0:\n",
    "        return 1\n",
    "\n",
    "    if 0 == engraving:\n",
    "        return break_stone(1, blinks-1)\n",
    "\n",
    "    elif 0 == len(str(engraving)) % 2:\n",
    "        engraving = str(engraving)\n",
    "        mid = len(engraving)//2\n",
    "\n",
    "        return break_stone(int(engraving[0:mid]), blinks-1) + \\\n",
    "            break_stone(int(engraving[mid:]), blinks-1)\n",
    "    else:\n",
    "        return break_stone(engraving*2024, blinks-1)\n",
    "\n",
    "with pool.Pool(processes=4) as p:\n",
    "    print(\"Part 1: \", sum(p.map(partial(break_stone, blinks=25), stones)))\n",
    "    print(\"Part 2: \", sum(p.map(partial(break_stone, blinks=75), stones)))"
   ],
   "metadata": {
    "collapsed": false,
    "ExecuteTime": {
     "end_time": "2024-12-11T07:37:13.873403Z",
     "start_time": "2024-12-11T07:37:12.632794Z"
    }
   }
  }
 ],
 "metadata": {
  "kernelspec": {
   "display_name": "Python 3",
   "language": "python",
   "name": "python3"
  },
  "language_info": {
   "codemirror_mode": {
    "name": "ipython",
    "version": 2
   },
   "file_extension": ".py",
   "mimetype": "text/x-python",
   "name": "python",
   "nbconvert_exporter": "python",
   "pygments_lexer": "ipython2",
   "version": "2.7.6"
  }
 },
 "nbformat": 4,
 "nbformat_minor": 0
}
