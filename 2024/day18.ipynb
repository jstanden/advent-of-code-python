{
 "cells": [
  {
   "cell_type": "code",
   "id": "initial_id",
   "metadata": {
    "collapsed": true,
    "ExecuteTime": {
     "end_time": "2024-12-19T03:00:54.375268Z",
     "start_time": "2024-12-19T03:00:54.370931Z"
    }
   },
   "source": [
    "import lib.aoc.grid2d.grid as grid2d\n",
    "import lib.aoc.grid2d.vector as vector2d\n",
    "from collections import defaultdict\n",
    "from heapq import heappush, heappop"
   ],
   "outputs": [],
   "execution_count": 1
  },
  {
   "metadata": {
    "ExecuteTime": {
     "end_time": "2024-12-19T03:00:54.600105Z",
     "start_time": "2024-12-19T03:00:54.596377Z"
    }
   },
   "cell_type": "code",
   "source": [
    "with open('../data/2024/day18.txt') as f:\n",
    "   data = f.read()"
   ],
   "id": "725555f05f65704e",
   "outputs": [],
   "execution_count": 2
  },
  {
   "metadata": {
    "ExecuteTime": {
     "end_time": "2024-12-19T03:00:54.904660Z",
     "start_time": "2024-12-19T03:00:54.901024Z"
    }
   },
   "cell_type": "code",
   "source": [
    "grid_height, grid_width = 71, 71\n",
    "start, goal = (0, 0), (grid_height - 1, grid_width - 1)\n",
    "grid = grid2d.parse(\"\")\n",
    "grid2d.render(start, goal, lambda yx: (grid.update({yx: '.'})), wrap=False)\n",
    "corrupted_bytes = data.splitlines()"
   ],
   "id": "4ca34c87e6f5fb13",
   "outputs": [],
   "execution_count": 3
  },
  {
   "metadata": {
    "ExecuteTime": {
     "end_time": "2024-12-19T03:00:55.903455Z",
     "start_time": "2024-12-19T03:00:55.897221Z"
    }
   },
   "cell_type": "code",
   "source": [
    "def corrupt_bytes_at_t(t: int):\n",
    "    return [tuple(map(int, reversed(byte.split(','))))\n",
    "            for byte in corrupted_bytes[:t]]\n",
    "\n",
    "def dijkstra():\n",
    "    cost_from_start = defaultdict(lambda: float('inf'))\n",
    "    prev_node = defaultdict(None)\n",
    "    queue = [(0, start)]\n",
    "\n",
    "    while queue:\n",
    "        cost, at = heappop(queue)\n",
    "        if at == goal:\n",
    "            # Rebuild path\n",
    "            path, i = [], at\n",
    "\n",
    "            while True:\n",
    "                if i is None or i == start: break\n",
    "                path.append(i)\n",
    "                i = prev_node[i]\n",
    "\n",
    "            return cost, set(path + [start])\n",
    "\n",
    "        for n_at, tile in grid2d.neighbors(grid, at, vector2d.NESW):\n",
    "            if tile == '#': continue\n",
    "            new_cost = cost + 1\n",
    "\n",
    "            if new_cost < cost_from_start[n_at]:\n",
    "                cost_from_start[n_at] = new_cost\n",
    "                prev_node[n_at] = at\n",
    "                heappush(queue, (new_cost, n_at))\n",
    "    return None, None"
   ],
   "id": "d4b2220df8aa64ff",
   "outputs": [],
   "execution_count": 4
  },
  {
   "metadata": {
    "ExecuteTime": {
     "end_time": "2024-12-19T03:00:59.379987Z",
     "start_time": "2024-12-19T03:00:59.378026Z"
    }
   },
   "cell_type": "code",
   "source": [
    "# Part 1\n",
    "grid.update({yx:'#' for yx in corrupt_bytes_at_t(1024)})\n",
    "part1, best_path = dijkstra()\n",
    "print(\"Part 1:\", part1)"
   ],
   "id": "9b7d46248e254a8",
   "outputs": [
    {
     "name": "stdout",
     "output_type": "stream",
     "text": [
      "Part 1: 264\n"
     ]
    }
   ],
   "execution_count": 5
  },
  {
   "metadata": {
    "ExecuteTime": {
     "end_time": "2024-12-19T03:01:08.467485Z",
     "start_time": "2024-12-19T03:01:07.966908Z"
    }
   },
   "cell_type": "code",
   "source": [
    "# Part 2\n",
    "for t in range(part1, len(corrupted_bytes)):\n",
    "    next_byte = corrupted_bytes[:t][-1:][0]\n",
    "    next_yx = tuple(map(int, reversed(next_byte.split(','))))\n",
    "\n",
    "    # If the new byte wasn't on our best path, it obviously didn't interrupt it\n",
    "    if next_yx not in best_path: continue\n",
    "\n",
    "    # Once a byte landed on our old best path, calculate a new one\n",
    "    if t != part1: grid.update({yx:'#' for yx in corrupt_bytes_at_t(t)})\n",
    "    dist, best_path = dijkstra()\n",
    "\n",
    "    if dist is None:\n",
    "        print(\"Part 2:\", next_byte)\n",
    "        break"
   ],
   "id": "2fc7beb19ea6e511",
   "outputs": [
    {
     "name": "stdout",
     "output_type": "stream",
     "text": [
      "Part 2: 41,26\n"
     ]
    }
   ],
   "execution_count": 6
  }
 ],
 "metadata": {
  "kernelspec": {
   "display_name": "Python 3",
   "language": "python",
   "name": "python3"
  },
  "language_info": {
   "codemirror_mode": {
    "name": "ipython",
    "version": 2
   },
   "file_extension": ".py",
   "mimetype": "text/x-python",
   "name": "python",
   "nbconvert_exporter": "python",
   "pygments_lexer": "ipython2",
   "version": "2.7.6"
  }
 },
 "nbformat": 4,
 "nbformat_minor": 5
}
