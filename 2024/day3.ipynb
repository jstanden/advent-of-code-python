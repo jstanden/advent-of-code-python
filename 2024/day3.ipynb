{
 "cells": [
  {
   "cell_type": "code",
   "id": "initial_id",
   "metadata": {
    "collapsed": true,
    "ExecuteTime": {
     "end_time": "2024-12-05T00:02:30.714593Z",
     "start_time": "2024-12-05T00:02:30.710382Z"
    }
   },
   "source": [
    "import re"
   ],
   "outputs": [],
   "execution_count": 1
  },
  {
   "metadata": {
    "ExecuteTime": {
     "end_time": "2024-12-05T00:02:30.996697Z",
     "start_time": "2024-12-05T00:02:30.994072Z"
    }
   },
   "cell_type": "code",
   "source": [
    "with open('../data/2024/day3.txt', 'r') as f:\n",
    "    data = f.read()"
   ],
   "id": "54a684f0b4b88cab",
   "outputs": [],
   "execution_count": 2
  },
  {
   "metadata": {
    "ExecuteTime": {
     "end_time": "2024-12-05T00:02:31.325317Z",
     "start_time": "2024-12-05T00:02:31.323656Z"
    }
   },
   "cell_type": "code",
   "source": [
    "# Part 1\n",
    "matches = re.findall('mul\\((\\d{1,3}),(\\d{1,3})\\)', data)\n",
    "sum(map(lambda x: int(x[0]) * int(x[1]), matches))"
   ],
   "id": "fc999ccbf431d002",
   "outputs": [
    {
     "data": {
      "text/plain": "160672468"
     },
     "execution_count": 3,
     "metadata": {},
     "output_type": "execute_result"
    }
   ],
   "execution_count": 3
  },
  {
   "metadata": {
    "ExecuteTime": {
     "end_time": "2024-12-05T00:02:31.673045Z",
     "start_time": "2024-12-05T00:02:31.670976Z"
    }
   },
   "cell_type": "code",
   "source": [
    "# Part 2\n",
    "from functools import reduce\n",
    "\n",
    "def process(carry, match):\n",
    "    if carry['enabled'] and match[0].startswith('mul('):\n",
    "        return {'sum': carry['sum'] + int(match[1]) * int(match[2]), 'enabled': True}\n",
    "    elif match[0].startswith('don'):\n",
    "        return {'sum': carry['sum'], 'enabled': False}\n",
    "    elif match[0].startswith('do'):\n",
    "        return {'sum': carry['sum'], 'enabled': True}\n",
    "    else:\n",
    "        return carry\n",
    "\n",
    "matches = re.findall('(mul\\((\\d{1,3}),(\\d{1,3})\\)|do\\(\\)|don\\'t\\(\\))', data)\n",
    "reduce(process, matches, {'sum': 0, 'enabled': True})"
   ],
   "id": "531019c99b0d9137",
   "outputs": [
    {
     "data": {
      "text/plain": "{'sum': 84893551, 'enabled': False}"
     },
     "execution_count": 4,
     "metadata": {},
     "output_type": "execute_result"
    }
   ],
   "execution_count": 4
  },
  {
   "metadata": {},
   "cell_type": "code",
   "outputs": [],
   "execution_count": null,
   "source": [],
   "id": "d0815cea127c87ba"
  }
 ],
 "metadata": {
  "kernelspec": {
   "display_name": "Python 3",
   "language": "python",
   "name": "python3"
  },
  "language_info": {
   "codemirror_mode": {
    "name": "ipython",
    "version": 2
   },
   "file_extension": ".py",
   "mimetype": "text/x-python",
   "name": "python",
   "nbconvert_exporter": "python",
   "pygments_lexer": "ipython2",
   "version": "2.7.6"
  }
 },
 "nbformat": 4,
 "nbformat_minor": 5
}
