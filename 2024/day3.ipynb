{
 "cells": [
  {
   "cell_type": "code",
   "id": "initial_id",
   "metadata": {
    "collapsed": true,
    "ExecuteTime": {
     "end_time": "2024-12-12T01:58:43.662156Z",
     "start_time": "2024-12-12T01:58:43.654789Z"
    }
   },
   "source": [
    "import re"
   ],
   "outputs": [],
   "execution_count": 1
  },
  {
   "metadata": {
    "ExecuteTime": {
     "end_time": "2024-12-12T01:58:43.890943Z",
     "start_time": "2024-12-12T01:58:43.888652Z"
    }
   },
   "cell_type": "code",
   "source": [
    "with open('../data/2024/day3.txt', 'r') as f:\n",
    "    data = f.read()"
   ],
   "id": "54a684f0b4b88cab",
   "outputs": [],
   "execution_count": 2
  },
  {
   "metadata": {
    "ExecuteTime": {
     "end_time": "2024-12-12T01:58:44.162144Z",
     "start_time": "2024-12-12T01:58:44.155712Z"
    }
   },
   "cell_type": "code",
   "source": [
    "# Part 1\n",
    "matches = re.findall('mul\\((\\d{1,3}),(\\d{1,3})\\)', data)\n",
    "print(\"Part 1:\", sum(map(lambda x: int(x[0]) * int(x[1]), matches)))"
   ],
   "id": "fc999ccbf431d002",
   "outputs": [
    {
     "name": "stdout",
     "output_type": "stream",
     "text": [
      "Part 1: 160672468\n"
     ]
    }
   ],
   "execution_count": 3
  },
  {
   "metadata": {
    "ExecuteTime": {
     "end_time": "2024-12-12T01:58:44.913127Z",
     "start_time": "2024-12-12T01:58:44.910074Z"
    }
   },
   "cell_type": "code",
   "source": [
    "# Part 2\n",
    "from functools import reduce\n",
    "\n",
    "def process(carry, match):\n",
    "    if carry['enabled'] and match[0].startswith('mul('):\n",
    "        return {'sum': carry['sum'] + int(match[1]) * int(match[2]), 'enabled': True}\n",
    "    elif match[0].startswith('don'):\n",
    "        return {'sum': carry['sum'], 'enabled': False}\n",
    "    elif match[0].startswith('do'):\n",
    "        return {'sum': carry['sum'], 'enabled': True}\n",
    "    else:\n",
    "        return carry\n",
    "\n",
    "matches = re.findall('(mul\\((\\d{1,3}),(\\d{1,3})\\)|do\\(\\)|don\\'t\\(\\))', data)\n",
    "result = reduce(process, matches, {'sum': 0, 'enabled': True})\n",
    "print(\"Part 2:\", result['sum'])"
   ],
   "id": "531019c99b0d9137",
   "outputs": [
    {
     "name": "stdout",
     "output_type": "stream",
     "text": [
      "Part 2: 84893551\n"
     ]
    }
   ],
   "execution_count": 4
  }
 ],
 "metadata": {
  "kernelspec": {
   "display_name": "Python 3",
   "language": "python",
   "name": "python3"
  },
  "language_info": {
   "codemirror_mode": {
    "name": "ipython",
    "version": 2
   },
   "file_extension": ".py",
   "mimetype": "text/x-python",
   "name": "python",
   "nbconvert_exporter": "python",
   "pygments_lexer": "ipython2",
   "version": "2.7.6"
  }
 },
 "nbformat": 4,
 "nbformat_minor": 5
}
