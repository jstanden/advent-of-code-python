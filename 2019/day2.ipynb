{
 "cells": [
  {
   "metadata": {
    "ExecuteTime": {
     "end_time": "2025-01-02T23:17:36.442367Z",
     "start_time": "2025-01-02T23:17:36.436507Z"
    }
   },
   "cell_type": "code",
   "source": [
    "with open('../data/2019/day2.txt') as f:\n",
    "   data = f.read()"
   ],
   "id": "8f8373ef5a69480",
   "outputs": [],
   "execution_count": 1
  },
  {
   "metadata": {
    "ExecuteTime": {
     "end_time": "2025-01-02T23:17:36.537154Z",
     "start_time": "2025-01-02T23:17:36.534595Z"
    }
   },
   "cell_type": "code",
   "source": [
    "inputs = list(map(int,data.split(',')))\n",
    "\n",
    "def run_computer(memory):\n",
    "    pointer = 0\n",
    "    while True:\n",
    "        opcode = memory[pointer]\n",
    "        if 99 == opcode: break\n",
    "        if 1 == opcode: memory[inputs[pointer+3]] = memory[inputs[pointer+1]] + memory[inputs[pointer+2]]\n",
    "        if 2 == opcode: memory[inputs[pointer+3]] = memory[inputs[pointer+1]] * memory[inputs[pointer+2]]\n",
    "        pointer += 4\n",
    "    return memory"
   ],
   "id": "3095c0d51f6a265",
   "outputs": [],
   "execution_count": 2
  },
  {
   "metadata": {
    "ExecuteTime": {
     "end_time": "2025-01-02T23:17:36.683949Z",
     "start_time": "2025-01-02T23:17:36.681298Z"
    }
   },
   "cell_type": "code",
   "source": [
    "# Part 1\n",
    "memory = list(inputs)\n",
    "memory[1], memory[2] = 12, 2\n",
    "print(f\"Part 1: {run_computer(memory)[0]}\")"
   ],
   "id": "cc22c88cdc66b62c",
   "outputs": [
    {
     "name": "stdout",
     "output_type": "stream",
     "text": [
      "Part 1: 3931283\n"
     ]
    }
   ],
   "execution_count": 3
  },
  {
   "metadata": {
    "ExecuteTime": {
     "end_time": "2025-01-02T23:17:36.867943Z",
     "start_time": "2025-01-02T23:17:36.823948Z"
    }
   },
   "cell_type": "code",
   "source": [
    "# Part 2\n",
    "for n, v in [(n,v) for n in range(100) for v in range(100)]:\n",
    "    memory = list(inputs)\n",
    "    memory[1], memory[2] = n, v\n",
    "    memory = run_computer(memory)\n",
    "    if memory[0] == 19690720:\n",
    "        print(f\"Part 2: {100 * n + v}\")\n",
    "        break"
   ],
   "id": "76e13eea32a7c3d8",
   "outputs": [
    {
     "name": "stdout",
     "output_type": "stream",
     "text": [
      "Part 2: 6979\n"
     ]
    }
   ],
   "execution_count": 4
  }
 ],
 "metadata": {
  "kernelspec": {
   "display_name": "Python 3",
   "language": "python",
   "name": "python3"
  },
  "language_info": {
   "codemirror_mode": {
    "name": "ipython",
    "version": 2
   },
   "file_extension": ".py",
   "mimetype": "text/x-python",
   "name": "python",
   "nbconvert_exporter": "python",
   "pygments_lexer": "ipython2",
   "version": "2.7.6"
  }
 },
 "nbformat": 4,
 "nbformat_minor": 5
}
