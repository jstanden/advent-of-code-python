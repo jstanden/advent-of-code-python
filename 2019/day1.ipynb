{
 "cells": [
  {
   "cell_type": "code",
   "id": "initial_id",
   "metadata": {
    "collapsed": true,
    "ExecuteTime": {
     "end_time": "2025-01-01T05:01:08.481532Z",
     "start_time": "2025-01-01T05:01:08.444570Z"
    }
   },
   "source": "import numpy as np",
   "outputs": [],
   "execution_count": 1
  },
  {
   "metadata": {
    "ExecuteTime": {
     "end_time": "2025-01-01T05:01:08.575674Z",
     "start_time": "2025-01-01T05:01:08.573575Z"
    }
   },
   "cell_type": "code",
   "source": [
    "with open('../data/2019/day1.txt', 'r') as f:\n",
    "    data = f.read()"
   ],
   "id": "e410e3cd21a04288",
   "outputs": [],
   "execution_count": 2
  },
  {
   "metadata": {
    "ExecuteTime": {
     "end_time": "2025-01-01T05:01:08.718310Z",
     "start_time": "2025-01-01T05:01:08.715360Z"
    }
   },
   "cell_type": "code",
   "source": "masses = np.array(list(map(int, data.splitlines())))",
   "id": "b34ac82ee302434b",
   "outputs": [],
   "execution_count": 3
  },
  {
   "metadata": {
    "ExecuteTime": {
     "end_time": "2025-01-01T05:01:08.864322Z",
     "start_time": "2025-01-01T05:01:08.861007Z"
    }
   },
   "cell_type": "code",
   "source": [
    "# Part 1\n",
    "fuel = np.subtract(np.floor(np.divide(masses, 3)),2)\n",
    "print(\"Part 1:\", int(np.sum(fuel)))"
   ],
   "id": "d51d71e3a0f8a6bd",
   "outputs": [
    {
     "name": "stdout",
     "output_type": "stream",
     "text": [
      "Part 1: 3465154\n"
     ]
    }
   ],
   "execution_count": 4
  },
  {
   "metadata": {
    "ExecuteTime": {
     "end_time": "2025-01-01T05:01:09.006782Z",
     "start_time": "2025-01-01T05:01:09.003681Z"
    }
   },
   "cell_type": "code",
   "source": [
    "# Part 2\n",
    "part2 = np.sum(fuel)\n",
    "while fuel.size > 0:\n",
    "    fuel = np.subtract(np.floor(np.divide(fuel, 3)),2)\n",
    "    fuel = fuel[fuel >= 0]\n",
    "    part2 += np.sum(fuel)\n",
    "print(\"Part 2:\", int(part2))"
   ],
   "id": "2480792ba17b4a3c",
   "outputs": [
    {
     "name": "stdout",
     "output_type": "stream",
     "text": [
      "Part 2: 5194864\n"
     ]
    }
   ],
   "execution_count": 5
  }
 ],
 "metadata": {
  "kernelspec": {
   "display_name": "Python 3",
   "language": "python",
   "name": "python3"
  },
  "language_info": {
   "codemirror_mode": {
    "name": "ipython",
    "version": 2
   },
   "file_extension": ".py",
   "mimetype": "text/x-python",
   "name": "python",
   "nbconvert_exporter": "python",
   "pygments_lexer": "ipython2",
   "version": "2.7.6"
  }
 },
 "nbformat": 4,
 "nbformat_minor": 5
}
