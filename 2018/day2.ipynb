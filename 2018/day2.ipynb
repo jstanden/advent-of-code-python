{
 "cells": [
  {
   "cell_type": "code",
   "id": "initial_id",
   "metadata": {
    "collapsed": true,
    "ExecuteTime": {
     "end_time": "2025-01-02T22:52:00.955600Z",
     "start_time": "2025-01-02T22:52:00.950210Z"
    }
   },
   "source": [
    "from collections import Counter\n",
    "from itertools import combinations"
   ],
   "outputs": [],
   "execution_count": 1
  },
  {
   "metadata": {
    "ExecuteTime": {
     "end_time": "2025-01-02T22:52:01.059631Z",
     "start_time": "2025-01-02T22:52:01.057417Z"
    }
   },
   "cell_type": "code",
   "source": [
    "with open('../data/2018/day2.txt', 'r') as f:\n",
    "   data = f.read()\n",
    "\n",
    "boxes = [list(line) for line in data.splitlines()]"
   ],
   "id": "6fc79e1cddbdeb0a",
   "outputs": [],
   "execution_count": 2
  },
  {
   "metadata": {
    "ExecuteTime": {
     "end_time": "2025-01-02T22:52:01.206299Z",
     "start_time": "2025-01-02T22:52:01.201143Z"
    }
   },
   "cell_type": "code",
   "source": [
    "# Part 1\n",
    "twos, threes = 0, 0\n",
    "for box in boxes:\n",
    "    counts = Counter(box).values()\n",
    "    twos += 1 if list(filter(lambda n: n == 2, counts)) else 0\n",
    "    threes += 1 if list(filter(lambda n: n == 3, counts)) else 0\n",
    "print(\"Part 1:\", twos * threes)"
   ],
   "id": "fc21ac9b32300f20",
   "outputs": [
    {
     "name": "stdout",
     "output_type": "stream",
     "text": [
      "Part 1: 7533\n"
     ]
    }
   ],
   "execution_count": 3
  },
  {
   "metadata": {
    "ExecuteTime": {
     "end_time": "2025-01-02T22:52:01.359288Z",
     "start_time": "2025-01-02T22:52:01.322659Z"
    }
   },
   "cell_type": "code",
   "source": [
    "# Part 2\n",
    "for pair in list(combinations(sorted(boxes), 2)):\n",
    "    result = [l for i,l in enumerate(pair[0]) if pair[1][i] == l]\n",
    "    if len(pair[0])-1 == len(result):\n",
    "        print(\"Part 2:\", \"\".join(result))\n",
    "        break"
   ],
   "id": "ef3b926430e18bdc",
   "outputs": [
    {
     "name": "stdout",
     "output_type": "stream",
     "text": [
      "Part 2: mphcuasvrnjzzkbgdtqeoylva\n"
     ]
    }
   ],
   "execution_count": 4
  }
 ],
 "metadata": {
  "kernelspec": {
   "display_name": "Python 3",
   "language": "python",
   "name": "python3"
  },
  "language_info": {
   "codemirror_mode": {
    "name": "ipython",
    "version": 2
   },
   "file_extension": ".py",
   "mimetype": "text/x-python",
   "name": "python",
   "nbconvert_exporter": "python",
   "pygments_lexer": "ipython2",
   "version": "2.7.6"
  }
 },
 "nbformat": 4,
 "nbformat_minor": 5
}
