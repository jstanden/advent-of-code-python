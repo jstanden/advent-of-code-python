{
 "cells": [
  {
   "metadata": {
    "ExecuteTime": {
     "end_time": "2025-01-01T04:39:07.193585Z",
     "start_time": "2025-01-01T04:39:07.188753Z"
    }
   },
   "cell_type": "code",
   "source": "from itertools import cycle",
   "id": "b9d805686ce0be63",
   "outputs": [],
   "execution_count": 1
  },
  {
   "metadata": {
    "ExecuteTime": {
     "end_time": "2025-01-01T04:39:07.307980Z",
     "start_time": "2025-01-01T04:39:07.305803Z"
    }
   },
   "cell_type": "code",
   "source": [
    "with open('../data/2018/day1.txt', 'r') as f:\n",
    "    data = f.read()"
   ],
   "id": "e6cb63a308fd4a01",
   "outputs": [],
   "execution_count": 2
  },
  {
   "metadata": {
    "ExecuteTime": {
     "end_time": "2025-01-01T04:39:07.462233Z",
     "start_time": "2025-01-01T04:39:07.459456Z"
    }
   },
   "cell_type": "code",
   "source": "deltas = list(map(int, data.splitlines()))",
   "id": "8e4bd1b5fc6a9482",
   "outputs": [],
   "execution_count": 3
  },
  {
   "metadata": {
    "ExecuteTime": {
     "end_time": "2025-01-01T04:39:07.596806Z",
     "start_time": "2025-01-01T04:39:07.594544Z"
    }
   },
   "cell_type": "code",
   "source": "print(\"Part 1:\", sum(deltas))",
   "id": "77079443a072d310",
   "outputs": [
    {
     "name": "stdout",
     "output_type": "stream",
     "text": [
      "Part 1: 406\n"
     ]
    }
   ],
   "execution_count": 4
  },
  {
   "metadata": {
    "ExecuteTime": {
     "end_time": "2025-01-01T04:39:10.205455Z",
     "start_time": "2025-01-01T04:39:10.176143Z"
    }
   },
   "cell_type": "code",
   "source": [
    "# Part 2\n",
    "frequencies, frequency = {0}, 0\n",
    "for delta in cycle(deltas):\n",
    "    frequency += delta\n",
    "    if frequency in frequencies:\n",
    "        print(\"Part 2:\", frequency)\n",
    "        break\n",
    "    frequencies.add(frequency)"
   ],
   "id": "7cf288f5d12e15a4",
   "outputs": [
    {
     "name": "stdout",
     "output_type": "stream",
     "text": [
      "Part 2: 312\n"
     ]
    }
   ],
   "execution_count": 5
  }
 ],
 "metadata": {
  "kernelspec": {
   "display_name": "Python 3",
   "language": "python",
   "name": "python3"
  },
  "language_info": {
   "codemirror_mode": {
    "name": "ipython",
    "version": 2
   },
   "file_extension": ".py",
   "mimetype": "text/x-python",
   "name": "python",
   "nbconvert_exporter": "python",
   "pygments_lexer": "ipython2",
   "version": "2.7.6"
  }
 },
 "nbformat": 4,
 "nbformat_minor": 5
}
