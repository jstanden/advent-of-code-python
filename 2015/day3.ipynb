{
 "cells": [
  {
   "cell_type": "code",
   "execution_count": 1,
   "outputs": [],
   "source": [
    "import lib.aoc.grid2d.vector as vector2d"
   ],
   "metadata": {
    "collapsed": false,
    "ExecuteTime": {
     "end_time": "2024-12-12T02:40:55.878941Z",
     "start_time": "2024-12-12T02:40:55.875833Z"
    }
   }
  },
  {
   "cell_type": "code",
   "execution_count": 2,
   "outputs": [],
   "source": [
    "with open('../data/2015/day3.txt') as f:\n",
    "    data = f.read()"
   ],
   "metadata": {
    "collapsed": false,
    "ExecuteTime": {
     "end_time": "2024-12-12T02:40:56.132836Z",
     "start_time": "2024-12-12T02:40:56.127177Z"
    }
   }
  },
  {
   "cell_type": "code",
   "execution_count": 3,
   "outputs": [],
   "source": [
    "vectors = {'^':(-1,0), '>':(0,1), 'v':(1,0), '<':(0,-1)}"
   ],
   "metadata": {
    "collapsed": false,
    "ExecuteTime": {
     "end_time": "2024-12-12T02:40:56.390595Z",
     "start_time": "2024-12-12T02:40:56.386190Z"
    }
   }
  },
  {
   "cell_type": "code",
   "execution_count": 4,
   "outputs": [
    {
     "name": "stdout",
     "output_type": "stream",
     "text": [
      "Part 1: 2572\n"
     ]
    }
   ],
   "source": [
    "# Part 1\n",
    "santa_at = (0,0)\n",
    "visited = set()\n",
    "visited.add(santa_at)\n",
    "\n",
    "for d in list(data):\n",
    "    santa_at = vector2d.add(santa_at, vectors[d])\n",
    "    visited.add(santa_at)\n",
    "\n",
    "print(f\"Part 1: {len(visited)}\")"
   ],
   "metadata": {
    "collapsed": false,
    "ExecuteTime": {
     "end_time": "2024-12-12T02:40:56.714146Z",
     "start_time": "2024-12-12T02:40:56.706316Z"
    }
   }
  },
  {
   "cell_type": "code",
   "execution_count": 5,
   "outputs": [
    {
     "name": "stdout",
     "output_type": "stream",
     "text": [
      "Part 2: 2631\n"
     ]
    }
   ],
   "source": [
    "# Part 2\n",
    "santa_at, robo_santa_at = (0,0), (0,0)\n",
    "visited = set()\n",
    "visited.add(santa_at)\n",
    "\n",
    "for i, d in enumerate(list(data)):\n",
    "    if 0 == i % 2:\n",
    "        robo_santa_at = vector2d.add(robo_santa_at, vectors[d])\n",
    "        visited.add(robo_santa_at)\n",
    "    else:\n",
    "        santa_at = vector2d.add(santa_at, vectors[d])\n",
    "        visited.add(santa_at)\n",
    "\n",
    "print(f\"Part 2: {len(visited)}\")"
   ],
   "metadata": {
    "collapsed": false,
    "ExecuteTime": {
     "end_time": "2024-12-12T02:40:57.106402Z",
     "start_time": "2024-12-12T02:40:57.102469Z"
    }
   }
  }
 ],
 "metadata": {
  "kernelspec": {
   "display_name": "Python 3",
   "language": "python",
   "name": "python3"
  },
  "language_info": {
   "codemirror_mode": {
    "name": "ipython",
    "version": 2
   },
   "file_extension": ".py",
   "mimetype": "text/x-python",
   "name": "python",
   "nbconvert_exporter": "python",
   "pygments_lexer": "ipython2",
   "version": "2.7.6"
  }
 },
 "nbformat": 4,
 "nbformat_minor": 0
}
