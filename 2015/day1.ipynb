{
 "cells": [
  {
   "cell_type": "code",
   "execution_count": 1,
   "metadata": {
    "collapsed": true,
    "ExecuteTime": {
     "end_time": "2024-12-06T22:15:33.923151Z",
     "start_time": "2024-12-06T22:15:33.919545Z"
    }
   },
   "outputs": [],
   "source": [
    "from collections import Counter"
   ]
  },
  {
   "cell_type": "code",
   "execution_count": 2,
   "outputs": [],
   "source": [
    "with open(\"../data/2015/day1.txt\") as f:\n",
    "    data = f.read()"
   ],
   "metadata": {
    "collapsed": false,
    "ExecuteTime": {
     "end_time": "2024-12-06T22:15:34.178483Z",
     "start_time": "2024-12-06T22:15:34.176719Z"
    }
   }
  },
  {
   "cell_type": "code",
   "execution_count": 3,
   "outputs": [
    {
     "name": "stdout",
     "output_type": "stream",
     "text": [
      "Part 1: 232\n"
     ]
    }
   ],
   "source": [
    "# Part 1\n",
    "print(\"Part 1:\", sum([n * (-1 if ')' == c else 1) for c,n in Counter(data).items()]))"
   ],
   "metadata": {
    "collapsed": false,
    "ExecuteTime": {
     "end_time": "2024-12-06T22:15:34.410658Z",
     "start_time": "2024-12-06T22:15:34.409143Z"
    }
   }
  },
  {
   "cell_type": "code",
   "execution_count": 4,
   "outputs": [
    {
     "name": "stdout",
     "output_type": "stream",
     "text": [
      "Part 2: 1783\n"
     ]
    }
   ],
   "source": [
    "# Part 2\n",
    "print(\"Part 2: \", end='')\n",
    "floor: int = 0\n",
    "for i,c in enumerate(list(data)):\n",
    "    floor += 1 if c == '(' else -1\n",
    "    if -1 ==  floor:\n",
    "        print(i+1)\n",
    "        break"
   ],
   "metadata": {
    "collapsed": false,
    "ExecuteTime": {
     "end_time": "2024-12-06T22:15:34.600668Z",
     "start_time": "2024-12-06T22:15:34.598404Z"
    }
   }
  }
 ],
 "metadata": {
  "kernelspec": {
   "display_name": "Python 3",
   "language": "python",
   "name": "python3"
  },
  "language_info": {
   "codemirror_mode": {
    "name": "ipython",
    "version": 2
   },
   "file_extension": ".py",
   "mimetype": "text/x-python",
   "name": "python",
   "nbconvert_exporter": "python",
   "pygments_lexer": "ipython2",
   "version": "2.7.6"
  }
 },
 "nbformat": 4,
 "nbformat_minor": 0
}
