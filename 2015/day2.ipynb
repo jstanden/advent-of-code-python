{
 "cells": [
  {
   "cell_type": "code",
   "execution_count": 1,
   "outputs": [],
   "source": [
    "with open('../data/2015/day2.txt') as f:\n",
    "    data = f.read()"
   ],
   "metadata": {
    "collapsed": false,
    "ExecuteTime": {
     "end_time": "2024-12-06T23:41:21.098420Z",
     "start_time": "2024-12-06T23:41:21.094331Z"
    }
   }
  },
  {
   "cell_type": "code",
   "execution_count": 2,
   "outputs": [
    {
     "name": "stdout",
     "output_type": "stream",
     "text": [
      "Part 1: 1598415\n"
     ]
    }
   ],
   "source": [
    "# Part 1\n",
    "areas = [(x*y,z*y,x*z) for x,y,z in [map(int,present.split('x')) for present in data.splitlines()]]\n",
    "print(\"Part 1:\", sum([2*x + 2*y + 2*z + min(x,y,z) for x,y,z in areas]))"
   ],
   "metadata": {
    "collapsed": false,
    "ExecuteTime": {
     "end_time": "2024-12-06T23:41:21.188866Z",
     "start_time": "2024-12-06T23:41:21.186988Z"
    }
   }
  },
  {
   "cell_type": "code",
   "execution_count": 3,
   "outputs": [
    {
     "name": "stdout",
     "output_type": "stream",
     "text": [
      "Part 2: 3812909\n"
     ]
    }
   ],
   "source": [
    "# Part 2\n",
    "ribbon = [(min(2*(x+y),2*(y+z),2*(x+z)),x*y*z)\n",
    "          for x,y,z in [map(int,present.split('x'))\n",
    "                        for present in data.splitlines()]]\n",
    "print(\"Part 2:\", sum([item for sublist in ribbon for item in sublist]))"
   ],
   "metadata": {
    "collapsed": false,
    "ExecuteTime": {
     "end_time": "2024-12-06T23:41:21.864496Z",
     "start_time": "2024-12-06T23:41:21.861691Z"
    }
   }
  }
 ],
 "metadata": {
  "kernelspec": {
   "display_name": "Python 3",
   "language": "python",
   "name": "python3"
  },
  "language_info": {
   "codemirror_mode": {
    "name": "ipython",
    "version": 2
   },
   "file_extension": ".py",
   "mimetype": "text/x-python",
   "name": "python",
   "nbconvert_exporter": "python",
   "pygments_lexer": "ipython2",
   "version": "2.7.6"
  }
 },
 "nbformat": 4,
 "nbformat_minor": 0
}
