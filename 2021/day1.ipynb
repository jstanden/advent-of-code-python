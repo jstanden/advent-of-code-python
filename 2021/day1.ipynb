{
 "cells": [
  {
   "metadata": {
    "ExecuteTime": {
     "end_time": "2025-01-01T05:48:52.398776Z",
     "start_time": "2025-01-01T05:48:52.360584Z"
    }
   },
   "cell_type": "code",
   "source": "import numpy as np",
   "id": "e74d6f14329401a5",
   "outputs": [],
   "execution_count": 1
  },
  {
   "metadata": {
    "ExecuteTime": {
     "end_time": "2025-01-01T05:48:52.488691Z",
     "start_time": "2025-01-01T05:48:52.486609Z"
    }
   },
   "cell_type": "code",
   "source": [
    "with open('../data/2021/day1.txt', 'r') as f:\n",
    "    data = f.read()"
   ],
   "id": "85b24b1d0dd290f1",
   "outputs": [],
   "execution_count": 2
  },
  {
   "metadata": {
    "ExecuteTime": {
     "end_time": "2025-01-01T05:48:52.643896Z",
     "start_time": "2025-01-01T05:48:52.640333Z"
    }
   },
   "cell_type": "code",
   "source": [
    "measurements = list(map(int, data.splitlines()))\n",
    "deltas = list(map(lambda m: m[1]-m[0], zip(measurements, measurements[1:])))"
   ],
   "id": "3d4415b4514988fa",
   "outputs": [],
   "execution_count": 3
  },
  {
   "metadata": {
    "ExecuteTime": {
     "end_time": "2025-01-01T05:48:52.770216Z",
     "start_time": "2025-01-01T05:48:52.767454Z"
    }
   },
   "cell_type": "code",
   "source": [
    "# Part 1\n",
    "print(\"Part 1:\", len(list(filter(lambda m: m>0, deltas))))"
   ],
   "id": "2d4e4a67042895df",
   "outputs": [
    {
     "name": "stdout",
     "output_type": "stream",
     "text": [
      "Part 1: 1226\n"
     ]
    }
   ],
   "execution_count": 4
  },
  {
   "metadata": {
    "ExecuteTime": {
     "end_time": "2025-01-01T05:48:52.929166Z",
     "start_time": "2025-01-01T05:48:52.925714Z"
    }
   },
   "cell_type": "code",
   "source": [
    "# Part 2\n",
    "sums = np.sum(np.lib.stride_tricks.sliding_window_view(np.array(measurements), window_shape=3), axis=1)\n",
    "deltas = np.lib.stride_tricks.sliding_window_view(sums, window_shape=2)\n",
    "deltas = deltas[:, 1] - deltas[:, 0]\n",
    "print(\"Part 2:\", len(deltas[deltas > 0]))"
   ],
   "id": "30275e07926b9577",
   "outputs": [
    {
     "name": "stdout",
     "output_type": "stream",
     "text": [
      "Part 2: 1252\n"
     ]
    }
   ],
   "execution_count": 5
  }
 ],
 "metadata": {
  "kernelspec": {
   "display_name": "Python 3",
   "language": "python",
   "name": "python3"
  },
  "language_info": {
   "codemirror_mode": {
    "name": "ipython",
    "version": 2
   },
   "file_extension": ".py",
   "mimetype": "text/x-python",
   "name": "python",
   "nbconvert_exporter": "python",
   "pygments_lexer": "ipython2",
   "version": "2.7.6"
  }
 },
 "nbformat": 4,
 "nbformat_minor": 5
}
