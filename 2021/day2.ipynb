{
 "cells": [
  {
   "metadata": {
    "ExecuteTime": {
     "end_time": "2025-01-02T23:49:14.737063Z",
     "start_time": "2025-01-02T23:49:14.730829Z"
    }
   },
   "cell_type": "code",
   "source": [
    "with open('../data/2021/day2.txt') as f:\n",
    "   data = f.read()"
   ],
   "id": "4077ced1d7b79d99",
   "outputs": [],
   "execution_count": 1
  },
  {
   "metadata": {
    "ExecuteTime": {
     "end_time": "2025-01-02T23:49:14.846941Z",
     "start_time": "2025-01-02T23:49:14.844976Z"
    }
   },
   "cell_type": "code",
   "source": "instructions = [line.split(' ') for line in data.splitlines()]",
   "id": "bd91da6f37857abc",
   "outputs": [],
   "execution_count": 2
  },
  {
   "metadata": {
    "ExecuteTime": {
     "end_time": "2025-01-02T23:49:14.985400Z",
     "start_time": "2025-01-02T23:49:14.981522Z"
    }
   },
   "cell_type": "code",
   "source": [
    "# Part 1\n",
    "at = [0,0,0] # horizontal, depth\n",
    "for direction, steps in instructions:\n",
    "    steps = int(steps)\n",
    "    if direction == 'forward': at[0] += steps\n",
    "    elif direction == 'down': at[1] += steps\n",
    "    elif direction == 'up': at[1] -= steps\n",
    "print(f\"Part 1: {at[0] * at[1]}\")"
   ],
   "id": "2c99736c79bd166b",
   "outputs": [
    {
     "name": "stdout",
     "output_type": "stream",
     "text": [
      "Part 1: 2147104\n"
     ]
    }
   ],
   "execution_count": 3
  },
  {
   "metadata": {
    "ExecuteTime": {
     "end_time": "2025-01-02T23:49:15.774087Z",
     "start_time": "2025-01-02T23:49:15.768750Z"
    }
   },
   "cell_type": "code",
   "source": [
    "# Part 2\n",
    "at = [0,0,0] # horizontal, depth, aim\n",
    "for direction, steps in instructions:\n",
    "    steps = int(steps)\n",
    "    if direction == 'forward':\n",
    "        at[0] += steps\n",
    "        at[1] += at[2] * steps\n",
    "    elif direction == 'down': at[2] += steps\n",
    "    elif direction == 'up': at[2] -= steps\n",
    "print(f\"Part 2: {at[0] * at[1]}\")"
   ],
   "id": "53a80b19f849a975",
   "outputs": [
    {
     "name": "stdout",
     "output_type": "stream",
     "text": [
      "Part 2: 2044620088\n"
     ]
    }
   ],
   "execution_count": 4
  }
 ],
 "metadata": {
  "kernelspec": {
   "display_name": "Python 3",
   "language": "python",
   "name": "python3"
  },
  "language_info": {
   "codemirror_mode": {
    "name": "ipython",
    "version": 2
   },
   "file_extension": ".py",
   "mimetype": "text/x-python",
   "name": "python",
   "nbconvert_exporter": "python",
   "pygments_lexer": "ipython2",
   "version": "2.7.6"
  }
 },
 "nbformat": 4,
 "nbformat_minor": 5
}
