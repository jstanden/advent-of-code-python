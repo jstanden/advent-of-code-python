{
 "cells": [
  {
   "cell_type": "code",
   "execution_count": 1,
   "metadata": {
    "collapsed": true,
    "ExecuteTime": {
     "end_time": "2024-12-12T02:37:51.414500Z",
     "start_time": "2024-12-12T02:37:51.411410Z"
    }
   },
   "outputs": [],
   "source": [
    "import re\n",
    "from itertools import chain"
   ]
  },
  {
   "cell_type": "code",
   "execution_count": 2,
   "outputs": [],
   "source": [
    "with open('../data/2017/day1.txt') as f:\n",
    "    data = f.read()"
   ],
   "metadata": {
    "collapsed": false,
    "ExecuteTime": {
     "end_time": "2024-12-12T02:37:51.749931Z",
     "start_time": "2024-12-12T02:37:51.746858Z"
    }
   }
  },
  {
   "cell_type": "code",
   "execution_count": 3,
   "outputs": [
    {
     "name": "stdout",
     "output_type": "stream",
     "text": [
      "Part 1: 1393\n"
     ]
    }
   ],
   "source": [
    "# Part 1\n",
    "numbers = [line + line[0] for line in data.splitlines()]\n",
    "matches = [list(map(int,re.findall(r'(?=(\\d)\\1)', n))) for n in numbers]\n",
    "print(\"Part 1:\", sum(list(chain.from_iterable(matches))))"
   ],
   "metadata": {
    "collapsed": false,
    "ExecuteTime": {
     "end_time": "2024-12-12T02:37:52.817673Z",
     "start_time": "2024-12-12T02:37:52.813949Z"
    }
   }
  },
  {
   "cell_type": "code",
   "execution_count": 4,
   "outputs": [
    {
     "name": "stdout",
     "output_type": "stream",
     "text": [
      "Part 2: 1292\n"
     ]
    }
   ],
   "source": [
    "# Part 2\n",
    "digits = list(data)\n",
    "print(\"Part 2:\", sum([int(digit)\n",
    "                      for i,digit in enumerate(digits)\n",
    "                      if digit == digits[int((i+len(digits)/2) % len(digits))]]))"
   ],
   "metadata": {
    "collapsed": false,
    "ExecuteTime": {
     "end_time": "2024-12-12T02:37:53.521606Z",
     "start_time": "2024-12-12T02:37:53.515257Z"
    }
   }
  }
 ],
 "metadata": {
  "kernelspec": {
   "display_name": "Python 3",
   "language": "python",
   "name": "python3"
  },
  "language_info": {
   "codemirror_mode": {
    "name": "ipython",
    "version": 2
   },
   "file_extension": ".py",
   "mimetype": "text/x-python",
   "name": "python",
   "nbconvert_exporter": "python",
   "pygments_lexer": "ipython2",
   "version": "2.7.6"
  }
 },
 "nbformat": 4,
 "nbformat_minor": 0
}
