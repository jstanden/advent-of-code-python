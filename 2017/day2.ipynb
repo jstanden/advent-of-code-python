{
 "cells": [
  {
   "cell_type": "code",
   "id": "initial_id",
   "metadata": {
    "collapsed": true,
    "ExecuteTime": {
     "end_time": "2025-01-02T22:33:06.039285Z",
     "start_time": "2025-01-02T22:33:06.033463Z"
    }
   },
   "source": "from itertools import combinations",
   "outputs": [],
   "execution_count": 1
  },
  {
   "metadata": {
    "ExecuteTime": {
     "end_time": "2025-01-02T22:33:06.286595Z",
     "start_time": "2025-01-02T22:33:06.283873Z"
    }
   },
   "cell_type": "code",
   "source": [
    "with open('../data/2017/day2.txt', 'r') as f:\n",
    "   data = f.read()"
   ],
   "id": "f6ac94f957f68b8",
   "outputs": [],
   "execution_count": 2
  },
  {
   "metadata": {
    "ExecuteTime": {
     "end_time": "2025-01-02T22:33:06.544830Z",
     "start_time": "2025-01-02T22:33:06.541555Z"
    }
   },
   "cell_type": "code",
   "source": "rows = [list(map(int,line.split(','))) for line in data.replace('\\t',',').splitlines()]",
   "id": "6991c52f08a9881b",
   "outputs": [],
   "execution_count": 3
  },
  {
   "metadata": {
    "ExecuteTime": {
     "end_time": "2025-01-02T22:33:06.834767Z",
     "start_time": "2025-01-02T22:33:06.831396Z"
    }
   },
   "cell_type": "code",
   "source": [
    "# Part 1\n",
    "print(\"Part 1:\", sum([max(row)-min(row) for row in rows]))"
   ],
   "id": "5d3f908d3256a0e5",
   "outputs": [
    {
     "name": "stdout",
     "output_type": "stream",
     "text": [
      "Part 1: 51833\n"
     ]
    }
   ],
   "execution_count": 4
  },
  {
   "metadata": {
    "ExecuteTime": {
     "end_time": "2025-01-02T22:33:09.272218Z",
     "start_time": "2025-01-02T22:33:09.267222Z"
    }
   },
   "cell_type": "code",
   "source": [
    "# Part 2\n",
    "part2 = 0\n",
    "for row in rows:\n",
    "    for pair in list(combinations(row, 2)):\n",
    "        u, v = sorted(pair)\n",
    "        if 0 == v % u:\n",
    "            part2 += v // u\n",
    "            break\n",
    "print(\"Part 2:\", part2)"
   ],
   "id": "6e2a986c7b2ccd18",
   "outputs": [
    {
     "name": "stdout",
     "output_type": "stream",
     "text": [
      "Part 2: 288\n"
     ]
    }
   ],
   "execution_count": 5
  }
 ],
 "metadata": {
  "kernelspec": {
   "display_name": "Python 3",
   "language": "python",
   "name": "python3"
  },
  "language_info": {
   "codemirror_mode": {
    "name": "ipython",
    "version": 2
   },
   "file_extension": ".py",
   "mimetype": "text/x-python",
   "name": "python",
   "nbconvert_exporter": "python",
   "pygments_lexer": "ipython2",
   "version": "2.7.6"
  }
 },
 "nbformat": 4,
 "nbformat_minor": 5
}
